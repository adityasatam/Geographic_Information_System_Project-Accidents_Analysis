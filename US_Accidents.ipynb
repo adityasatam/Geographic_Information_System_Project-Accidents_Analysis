{
 "cells": [
  {
   "cell_type": "code",
   "execution_count": 1,
   "id": "89a9a58f",
   "metadata": {},
   "outputs": [],
   "source": [
    "import numpy as np # linear algebra\n",
    "import pandas as pd # data processing, CSV file I/O (e.g. pd.read_csv)\n",
    "\n",
    "import os\n",
    "for dirname, _, filenames in os.walk('/home/aditya/Downloads/US_Accidents/US_Accidents_Dec20_3rd_copy.csv'):\n",
    "    for filename in filenames:\n",
    "        print(os.path.join(dirname, filename))"
   ]
  },
  {
   "cell_type": "code",
   "execution_count": 2,
   "id": "85bc35e2",
   "metadata": {},
   "outputs": [
    {
     "data": {
      "text/html": [
       "        <script type=\"text/javascript\">\n",
       "        window.PlotlyConfig = {MathJaxConfig: 'local'};\n",
       "        if (window.MathJax) {MathJax.Hub.Config({SVG: {font: \"STIX-Web\"}});}\n",
       "        if (typeof require !== 'undefined') {\n",
       "        require.undef(\"plotly\");\n",
       "        requirejs.config({\n",
       "            paths: {\n",
       "                'plotly': ['https://cdn.plot.ly/plotly-latest.min']\n",
       "            }\n",
       "        });\n",
       "        require(['plotly'], function(Plotly) {\n",
       "            window._Plotly = Plotly;\n",
       "        });\n",
       "        }\n",
       "        </script>\n",
       "        "
      ]
     },
     "metadata": {},
     "output_type": "display_data"
    }
   ],
   "source": [
    "from matplotlib import pyplot as plt\n",
    "import seaborn as sns\n",
    "import plotly.express as px\n",
    "from plotly.offline import init_notebook_mode, iplot\n",
    "import plotly.graph_objects as go\n",
    "import warnings\n",
    "import statsmodels\n",
    "from statsmodels.graphics.tsaplots import plot_acf, plot_pacf\n",
    "from statsmodels.tsa.api import VAR\n",
    "from scipy.stats import pearsonr\n",
    "import gc\n",
    "\n",
    "init_notebook_mode(connected=True)\n",
    "\n",
    "warnings.filterwarnings(\"ignore\")\n",
    "\n",
    "%matplotlib inline"
   ]
  },
  {
   "cell_type": "code",
   "execution_count": 3,
   "id": "9cf8f77e",
   "metadata": {},
   "outputs": [
    {
     "data": {
      "text/plain": [
       "Index(['ID', 'Source', 'TMC', 'Severity', 'Start_Time', 'End_Time',\n",
       "       'Start_Lat', 'Start_Lng', 'End_Lat', 'End_Lng', 'Distance(mi)',\n",
       "       'Description', 'Number', 'Street', 'Side', 'City', 'County', 'State',\n",
       "       'Zipcode', 'Country', 'Timezone', 'Airport_Code', 'Weather_Timestamp',\n",
       "       'Temperature(F)', 'Wind_Chill(F)', 'Humidity(%)', 'Pressure(in)',\n",
       "       'Visibility(mi)', 'Wind_Direction', 'Wind_Speed(mph)',\n",
       "       'Precipitation(in)', 'Weather_Condition', 'Amenity', 'Bump', 'Crossing',\n",
       "       'Give_Way', 'Junction', 'No_Exit', 'Railway', 'Roundabout', 'Station',\n",
       "       'Stop', 'Traffic_Calming', 'Traffic_Signal', 'Turning_Loop',\n",
       "       'Sunrise_Sunset', 'Civil_Twilight', 'Nautical_Twilight',\n",
       "       'Astronomical_Twilight'],\n",
       "      dtype='object')"
      ]
     },
     "execution_count": 3,
     "metadata": {},
     "output_type": "execute_result"
    }
   ],
   "source": [
    "data_file = '/home/aditya/Downloads/US_Accidents/US_Accidents_Dec20_3rd_copy.csv'\n",
    "df = pd.read_csv(data_file)\n",
    "train_df=df\n",
    "df.columns"
   ]
  },
  {
   "cell_type": "markdown",
   "id": "1e020a50",
   "metadata": {},
   "source": [
    "# CLEANING DATA"
   ]
  },
  {
   "cell_type": "code",
   "execution_count": 4,
   "id": "4a5afa2a",
   "metadata": {},
   "outputs": [],
   "source": [
    "df.drop(columns=['End_Lat', 'End_Lng' ,'Number', 'Airport_Code' ,'Weather_Timestamp' , 'TMC' , \n",
    "                 'Civil_Twilight', 'Nautical_Twilight', 'Astronomical_Twilight',\n",
    "                 'Country','ID', 'Source','Timezone'], inplace=True)"
   ]
  },
  {
   "cell_type": "code",
   "execution_count": 5,
   "id": "37e449d4",
   "metadata": {},
   "outputs": [],
   "source": [
    "from pprint import pprint\n",
    "def sanity_check(df):\n",
    "    pprint('-'*70)\n",
    "    pprint('No. of Row : {0[0]}        No. of Columns : {0[1]}'.format(df.shape))\n",
    "    pprint('-'*70)\n",
    "    data_profile = pd.DataFrame(df.dtypes.reset_index()).rename(columns = {'index' : 'Attribute' ,\n",
    "                                                                           0 : 'DataType'}).set_index('Attribute')\n",
    "    data_profile = pd.concat([data_profile,df.isnull().sum()], axis=1).rename(columns = {0 : 'Missing Values'})\n",
    "    data_profile = pd.concat([data_profile,df.nunique()], axis=1).rename(columns = {0 : 'Unique Values'})\n",
    "    pprint(data_profile)\n",
    "    pprint('-'*70)"
   ]
  },
  {
   "cell_type": "code",
   "execution_count": 6,
   "id": "d570e685",
   "metadata": {},
   "outputs": [],
   "source": [
    "df.dropna(subset=['City','Sunrise_Sunset','Description'], inplace=True)"
   ]
  },
  {
   "cell_type": "code",
   "execution_count": 7,
   "id": "7239f817",
   "metadata": {},
   "outputs": [],
   "source": [
    "\n",
    "\n",
    "df['Start_Time'] = pd.to_datetime(df['Start_Time'])\n",
    "df['End_Time'] = pd.to_datetime(df['End_Time'])\n",
    "\n"
   ]
  },
  {
   "cell_type": "code",
   "execution_count": 8,
   "id": "b2651c22",
   "metadata": {},
   "outputs": [
    {
     "name": "stdout",
     "output_type": "stream",
     "text": [
      "'----------------------------------------------------------------------'\n",
      "'No. of Row : 999964        No. of Columns : 36'\n",
      "'----------------------------------------------------------------------'\n",
      "                         DataType  Missing Values  Unique Values\n",
      "Severity                    int64               0              4\n",
      "Start_Time         datetime64[ns]               0         975960\n",
      "End_Time           datetime64[ns]               0         975940\n",
      "Start_Lat                 float64               0         390345\n",
      "Start_Lng                 float64               0         380003\n",
      "Distance(mi)              float64               0           3029\n",
      "Description                object               0         711244\n",
      "Street                     object               0          85494\n",
      "Side                       object               0              3\n",
      "City                       object               0           8629\n",
      "County                     object               0           1363\n",
      "State                      object               0             49\n",
      "Zipcode                    object             160         171142\n",
      "Temperature(F)            float64           16497            702\n",
      "Wind_Chill(F)             float64          462148            710\n",
      "Humidity(%)               float64           18009             99\n",
      "Pressure(in)              float64           13360            939\n",
      "Visibility(mi)            float64           19592             60\n",
      "Wind_Direction             object           15057             24\n",
      "Wind_Speed(mph)           float64          101873            106\n",
      "Precipitation(in)         float64          478786            210\n",
      "Weather_Condition          object           19182            105\n",
      "Amenity                      bool               0              2\n",
      "Bump                         bool               0              2\n",
      "Crossing                     bool               0              2\n",
      "Give_Way                     bool               0              2\n",
      "Junction                     bool               0              2\n",
      "No_Exit                      bool               0              2\n",
      "Railway                      bool               0              2\n",
      "Roundabout                   bool               0              2\n",
      "Station                      bool               0              2\n",
      "Stop                         bool               0              2\n",
      "Traffic_Calming              bool               0              2\n",
      "Traffic_Signal               bool               0              2\n",
      "Turning_Loop                 bool               0              1\n",
      "Sunrise_Sunset             object               0              2\n",
      "'----------------------------------------------------------------------'\n"
     ]
    }
   ],
   "source": [
    "sanity_check(df)"
   ]
  },
  {
   "cell_type": "code",
   "execution_count": 9,
   "id": "ef8a0718",
   "metadata": {},
   "outputs": [],
   "source": [
    "df.drop(columns=['Description','Street','City','County','Zipcode','Weather_Condition','Amenity','Bump','Junction','No_Exit','Railway','Roundabout','Station','Stop','Traffic_Calming','Traffic_Signal','Sunrise_Sunset','Turning_Loop','Give_Way','Wind_Direction','Crossing','Side'], inplace=True)"
   ]
  },
  {
   "cell_type": "code",
   "execution_count": 10,
   "id": "f05ac2a2",
   "metadata": {},
   "outputs": [
    {
     "data": {
      "text/html": [
       "<div>\n",
       "<style scoped>\n",
       "    .dataframe tbody tr th:only-of-type {\n",
       "        vertical-align: middle;\n",
       "    }\n",
       "\n",
       "    .dataframe tbody tr th {\n",
       "        vertical-align: top;\n",
       "    }\n",
       "\n",
       "    .dataframe thead th {\n",
       "        text-align: right;\n",
       "    }\n",
       "</style>\n",
       "<table border=\"1\" class=\"dataframe\">\n",
       "  <thead>\n",
       "    <tr style=\"text-align: right;\">\n",
       "      <th></th>\n",
       "      <th>Severity</th>\n",
       "      <th>Start_Time</th>\n",
       "      <th>End_Time</th>\n",
       "      <th>Start_Lat</th>\n",
       "      <th>Start_Lng</th>\n",
       "      <th>Distance(mi)</th>\n",
       "      <th>State</th>\n",
       "      <th>Temperature(F)</th>\n",
       "      <th>Wind_Chill(F)</th>\n",
       "      <th>Humidity(%)</th>\n",
       "      <th>Pressure(in)</th>\n",
       "      <th>Visibility(mi)</th>\n",
       "      <th>Wind_Speed(mph)</th>\n",
       "      <th>Precipitation(in)</th>\n",
       "    </tr>\n",
       "  </thead>\n",
       "  <tbody>\n",
       "    <tr>\n",
       "      <th>0</th>\n",
       "      <td>3</td>\n",
       "      <td>2016-02-08</td>\n",
       "      <td>2016-02-08</td>\n",
       "      <td>39.865147</td>\n",
       "      <td>-84.058723</td>\n",
       "      <td>0.01</td>\n",
       "      <td>OH</td>\n",
       "      <td>36.9</td>\n",
       "      <td>NaN</td>\n",
       "      <td>91.0</td>\n",
       "      <td>29.68</td>\n",
       "      <td>10.0</td>\n",
       "      <td>NaN</td>\n",
       "      <td>0.02</td>\n",
       "    </tr>\n",
       "    <tr>\n",
       "      <th>1</th>\n",
       "      <td>2</td>\n",
       "      <td>2016-02-08</td>\n",
       "      <td>2016-02-08</td>\n",
       "      <td>39.928059</td>\n",
       "      <td>-82.831184</td>\n",
       "      <td>0.01</td>\n",
       "      <td>OH</td>\n",
       "      <td>37.9</td>\n",
       "      <td>NaN</td>\n",
       "      <td>100.0</td>\n",
       "      <td>29.65</td>\n",
       "      <td>10.0</td>\n",
       "      <td>NaN</td>\n",
       "      <td>0.00</td>\n",
       "    </tr>\n",
       "    <tr>\n",
       "      <th>2</th>\n",
       "      <td>2</td>\n",
       "      <td>2016-02-08</td>\n",
       "      <td>2016-02-08</td>\n",
       "      <td>39.063148</td>\n",
       "      <td>-84.032608</td>\n",
       "      <td>0.01</td>\n",
       "      <td>OH</td>\n",
       "      <td>36.0</td>\n",
       "      <td>33.3</td>\n",
       "      <td>100.0</td>\n",
       "      <td>29.67</td>\n",
       "      <td>10.0</td>\n",
       "      <td>3.5</td>\n",
       "      <td>NaN</td>\n",
       "    </tr>\n",
       "    <tr>\n",
       "      <th>3</th>\n",
       "      <td>3</td>\n",
       "      <td>2016-02-08</td>\n",
       "      <td>2016-02-08</td>\n",
       "      <td>39.747753</td>\n",
       "      <td>-84.205582</td>\n",
       "      <td>0.01</td>\n",
       "      <td>OH</td>\n",
       "      <td>35.1</td>\n",
       "      <td>31.0</td>\n",
       "      <td>96.0</td>\n",
       "      <td>29.64</td>\n",
       "      <td>9.0</td>\n",
       "      <td>4.6</td>\n",
       "      <td>NaN</td>\n",
       "    </tr>\n",
       "    <tr>\n",
       "      <th>4</th>\n",
       "      <td>2</td>\n",
       "      <td>2016-02-08</td>\n",
       "      <td>2016-02-08</td>\n",
       "      <td>39.627781</td>\n",
       "      <td>-84.188354</td>\n",
       "      <td>0.01</td>\n",
       "      <td>OH</td>\n",
       "      <td>36.0</td>\n",
       "      <td>33.3</td>\n",
       "      <td>89.0</td>\n",
       "      <td>29.65</td>\n",
       "      <td>6.0</td>\n",
       "      <td>3.5</td>\n",
       "      <td>NaN</td>\n",
       "    </tr>\n",
       "  </tbody>\n",
       "</table>\n",
       "</div>"
      ],
      "text/plain": [
       "   Severity  Start_Time    End_Time  Start_Lat  Start_Lng  Distance(mi) State  \\\n",
       "0         3  2016-02-08  2016-02-08  39.865147 -84.058723          0.01    OH   \n",
       "1         2  2016-02-08  2016-02-08  39.928059 -82.831184          0.01    OH   \n",
       "2         2  2016-02-08  2016-02-08  39.063148 -84.032608          0.01    OH   \n",
       "3         3  2016-02-08  2016-02-08  39.747753 -84.205582          0.01    OH   \n",
       "4         2  2016-02-08  2016-02-08  39.627781 -84.188354          0.01    OH   \n",
       "\n",
       "   Temperature(F)  Wind_Chill(F)  Humidity(%)  Pressure(in)  Visibility(mi)  \\\n",
       "0            36.9            NaN         91.0         29.68            10.0   \n",
       "1            37.9            NaN        100.0         29.65            10.0   \n",
       "2            36.0           33.3        100.0         29.67            10.0   \n",
       "3            35.1           31.0         96.0         29.64             9.0   \n",
       "4            36.0           33.3         89.0         29.65             6.0   \n",
       "\n",
       "   Wind_Speed(mph)  Precipitation(in)  \n",
       "0              NaN               0.02  \n",
       "1              NaN               0.00  \n",
       "2              3.5                NaN  \n",
       "3              4.6                NaN  \n",
       "4              3.5                NaN  "
      ]
     },
     "execution_count": 10,
     "metadata": {},
     "output_type": "execute_result"
    }
   ],
   "source": [
    "df['Start_Time'] = df['Start_Time'].astype(str).str[0:10]\n",
    "df['End_Time'] = df['End_Time'].astype(str).str[0:10]\n",
    "pd.set_option('display.max_columns', None)\n",
    "df.head(5)"
   ]
  },
  {
   "cell_type": "code",
   "execution_count": 11,
   "id": "077013f0",
   "metadata": {},
   "outputs": [
    {
     "data": {
      "text/html": [
       "<div>\n",
       "<style scoped>\n",
       "    .dataframe tbody tr th:only-of-type {\n",
       "        vertical-align: middle;\n",
       "    }\n",
       "\n",
       "    .dataframe tbody tr th {\n",
       "        vertical-align: top;\n",
       "    }\n",
       "\n",
       "    .dataframe thead th {\n",
       "        text-align: right;\n",
       "    }\n",
       "</style>\n",
       "<table border=\"1\" class=\"dataframe\">\n",
       "  <thead>\n",
       "    <tr style=\"text-align: right;\">\n",
       "      <th></th>\n",
       "      <th></th>\n",
       "      <th>Severity</th>\n",
       "      <th>Start_Lat</th>\n",
       "      <th>Start_Lng</th>\n",
       "      <th>Distance(mi)</th>\n",
       "      <th>Temperature(F)</th>\n",
       "      <th>Wind_Chill(F)</th>\n",
       "      <th>Humidity(%)</th>\n",
       "      <th>Pressure(in)</th>\n",
       "      <th>Visibility(mi)</th>\n",
       "      <th>Wind_Speed(mph)</th>\n",
       "      <th>Precipitation(in)</th>\n",
       "    </tr>\n",
       "    <tr>\n",
       "      <th>Start_Time</th>\n",
       "      <th>State</th>\n",
       "      <th></th>\n",
       "      <th></th>\n",
       "      <th></th>\n",
       "      <th></th>\n",
       "      <th></th>\n",
       "      <th></th>\n",
       "      <th></th>\n",
       "      <th></th>\n",
       "      <th></th>\n",
       "      <th></th>\n",
       "      <th></th>\n",
       "    </tr>\n",
       "  </thead>\n",
       "  <tbody>\n",
       "    <tr>\n",
       "      <th>2016-02-08</th>\n",
       "      <th>OH</th>\n",
       "      <td>2.277778</td>\n",
       "      <td>39.841393</td>\n",
       "      <td>-83.700875</td>\n",
       "      <td>0.073611</td>\n",
       "      <td>35.983333</td>\n",
       "      <td>31.493103</td>\n",
       "      <td>92.777778</td>\n",
       "      <td>29.637222</td>\n",
       "      <td>7.333333</td>\n",
       "      <td>5.530303</td>\n",
       "      <td>0.014118</td>\n",
       "    </tr>\n",
       "    <tr>\n",
       "      <th>2016-02-09</th>\n",
       "      <th>OH</th>\n",
       "      <td>2.428571</td>\n",
       "      <td>39.888841</td>\n",
       "      <td>-83.648646</td>\n",
       "      <td>0.009143</td>\n",
       "      <td>23.188571</td>\n",
       "      <td>12.288571</td>\n",
       "      <td>87.485714</td>\n",
       "      <td>29.677714</td>\n",
       "      <td>2.494286</td>\n",
       "      <td>11.125714</td>\n",
       "      <td>0.003846</td>\n",
       "    </tr>\n",
       "    <tr>\n",
       "      <th>2016-02-10</th>\n",
       "      <th>OH</th>\n",
       "      <td>2.562500</td>\n",
       "      <td>40.016197</td>\n",
       "      <td>-83.116289</td>\n",
       "      <td>0.086875</td>\n",
       "      <td>16.387500</td>\n",
       "      <td>3.687500</td>\n",
       "      <td>80.000000</td>\n",
       "      <td>29.918125</td>\n",
       "      <td>3.393750</td>\n",
       "      <td>11.300000</td>\n",
       "      <td>0.001000</td>\n",
       "    </tr>\n",
       "    <tr>\n",
       "      <th>2016-02-11</th>\n",
       "      <th>OH</th>\n",
       "      <td>2.314286</td>\n",
       "      <td>40.045109</td>\n",
       "      <td>-83.477221</td>\n",
       "      <td>0.021714</td>\n",
       "      <td>14.682857</td>\n",
       "      <td>4.575862</td>\n",
       "      <td>67.628571</td>\n",
       "      <td>30.260857</td>\n",
       "      <td>9.485714</td>\n",
       "      <td>8.510345</td>\n",
       "      <td>0.000000</td>\n",
       "    </tr>\n",
       "    <tr>\n",
       "      <th>2016-02-12</th>\n",
       "      <th>OH</th>\n",
       "      <td>2.714286</td>\n",
       "      <td>39.952918</td>\n",
       "      <td>-83.316945</td>\n",
       "      <td>0.908571</td>\n",
       "      <td>21.285714</td>\n",
       "      <td>6.628571</td>\n",
       "      <td>68.142857</td>\n",
       "      <td>30.120000</td>\n",
       "      <td>7.142857</td>\n",
       "      <td>18.585714</td>\n",
       "      <td>0.000000</td>\n",
       "    </tr>\n",
       "  </tbody>\n",
       "</table>\n",
       "</div>"
      ],
      "text/plain": [
       "                  Severity  Start_Lat  Start_Lng  Distance(mi)  \\\n",
       "Start_Time State                                                 \n",
       "2016-02-08 OH     2.277778  39.841393 -83.700875      0.073611   \n",
       "2016-02-09 OH     2.428571  39.888841 -83.648646      0.009143   \n",
       "2016-02-10 OH     2.562500  40.016197 -83.116289      0.086875   \n",
       "2016-02-11 OH     2.314286  40.045109 -83.477221      0.021714   \n",
       "2016-02-12 OH     2.714286  39.952918 -83.316945      0.908571   \n",
       "\n",
       "                  Temperature(F)  Wind_Chill(F)  Humidity(%)  Pressure(in)  \\\n",
       "Start_Time State                                                             \n",
       "2016-02-08 OH          35.983333      31.493103    92.777778     29.637222   \n",
       "2016-02-09 OH          23.188571      12.288571    87.485714     29.677714   \n",
       "2016-02-10 OH          16.387500       3.687500    80.000000     29.918125   \n",
       "2016-02-11 OH          14.682857       4.575862    67.628571     30.260857   \n",
       "2016-02-12 OH          21.285714       6.628571    68.142857     30.120000   \n",
       "\n",
       "                  Visibility(mi)  Wind_Speed(mph)  Precipitation(in)  \n",
       "Start_Time State                                                      \n",
       "2016-02-08 OH           7.333333         5.530303           0.014118  \n",
       "2016-02-09 OH           2.494286        11.125714           0.003846  \n",
       "2016-02-10 OH           3.393750        11.300000           0.001000  \n",
       "2016-02-11 OH           9.485714         8.510345           0.000000  \n",
       "2016-02-12 OH           7.142857        18.585714           0.000000  "
      ]
     },
     "execution_count": 11,
     "metadata": {},
     "output_type": "execute_result"
    }
   ],
   "source": [
    "df1=df.groupby(by=[\"Start_Time\",\"State\"]).mean()\n",
    "df1.head(5)"
   ]
  },
  {
   "cell_type": "code",
   "execution_count": 12,
   "id": "3865dd10",
   "metadata": {},
   "outputs": [
    {
     "data": {
      "text/html": [
       "<div>\n",
       "<style scoped>\n",
       "    .dataframe tbody tr th:only-of-type {\n",
       "        vertical-align: middle;\n",
       "    }\n",
       "\n",
       "    .dataframe tbody tr th {\n",
       "        vertical-align: top;\n",
       "    }\n",
       "\n",
       "    .dataframe thead th {\n",
       "        text-align: right;\n",
       "    }\n",
       "</style>\n",
       "<table border=\"1\" class=\"dataframe\">\n",
       "  <thead>\n",
       "    <tr style=\"text-align: right;\">\n",
       "      <th></th>\n",
       "      <th>Severity</th>\n",
       "      <th>Start_Lat</th>\n",
       "      <th>Start_Lng</th>\n",
       "      <th>Distance(mi)</th>\n",
       "      <th>Temperature(F)</th>\n",
       "      <th>Wind_Chill(F)</th>\n",
       "      <th>Humidity(%)</th>\n",
       "      <th>Pressure(in)</th>\n",
       "      <th>Visibility(mi)</th>\n",
       "      <th>Wind_Speed(mph)</th>\n",
       "      <th>Precipitation(in)</th>\n",
       "    </tr>\n",
       "    <tr>\n",
       "      <th>State</th>\n",
       "      <th></th>\n",
       "      <th></th>\n",
       "      <th></th>\n",
       "      <th></th>\n",
       "      <th></th>\n",
       "      <th></th>\n",
       "      <th></th>\n",
       "      <th></th>\n",
       "      <th></th>\n",
       "      <th></th>\n",
       "      <th></th>\n",
       "    </tr>\n",
       "  </thead>\n",
       "  <tbody>\n",
       "    <tr>\n",
       "      <th>AL</th>\n",
       "      <td>2.265405</td>\n",
       "      <td>33.110256</td>\n",
       "      <td>-86.716402</td>\n",
       "      <td>0.370956</td>\n",
       "      <td>65.865823</td>\n",
       "      <td>65.336902</td>\n",
       "      <td>70.519483</td>\n",
       "      <td>29.602524</td>\n",
       "      <td>9.031099</td>\n",
       "      <td>6.408085</td>\n",
       "      <td>0.012884</td>\n",
       "    </tr>\n",
       "    <tr>\n",
       "      <th>AR</th>\n",
       "      <td>2.415902</td>\n",
       "      <td>35.329562</td>\n",
       "      <td>-92.077487</td>\n",
       "      <td>1.103364</td>\n",
       "      <td>58.003145</td>\n",
       "      <td>57.035032</td>\n",
       "      <td>81.496835</td>\n",
       "      <td>29.626656</td>\n",
       "      <td>8.927673</td>\n",
       "      <td>6.678344</td>\n",
       "      <td>0.007938</td>\n",
       "    </tr>\n",
       "    <tr>\n",
       "      <th>AZ</th>\n",
       "      <td>2.161568</td>\n",
       "      <td>33.186254</td>\n",
       "      <td>-111.755538</td>\n",
       "      <td>0.181148</td>\n",
       "      <td>71.678975</td>\n",
       "      <td>71.265416</td>\n",
       "      <td>31.779931</td>\n",
       "      <td>28.086619</td>\n",
       "      <td>9.875275</td>\n",
       "      <td>6.602433</td>\n",
       "      <td>0.000824</td>\n",
       "    </tr>\n",
       "    <tr>\n",
       "      <th>CA</th>\n",
       "      <td>2.409038</td>\n",
       "      <td>35.512295</td>\n",
       "      <td>-119.489971</td>\n",
       "      <td>0.040106</td>\n",
       "      <td>65.681305</td>\n",
       "      <td>62.799356</td>\n",
       "      <td>59.940059</td>\n",
       "      <td>29.847758</td>\n",
       "      <td>9.190683</td>\n",
       "      <td>7.193729</td>\n",
       "      <td>0.006394</td>\n",
       "    </tr>\n",
       "    <tr>\n",
       "      <th>CO</th>\n",
       "      <td>2.460080</td>\n",
       "      <td>39.578850</td>\n",
       "      <td>-104.989835</td>\n",
       "      <td>0.507225</td>\n",
       "      <td>47.863813</td>\n",
       "      <td>44.608217</td>\n",
       "      <td>50.102612</td>\n",
       "      <td>24.193780</td>\n",
       "      <td>10.023356</td>\n",
       "      <td>7.922365</td>\n",
       "      <td>0.000951</td>\n",
       "    </tr>\n",
       "  </tbody>\n",
       "</table>\n",
       "</div>"
      ],
      "text/plain": [
       "       Severity  Start_Lat   Start_Lng  Distance(mi)  Temperature(F)  \\\n",
       "State                                                                  \n",
       "AL     2.265405  33.110256  -86.716402      0.370956       65.865823   \n",
       "AR     2.415902  35.329562  -92.077487      1.103364       58.003145   \n",
       "AZ     2.161568  33.186254 -111.755538      0.181148       71.678975   \n",
       "CA     2.409038  35.512295 -119.489971      0.040106       65.681305   \n",
       "CO     2.460080  39.578850 -104.989835      0.507225       47.863813   \n",
       "\n",
       "       Wind_Chill(F)  Humidity(%)  Pressure(in)  Visibility(mi)  \\\n",
       "State                                                             \n",
       "AL         65.336902    70.519483     29.602524        9.031099   \n",
       "AR         57.035032    81.496835     29.626656        8.927673   \n",
       "AZ         71.265416    31.779931     28.086619        9.875275   \n",
       "CA         62.799356    59.940059     29.847758        9.190683   \n",
       "CO         44.608217    50.102612     24.193780       10.023356   \n",
       "\n",
       "       Wind_Speed(mph)  Precipitation(in)  \n",
       "State                                      \n",
       "AL            6.408085           0.012884  \n",
       "AR            6.678344           0.007938  \n",
       "AZ            6.602433           0.000824  \n",
       "CA            7.193729           0.006394  \n",
       "CO            7.922365           0.000951  "
      ]
     },
     "execution_count": 12,
     "metadata": {},
     "output_type": "execute_result"
    }
   ],
   "source": [
    "df11=df.groupby(by=[\"State\"]).mean()\n",
    "df11.head(5)"
   ]
  },
  {
   "cell_type": "markdown",
   "id": "3372f964",
   "metadata": {},
   "source": [
    "# TRAIN DATA"
   ]
  },
  {
   "cell_type": "code",
   "execution_count": 13,
   "id": "a9747762",
   "metadata": {},
   "outputs": [
    {
     "data": {
      "text/html": [
       "<div>\n",
       "<style scoped>\n",
       "    .dataframe tbody tr th:only-of-type {\n",
       "        vertical-align: middle;\n",
       "    }\n",
       "\n",
       "    .dataframe tbody tr th {\n",
       "        vertical-align: top;\n",
       "    }\n",
       "\n",
       "    .dataframe thead th {\n",
       "        text-align: right;\n",
       "    }\n",
       "</style>\n",
       "<table border=\"1\" class=\"dataframe\">\n",
       "  <thead>\n",
       "    <tr style=\"text-align: right;\">\n",
       "      <th></th>\n",
       "      <th>State</th>\n",
       "      <th>Start_Time</th>\n",
       "      <th>Accident_count</th>\n",
       "    </tr>\n",
       "  </thead>\n",
       "  <tbody>\n",
       "    <tr>\n",
       "      <th>0</th>\n",
       "      <td>OH</td>\n",
       "      <td>2016-02-08</td>\n",
       "      <td>1</td>\n",
       "    </tr>\n",
       "    <tr>\n",
       "      <th>1</th>\n",
       "      <td>OH</td>\n",
       "      <td>2016-02-08</td>\n",
       "      <td>1</td>\n",
       "    </tr>\n",
       "    <tr>\n",
       "      <th>2</th>\n",
       "      <td>OH</td>\n",
       "      <td>2016-02-08</td>\n",
       "      <td>1</td>\n",
       "    </tr>\n",
       "    <tr>\n",
       "      <th>3</th>\n",
       "      <td>OH</td>\n",
       "      <td>2016-02-08</td>\n",
       "      <td>1</td>\n",
       "    </tr>\n",
       "    <tr>\n",
       "      <th>4</th>\n",
       "      <td>OH</td>\n",
       "      <td>2016-02-08</td>\n",
       "      <td>1</td>\n",
       "    </tr>\n",
       "  </tbody>\n",
       "</table>\n",
       "</div>"
      ],
      "text/plain": [
       "  State  Start_Time  Accident_count\n",
       "0    OH  2016-02-08               1\n",
       "1    OH  2016-02-08               1\n",
       "2    OH  2016-02-08               1\n",
       "3    OH  2016-02-08               1\n",
       "4    OH  2016-02-08               1"
      ]
     },
     "execution_count": 13,
     "metadata": {},
     "output_type": "execute_result"
    }
   ],
   "source": [
    "train_df[\"Accident_count\"]=1\n",
    "train_df['Start_Time'] = train_df['Start_Time'].astype(str).str[0:10]\n",
    "train_df1=train_df[['State','Start_Time', 'Accident_count']]\n",
    "train_df1.head(5)"
   ]
  },
  {
   "cell_type": "code",
   "execution_count": 14,
   "id": "4145bc87",
   "metadata": {},
   "outputs": [
    {
     "data": {
      "text/html": [
       "<div>\n",
       "<style scoped>\n",
       "    .dataframe tbody tr th:only-of-type {\n",
       "        vertical-align: middle;\n",
       "    }\n",
       "\n",
       "    .dataframe tbody tr th {\n",
       "        vertical-align: top;\n",
       "    }\n",
       "\n",
       "    .dataframe thead th {\n",
       "        text-align: right;\n",
       "    }\n",
       "</style>\n",
       "<table border=\"1\" class=\"dataframe\">\n",
       "  <thead>\n",
       "    <tr style=\"text-align: right;\">\n",
       "      <th></th>\n",
       "      <th></th>\n",
       "      <th>Accident_count</th>\n",
       "    </tr>\n",
       "    <tr>\n",
       "      <th>Start_Time</th>\n",
       "      <th>State</th>\n",
       "      <th></th>\n",
       "    </tr>\n",
       "  </thead>\n",
       "  <tbody>\n",
       "    <tr>\n",
       "      <th>2016-02-08</th>\n",
       "      <th>OH</th>\n",
       "      <td>36</td>\n",
       "    </tr>\n",
       "    <tr>\n",
       "      <th>2016-02-09</th>\n",
       "      <th>OH</th>\n",
       "      <td>35</td>\n",
       "    </tr>\n",
       "    <tr>\n",
       "      <th>2016-02-10</th>\n",
       "      <th>OH</th>\n",
       "      <td>16</td>\n",
       "    </tr>\n",
       "    <tr>\n",
       "      <th>2016-02-11</th>\n",
       "      <th>OH</th>\n",
       "      <td>35</td>\n",
       "    </tr>\n",
       "    <tr>\n",
       "      <th>2016-02-12</th>\n",
       "      <th>OH</th>\n",
       "      <td>7</td>\n",
       "    </tr>\n",
       "  </tbody>\n",
       "</table>\n",
       "</div>"
      ],
      "text/plain": [
       "                  Accident_count\n",
       "Start_Time State                \n",
       "2016-02-08 OH                 36\n",
       "2016-02-09 OH                 35\n",
       "2016-02-10 OH                 16\n",
       "2016-02-11 OH                 35\n",
       "2016-02-12 OH                  7"
      ]
     },
     "execution_count": 14,
     "metadata": {},
     "output_type": "execute_result"
    }
   ],
   "source": [
    "train_df2=train_df1.groupby(by=['Start_Time','State']).sum()\n",
    "train_df2.head(5)"
   ]
  },
  {
   "cell_type": "code",
   "execution_count": 15,
   "id": "87110e14",
   "metadata": {},
   "outputs": [
    {
     "data": {
      "text/html": [
       "<div>\n",
       "<style scoped>\n",
       "    .dataframe tbody tr th:only-of-type {\n",
       "        vertical-align: middle;\n",
       "    }\n",
       "\n",
       "    .dataframe tbody tr th {\n",
       "        vertical-align: top;\n",
       "    }\n",
       "\n",
       "    .dataframe thead th {\n",
       "        text-align: right;\n",
       "    }\n",
       "</style>\n",
       "<table border=\"1\" class=\"dataframe\">\n",
       "  <thead>\n",
       "    <tr style=\"text-align: right;\">\n",
       "      <th></th>\n",
       "      <th></th>\n",
       "      <th>Accident_count</th>\n",
       "      <th>Severity</th>\n",
       "      <th>Start_Lat</th>\n",
       "      <th>Start_Lng</th>\n",
       "      <th>Distance(mi)</th>\n",
       "      <th>Temperature(F)</th>\n",
       "      <th>Wind_Chill(F)</th>\n",
       "      <th>Humidity(%)</th>\n",
       "      <th>Pressure(in)</th>\n",
       "      <th>Visibility(mi)</th>\n",
       "      <th>Wind_Speed(mph)</th>\n",
       "      <th>Precipitation(in)</th>\n",
       "    </tr>\n",
       "    <tr>\n",
       "      <th>Start_Time</th>\n",
       "      <th>State</th>\n",
       "      <th></th>\n",
       "      <th></th>\n",
       "      <th></th>\n",
       "      <th></th>\n",
       "      <th></th>\n",
       "      <th></th>\n",
       "      <th></th>\n",
       "      <th></th>\n",
       "      <th></th>\n",
       "      <th></th>\n",
       "      <th></th>\n",
       "      <th></th>\n",
       "    </tr>\n",
       "  </thead>\n",
       "  <tbody>\n",
       "    <tr>\n",
       "      <th>2016-02-08</th>\n",
       "      <th>OH</th>\n",
       "      <td>36</td>\n",
       "      <td>2.277778</td>\n",
       "      <td>39.841393</td>\n",
       "      <td>-83.700875</td>\n",
       "      <td>0.073611</td>\n",
       "      <td>35.983333</td>\n",
       "      <td>31.493103</td>\n",
       "      <td>92.777778</td>\n",
       "      <td>29.637222</td>\n",
       "      <td>7.333333</td>\n",
       "      <td>5.530303</td>\n",
       "      <td>0.014118</td>\n",
       "    </tr>\n",
       "    <tr>\n",
       "      <th>2016-02-09</th>\n",
       "      <th>OH</th>\n",
       "      <td>35</td>\n",
       "      <td>2.428571</td>\n",
       "      <td>39.888841</td>\n",
       "      <td>-83.648646</td>\n",
       "      <td>0.009143</td>\n",
       "      <td>23.188571</td>\n",
       "      <td>12.288571</td>\n",
       "      <td>87.485714</td>\n",
       "      <td>29.677714</td>\n",
       "      <td>2.494286</td>\n",
       "      <td>11.125714</td>\n",
       "      <td>0.003846</td>\n",
       "    </tr>\n",
       "    <tr>\n",
       "      <th>2016-02-10</th>\n",
       "      <th>OH</th>\n",
       "      <td>16</td>\n",
       "      <td>2.562500</td>\n",
       "      <td>40.016197</td>\n",
       "      <td>-83.116289</td>\n",
       "      <td>0.086875</td>\n",
       "      <td>16.387500</td>\n",
       "      <td>3.687500</td>\n",
       "      <td>80.000000</td>\n",
       "      <td>29.918125</td>\n",
       "      <td>3.393750</td>\n",
       "      <td>11.300000</td>\n",
       "      <td>0.001000</td>\n",
       "    </tr>\n",
       "    <tr>\n",
       "      <th>2016-02-11</th>\n",
       "      <th>OH</th>\n",
       "      <td>35</td>\n",
       "      <td>2.314286</td>\n",
       "      <td>40.045109</td>\n",
       "      <td>-83.477221</td>\n",
       "      <td>0.021714</td>\n",
       "      <td>14.682857</td>\n",
       "      <td>4.575862</td>\n",
       "      <td>67.628571</td>\n",
       "      <td>30.260857</td>\n",
       "      <td>9.485714</td>\n",
       "      <td>8.510345</td>\n",
       "      <td>0.000000</td>\n",
       "    </tr>\n",
       "    <tr>\n",
       "      <th>2016-02-12</th>\n",
       "      <th>OH</th>\n",
       "      <td>7</td>\n",
       "      <td>2.714286</td>\n",
       "      <td>39.952918</td>\n",
       "      <td>-83.316945</td>\n",
       "      <td>0.908571</td>\n",
       "      <td>21.285714</td>\n",
       "      <td>6.628571</td>\n",
       "      <td>68.142857</td>\n",
       "      <td>30.120000</td>\n",
       "      <td>7.142857</td>\n",
       "      <td>18.585714</td>\n",
       "      <td>0.000000</td>\n",
       "    </tr>\n",
       "  </tbody>\n",
       "</table>\n",
       "</div>"
      ],
      "text/plain": [
       "                  Accident_count  Severity  Start_Lat  Start_Lng  \\\n",
       "Start_Time State                                                   \n",
       "2016-02-08 OH                 36  2.277778  39.841393 -83.700875   \n",
       "2016-02-09 OH                 35  2.428571  39.888841 -83.648646   \n",
       "2016-02-10 OH                 16  2.562500  40.016197 -83.116289   \n",
       "2016-02-11 OH                 35  2.314286  40.045109 -83.477221   \n",
       "2016-02-12 OH                  7  2.714286  39.952918 -83.316945   \n",
       "\n",
       "                  Distance(mi)  Temperature(F)  Wind_Chill(F)  Humidity(%)  \\\n",
       "Start_Time State                                                             \n",
       "2016-02-08 OH         0.073611       35.983333      31.493103    92.777778   \n",
       "2016-02-09 OH         0.009143       23.188571      12.288571    87.485714   \n",
       "2016-02-10 OH         0.086875       16.387500       3.687500    80.000000   \n",
       "2016-02-11 OH         0.021714       14.682857       4.575862    67.628571   \n",
       "2016-02-12 OH         0.908571       21.285714       6.628571    68.142857   \n",
       "\n",
       "                  Pressure(in)  Visibility(mi)  Wind_Speed(mph)  \\\n",
       "Start_Time State                                                  \n",
       "2016-02-08 OH        29.637222        7.333333         5.530303   \n",
       "2016-02-09 OH        29.677714        2.494286        11.125714   \n",
       "2016-02-10 OH        29.918125        3.393750        11.300000   \n",
       "2016-02-11 OH        30.260857        9.485714         8.510345   \n",
       "2016-02-12 OH        30.120000        7.142857        18.585714   \n",
       "\n",
       "                  Precipitation(in)  \n",
       "Start_Time State                     \n",
       "2016-02-08 OH              0.014118  \n",
       "2016-02-09 OH              0.003846  \n",
       "2016-02-10 OH              0.001000  \n",
       "2016-02-11 OH              0.000000  \n",
       "2016-02-12 OH              0.000000  "
      ]
     },
     "execution_count": 15,
     "metadata": {},
     "output_type": "execute_result"
    }
   ],
   "source": [
    "train_df3 = pd.merge(train_df2,df1,how='left', left_on=['Start_Time','State'], right_on = ['Start_Time','State'])\n",
    "train_df3.head(5)"
   ]
  },
  {
   "cell_type": "code",
   "execution_count": 16,
   "id": "cb20450d",
   "metadata": {},
   "outputs": [
    {
     "data": {
      "text/html": [
       "<div>\n",
       "<style scoped>\n",
       "    .dataframe tbody tr th:only-of-type {\n",
       "        vertical-align: middle;\n",
       "    }\n",
       "\n",
       "    .dataframe tbody tr th {\n",
       "        vertical-align: top;\n",
       "    }\n",
       "\n",
       "    .dataframe thead th {\n",
       "        text-align: right;\n",
       "    }\n",
       "</style>\n",
       "<table border=\"1\" class=\"dataframe\">\n",
       "  <thead>\n",
       "    <tr style=\"text-align: right;\">\n",
       "      <th></th>\n",
       "      <th></th>\n",
       "      <th>Accident_count</th>\n",
       "      <th>Severity</th>\n",
       "      <th>Start_Lat</th>\n",
       "      <th>Start_Lng</th>\n",
       "      <th>Distance</th>\n",
       "      <th>Temperature</th>\n",
       "      <th>Wind_Chill</th>\n",
       "      <th>Humidity</th>\n",
       "      <th>Pressure</th>\n",
       "      <th>Visibility</th>\n",
       "      <th>Wind_Speed</th>\n",
       "      <th>Precipitation</th>\n",
       "    </tr>\n",
       "    <tr>\n",
       "      <th>Start_Time</th>\n",
       "      <th>State</th>\n",
       "      <th></th>\n",
       "      <th></th>\n",
       "      <th></th>\n",
       "      <th></th>\n",
       "      <th></th>\n",
       "      <th></th>\n",
       "      <th></th>\n",
       "      <th></th>\n",
       "      <th></th>\n",
       "      <th></th>\n",
       "      <th></th>\n",
       "      <th></th>\n",
       "    </tr>\n",
       "  </thead>\n",
       "  <tbody>\n",
       "    <tr>\n",
       "      <th>2016-02-08</th>\n",
       "      <th>OH</th>\n",
       "      <td>36</td>\n",
       "      <td>2.277778</td>\n",
       "      <td>39.841393</td>\n",
       "      <td>-83.700875</td>\n",
       "      <td>0.073611</td>\n",
       "      <td>35.983333</td>\n",
       "      <td>31.493103</td>\n",
       "      <td>92.777778</td>\n",
       "      <td>29.637222</td>\n",
       "      <td>7.333333</td>\n",
       "      <td>5.530303</td>\n",
       "      <td>0.014118</td>\n",
       "    </tr>\n",
       "    <tr>\n",
       "      <th>2016-02-09</th>\n",
       "      <th>OH</th>\n",
       "      <td>35</td>\n",
       "      <td>2.428571</td>\n",
       "      <td>39.888841</td>\n",
       "      <td>-83.648646</td>\n",
       "      <td>0.009143</td>\n",
       "      <td>23.188571</td>\n",
       "      <td>12.288571</td>\n",
       "      <td>87.485714</td>\n",
       "      <td>29.677714</td>\n",
       "      <td>2.494286</td>\n",
       "      <td>11.125714</td>\n",
       "      <td>0.003846</td>\n",
       "    </tr>\n",
       "    <tr>\n",
       "      <th>2016-02-10</th>\n",
       "      <th>OH</th>\n",
       "      <td>16</td>\n",
       "      <td>2.562500</td>\n",
       "      <td>40.016197</td>\n",
       "      <td>-83.116289</td>\n",
       "      <td>0.086875</td>\n",
       "      <td>16.387500</td>\n",
       "      <td>3.687500</td>\n",
       "      <td>80.000000</td>\n",
       "      <td>29.918125</td>\n",
       "      <td>3.393750</td>\n",
       "      <td>11.300000</td>\n",
       "      <td>0.001000</td>\n",
       "    </tr>\n",
       "    <tr>\n",
       "      <th>2016-02-11</th>\n",
       "      <th>OH</th>\n",
       "      <td>35</td>\n",
       "      <td>2.314286</td>\n",
       "      <td>40.045109</td>\n",
       "      <td>-83.477221</td>\n",
       "      <td>0.021714</td>\n",
       "      <td>14.682857</td>\n",
       "      <td>4.575862</td>\n",
       "      <td>67.628571</td>\n",
       "      <td>30.260857</td>\n",
       "      <td>9.485714</td>\n",
       "      <td>8.510345</td>\n",
       "      <td>0.000000</td>\n",
       "    </tr>\n",
       "    <tr>\n",
       "      <th>2016-02-12</th>\n",
       "      <th>OH</th>\n",
       "      <td>7</td>\n",
       "      <td>2.714286</td>\n",
       "      <td>39.952918</td>\n",
       "      <td>-83.316945</td>\n",
       "      <td>0.908571</td>\n",
       "      <td>21.285714</td>\n",
       "      <td>6.628571</td>\n",
       "      <td>68.142857</td>\n",
       "      <td>30.120000</td>\n",
       "      <td>7.142857</td>\n",
       "      <td>18.585714</td>\n",
       "      <td>0.000000</td>\n",
       "    </tr>\n",
       "  </tbody>\n",
       "</table>\n",
       "</div>"
      ],
      "text/plain": [
       "                  Accident_count  Severity  Start_Lat  Start_Lng  Distance  \\\n",
       "Start_Time State                                                             \n",
       "2016-02-08 OH                 36  2.277778  39.841393 -83.700875  0.073611   \n",
       "2016-02-09 OH                 35  2.428571  39.888841 -83.648646  0.009143   \n",
       "2016-02-10 OH                 16  2.562500  40.016197 -83.116289  0.086875   \n",
       "2016-02-11 OH                 35  2.314286  40.045109 -83.477221  0.021714   \n",
       "2016-02-12 OH                  7  2.714286  39.952918 -83.316945  0.908571   \n",
       "\n",
       "                  Temperature  Wind_Chill   Humidity   Pressure  Visibility  \\\n",
       "Start_Time State                                                              \n",
       "2016-02-08 OH       35.983333   31.493103  92.777778  29.637222    7.333333   \n",
       "2016-02-09 OH       23.188571   12.288571  87.485714  29.677714    2.494286   \n",
       "2016-02-10 OH       16.387500    3.687500  80.000000  29.918125    3.393750   \n",
       "2016-02-11 OH       14.682857    4.575862  67.628571  30.260857    9.485714   \n",
       "2016-02-12 OH       21.285714    6.628571  68.142857  30.120000    7.142857   \n",
       "\n",
       "                  Wind_Speed  Precipitation  \n",
       "Start_Time State                             \n",
       "2016-02-08 OH       5.530303       0.014118  \n",
       "2016-02-09 OH      11.125714       0.003846  \n",
       "2016-02-10 OH      11.300000       0.001000  \n",
       "2016-02-11 OH       8.510345       0.000000  \n",
       "2016-02-12 OH      18.585714       0.000000  "
      ]
     },
     "execution_count": 16,
     "metadata": {},
     "output_type": "execute_result"
    }
   ],
   "source": [
    "train_df3=train_df3.rename(columns={\"Distance(mi)\": \"Distance\"})\n",
    "train_df3=train_df3.rename(columns={\"Temperature(F)\": \"Temperature\"})\n",
    "train_df3=train_df3.rename(columns={\"Wind_Chill(F)\": \"Wind_Chill\"})\n",
    "train_df3=train_df3.rename(columns={\"Humidity(%)\": \"Humidity\"})\n",
    "train_df3=train_df3.rename(columns={\"Pressure(in)\": \"Pressure\"})\n",
    "train_df3=train_df3.rename(columns={\"Visibility(mi)\": \"Visibility\"})\n",
    "train_df3=train_df3.rename(columns={\"Wind_Speed(mph)\": \"Wind_Speed\"})\n",
    "train_df3=train_df3.rename(columns={\"Precipitation(in)\": \"Precipitation\"})\n",
    "train_df3.head(5)"
   ]
  },
  {
   "cell_type": "code",
   "execution_count": 17,
   "id": "5ec96282",
   "metadata": {},
   "outputs": [
    {
     "data": {
      "text/html": [
       "<div>\n",
       "<style scoped>\n",
       "    .dataframe tbody tr th:only-of-type {\n",
       "        vertical-align: middle;\n",
       "    }\n",
       "\n",
       "    .dataframe tbody tr th {\n",
       "        vertical-align: top;\n",
       "    }\n",
       "\n",
       "    .dataframe thead th {\n",
       "        text-align: right;\n",
       "    }\n",
       "</style>\n",
       "<table border=\"1\" class=\"dataframe\">\n",
       "  <thead>\n",
       "    <tr style=\"text-align: right;\">\n",
       "      <th></th>\n",
       "      <th>Start_Time</th>\n",
       "      <th>Accident_count</th>\n",
       "      <th>Severity</th>\n",
       "      <th>Start_Lat</th>\n",
       "      <th>Start_Lng</th>\n",
       "      <th>Distance</th>\n",
       "      <th>Temperature</th>\n",
       "      <th>Wind_Chill</th>\n",
       "      <th>Humidity</th>\n",
       "      <th>Pressure</th>\n",
       "      <th>Visibility</th>\n",
       "      <th>Wind_Speed</th>\n",
       "      <th>Precipitation</th>\n",
       "    </tr>\n",
       "    <tr>\n",
       "      <th>State</th>\n",
       "      <th></th>\n",
       "      <th></th>\n",
       "      <th></th>\n",
       "      <th></th>\n",
       "      <th></th>\n",
       "      <th></th>\n",
       "      <th></th>\n",
       "      <th></th>\n",
       "      <th></th>\n",
       "      <th></th>\n",
       "      <th></th>\n",
       "      <th></th>\n",
       "      <th></th>\n",
       "    </tr>\n",
       "  </thead>\n",
       "  <tbody>\n",
       "    <tr>\n",
       "      <th>OH</th>\n",
       "      <td>2016-02-08</td>\n",
       "      <td>36</td>\n",
       "      <td>2.277778</td>\n",
       "      <td>39.841393</td>\n",
       "      <td>-83.700875</td>\n",
       "      <td>0.073611</td>\n",
       "      <td>35.983333</td>\n",
       "      <td>31.493103</td>\n",
       "      <td>92.777778</td>\n",
       "      <td>29.637222</td>\n",
       "      <td>7.333333</td>\n",
       "      <td>5.530303</td>\n",
       "      <td>0.014118</td>\n",
       "    </tr>\n",
       "    <tr>\n",
       "      <th>OH</th>\n",
       "      <td>2016-02-09</td>\n",
       "      <td>35</td>\n",
       "      <td>2.428571</td>\n",
       "      <td>39.888841</td>\n",
       "      <td>-83.648646</td>\n",
       "      <td>0.009143</td>\n",
       "      <td>23.188571</td>\n",
       "      <td>12.288571</td>\n",
       "      <td>87.485714</td>\n",
       "      <td>29.677714</td>\n",
       "      <td>2.494286</td>\n",
       "      <td>11.125714</td>\n",
       "      <td>0.003846</td>\n",
       "    </tr>\n",
       "    <tr>\n",
       "      <th>OH</th>\n",
       "      <td>2016-02-10</td>\n",
       "      <td>16</td>\n",
       "      <td>2.562500</td>\n",
       "      <td>40.016197</td>\n",
       "      <td>-83.116289</td>\n",
       "      <td>0.086875</td>\n",
       "      <td>16.387500</td>\n",
       "      <td>3.687500</td>\n",
       "      <td>80.000000</td>\n",
       "      <td>29.918125</td>\n",
       "      <td>3.393750</td>\n",
       "      <td>11.300000</td>\n",
       "      <td>0.001000</td>\n",
       "    </tr>\n",
       "    <tr>\n",
       "      <th>OH</th>\n",
       "      <td>2016-02-11</td>\n",
       "      <td>35</td>\n",
       "      <td>2.314286</td>\n",
       "      <td>40.045109</td>\n",
       "      <td>-83.477221</td>\n",
       "      <td>0.021714</td>\n",
       "      <td>14.682857</td>\n",
       "      <td>4.575862</td>\n",
       "      <td>67.628571</td>\n",
       "      <td>30.260857</td>\n",
       "      <td>9.485714</td>\n",
       "      <td>8.510345</td>\n",
       "      <td>0.000000</td>\n",
       "    </tr>\n",
       "    <tr>\n",
       "      <th>OH</th>\n",
       "      <td>2016-02-12</td>\n",
       "      <td>7</td>\n",
       "      <td>2.714286</td>\n",
       "      <td>39.952918</td>\n",
       "      <td>-83.316945</td>\n",
       "      <td>0.908571</td>\n",
       "      <td>21.285714</td>\n",
       "      <td>6.628571</td>\n",
       "      <td>68.142857</td>\n",
       "      <td>30.120000</td>\n",
       "      <td>7.142857</td>\n",
       "      <td>18.585714</td>\n",
       "      <td>0.000000</td>\n",
       "    </tr>\n",
       "  </tbody>\n",
       "</table>\n",
       "</div>"
      ],
      "text/plain": [
       "       Start_Time  Accident_count  Severity  Start_Lat  Start_Lng  Distance  \\\n",
       "State                                                                         \n",
       "OH     2016-02-08              36  2.277778  39.841393 -83.700875  0.073611   \n",
       "OH     2016-02-09              35  2.428571  39.888841 -83.648646  0.009143   \n",
       "OH     2016-02-10              16  2.562500  40.016197 -83.116289  0.086875   \n",
       "OH     2016-02-11              35  2.314286  40.045109 -83.477221  0.021714   \n",
       "OH     2016-02-12               7  2.714286  39.952918 -83.316945  0.908571   \n",
       "\n",
       "       Temperature  Wind_Chill   Humidity   Pressure  Visibility  Wind_Speed  \\\n",
       "State                                                                          \n",
       "OH       35.983333   31.493103  92.777778  29.637222    7.333333    5.530303   \n",
       "OH       23.188571   12.288571  87.485714  29.677714    2.494286   11.125714   \n",
       "OH       16.387500    3.687500  80.000000  29.918125    3.393750   11.300000   \n",
       "OH       14.682857    4.575862  67.628571  30.260857    9.485714    8.510345   \n",
       "OH       21.285714    6.628571  68.142857  30.120000    7.142857   18.585714   \n",
       "\n",
       "       Precipitation  \n",
       "State                 \n",
       "OH          0.014118  \n",
       "OH          0.003846  \n",
       "OH          0.001000  \n",
       "OH          0.000000  \n",
       "OH          0.000000  "
      ]
     },
     "execution_count": 17,
     "metadata": {},
     "output_type": "execute_result"
    }
   ],
   "source": [
    "train_df3.reset_index(level=0, inplace=True)\n",
    "train_df3.head(5)"
   ]
  },
  {
   "cell_type": "code",
   "execution_count": 18,
   "id": "ad49279f",
   "metadata": {},
   "outputs": [
    {
     "data": {
      "text/html": [
       "<div>\n",
       "<style scoped>\n",
       "    .dataframe tbody tr th:only-of-type {\n",
       "        vertical-align: middle;\n",
       "    }\n",
       "\n",
       "    .dataframe tbody tr th {\n",
       "        vertical-align: top;\n",
       "    }\n",
       "\n",
       "    .dataframe thead th {\n",
       "        text-align: right;\n",
       "    }\n",
       "</style>\n",
       "<table border=\"1\" class=\"dataframe\">\n",
       "  <thead>\n",
       "    <tr style=\"text-align: right;\">\n",
       "      <th></th>\n",
       "      <th>Start_Time</th>\n",
       "      <th>Accident_count</th>\n",
       "      <th>Severity</th>\n",
       "      <th>Start_Lat</th>\n",
       "      <th>Start_Lng</th>\n",
       "      <th>Distance</th>\n",
       "      <th>Temperature</th>\n",
       "      <th>Wind_Chill</th>\n",
       "      <th>Humidity</th>\n",
       "      <th>Pressure</th>\n",
       "      <th>Visibility</th>\n",
       "      <th>Wind_Speed</th>\n",
       "      <th>Precipitation</th>\n",
       "      <th>year</th>\n",
       "      <th>month</th>\n",
       "      <th>day</th>\n",
       "    </tr>\n",
       "    <tr>\n",
       "      <th>State</th>\n",
       "      <th></th>\n",
       "      <th></th>\n",
       "      <th></th>\n",
       "      <th></th>\n",
       "      <th></th>\n",
       "      <th></th>\n",
       "      <th></th>\n",
       "      <th></th>\n",
       "      <th></th>\n",
       "      <th></th>\n",
       "      <th></th>\n",
       "      <th></th>\n",
       "      <th></th>\n",
       "      <th></th>\n",
       "      <th></th>\n",
       "      <th></th>\n",
       "    </tr>\n",
       "  </thead>\n",
       "  <tbody>\n",
       "    <tr>\n",
       "      <th>OH</th>\n",
       "      <td>2016-02-08</td>\n",
       "      <td>36</td>\n",
       "      <td>2.277778</td>\n",
       "      <td>39.841393</td>\n",
       "      <td>-83.700875</td>\n",
       "      <td>0.073611</td>\n",
       "      <td>35.983333</td>\n",
       "      <td>31.493103</td>\n",
       "      <td>92.777778</td>\n",
       "      <td>29.637222</td>\n",
       "      <td>7.333333</td>\n",
       "      <td>5.530303</td>\n",
       "      <td>0.014118</td>\n",
       "      <td>2016</td>\n",
       "      <td>02</td>\n",
       "      <td>08</td>\n",
       "    </tr>\n",
       "    <tr>\n",
       "      <th>OH</th>\n",
       "      <td>2016-02-09</td>\n",
       "      <td>35</td>\n",
       "      <td>2.428571</td>\n",
       "      <td>39.888841</td>\n",
       "      <td>-83.648646</td>\n",
       "      <td>0.009143</td>\n",
       "      <td>23.188571</td>\n",
       "      <td>12.288571</td>\n",
       "      <td>87.485714</td>\n",
       "      <td>29.677714</td>\n",
       "      <td>2.494286</td>\n",
       "      <td>11.125714</td>\n",
       "      <td>0.003846</td>\n",
       "      <td>2016</td>\n",
       "      <td>02</td>\n",
       "      <td>09</td>\n",
       "    </tr>\n",
       "    <tr>\n",
       "      <th>OH</th>\n",
       "      <td>2016-02-10</td>\n",
       "      <td>16</td>\n",
       "      <td>2.562500</td>\n",
       "      <td>40.016197</td>\n",
       "      <td>-83.116289</td>\n",
       "      <td>0.086875</td>\n",
       "      <td>16.387500</td>\n",
       "      <td>3.687500</td>\n",
       "      <td>80.000000</td>\n",
       "      <td>29.918125</td>\n",
       "      <td>3.393750</td>\n",
       "      <td>11.300000</td>\n",
       "      <td>0.001000</td>\n",
       "      <td>2016</td>\n",
       "      <td>02</td>\n",
       "      <td>10</td>\n",
       "    </tr>\n",
       "    <tr>\n",
       "      <th>OH</th>\n",
       "      <td>2016-02-11</td>\n",
       "      <td>35</td>\n",
       "      <td>2.314286</td>\n",
       "      <td>40.045109</td>\n",
       "      <td>-83.477221</td>\n",
       "      <td>0.021714</td>\n",
       "      <td>14.682857</td>\n",
       "      <td>4.575862</td>\n",
       "      <td>67.628571</td>\n",
       "      <td>30.260857</td>\n",
       "      <td>9.485714</td>\n",
       "      <td>8.510345</td>\n",
       "      <td>0.000000</td>\n",
       "      <td>2016</td>\n",
       "      <td>02</td>\n",
       "      <td>11</td>\n",
       "    </tr>\n",
       "    <tr>\n",
       "      <th>OH</th>\n",
       "      <td>2016-02-12</td>\n",
       "      <td>7</td>\n",
       "      <td>2.714286</td>\n",
       "      <td>39.952918</td>\n",
       "      <td>-83.316945</td>\n",
       "      <td>0.908571</td>\n",
       "      <td>21.285714</td>\n",
       "      <td>6.628571</td>\n",
       "      <td>68.142857</td>\n",
       "      <td>30.120000</td>\n",
       "      <td>7.142857</td>\n",
       "      <td>18.585714</td>\n",
       "      <td>0.000000</td>\n",
       "      <td>2016</td>\n",
       "      <td>02</td>\n",
       "      <td>12</td>\n",
       "    </tr>\n",
       "  </tbody>\n",
       "</table>\n",
       "</div>"
      ],
      "text/plain": [
       "       Start_Time  Accident_count  Severity  Start_Lat  Start_Lng  Distance  \\\n",
       "State                                                                         \n",
       "OH     2016-02-08              36  2.277778  39.841393 -83.700875  0.073611   \n",
       "OH     2016-02-09              35  2.428571  39.888841 -83.648646  0.009143   \n",
       "OH     2016-02-10              16  2.562500  40.016197 -83.116289  0.086875   \n",
       "OH     2016-02-11              35  2.314286  40.045109 -83.477221  0.021714   \n",
       "OH     2016-02-12               7  2.714286  39.952918 -83.316945  0.908571   \n",
       "\n",
       "       Temperature  Wind_Chill   Humidity   Pressure  Visibility  Wind_Speed  \\\n",
       "State                                                                          \n",
       "OH       35.983333   31.493103  92.777778  29.637222    7.333333    5.530303   \n",
       "OH       23.188571   12.288571  87.485714  29.677714    2.494286   11.125714   \n",
       "OH       16.387500    3.687500  80.000000  29.918125    3.393750   11.300000   \n",
       "OH       14.682857    4.575862  67.628571  30.260857    9.485714    8.510345   \n",
       "OH       21.285714    6.628571  68.142857  30.120000    7.142857   18.585714   \n",
       "\n",
       "       Precipitation  year month day  \n",
       "State                                 \n",
       "OH          0.014118  2016    02  08  \n",
       "OH          0.003846  2016    02  09  \n",
       "OH          0.001000  2016    02  10  \n",
       "OH          0.000000  2016    02  11  \n",
       "OH          0.000000  2016    02  12  "
      ]
     },
     "execution_count": 18,
     "metadata": {},
     "output_type": "execute_result"
    }
   ],
   "source": [
    "train_df3['year']=train_df3['Start_Time'].astype(str).str[0:4]\n",
    "train_df3['month']=train_df3['Start_Time'].astype(str).str[5:7]\n",
    "train_df3['day']=train_df3['Start_Time'].astype(str).str[8:10]\n",
    "train_df3.head(5)"
   ]
  },
  {
   "cell_type": "code",
   "execution_count": 19,
   "id": "4cec127a",
   "metadata": {},
   "outputs": [
    {
     "data": {
      "text/html": [
       "<div>\n",
       "<style scoped>\n",
       "    .dataframe tbody tr th:only-of-type {\n",
       "        vertical-align: middle;\n",
       "    }\n",
       "\n",
       "    .dataframe tbody tr th {\n",
       "        vertical-align: top;\n",
       "    }\n",
       "\n",
       "    .dataframe thead th {\n",
       "        text-align: right;\n",
       "    }\n",
       "</style>\n",
       "<table border=\"1\" class=\"dataframe\">\n",
       "  <thead>\n",
       "    <tr style=\"text-align: right;\">\n",
       "      <th></th>\n",
       "      <th>State</th>\n",
       "      <th>Start_Time</th>\n",
       "      <th>Accident_count</th>\n",
       "      <th>Severity</th>\n",
       "      <th>Start_Lat</th>\n",
       "      <th>Start_Lng</th>\n",
       "      <th>Distance</th>\n",
       "      <th>Temperature</th>\n",
       "      <th>Wind_Chill</th>\n",
       "      <th>Humidity</th>\n",
       "      <th>Pressure</th>\n",
       "      <th>Visibility</th>\n",
       "      <th>Wind_Speed</th>\n",
       "      <th>Precipitation</th>\n",
       "      <th>year</th>\n",
       "      <th>month</th>\n",
       "      <th>day</th>\n",
       "    </tr>\n",
       "  </thead>\n",
       "  <tbody>\n",
       "    <tr>\n",
       "      <th>0</th>\n",
       "      <td>OH</td>\n",
       "      <td>2016-02-08</td>\n",
       "      <td>36</td>\n",
       "      <td>2.277778</td>\n",
       "      <td>39.841393</td>\n",
       "      <td>-83.700875</td>\n",
       "      <td>0.073611</td>\n",
       "      <td>35.983333</td>\n",
       "      <td>31.493103</td>\n",
       "      <td>92.777778</td>\n",
       "      <td>29.637222</td>\n",
       "      <td>7.333333</td>\n",
       "      <td>5.530303</td>\n",
       "      <td>0.014118</td>\n",
       "      <td>2016</td>\n",
       "      <td>02</td>\n",
       "      <td>08</td>\n",
       "    </tr>\n",
       "    <tr>\n",
       "      <th>1</th>\n",
       "      <td>OH</td>\n",
       "      <td>2016-02-09</td>\n",
       "      <td>35</td>\n",
       "      <td>2.428571</td>\n",
       "      <td>39.888841</td>\n",
       "      <td>-83.648646</td>\n",
       "      <td>0.009143</td>\n",
       "      <td>23.188571</td>\n",
       "      <td>12.288571</td>\n",
       "      <td>87.485714</td>\n",
       "      <td>29.677714</td>\n",
       "      <td>2.494286</td>\n",
       "      <td>11.125714</td>\n",
       "      <td>0.003846</td>\n",
       "      <td>2016</td>\n",
       "      <td>02</td>\n",
       "      <td>09</td>\n",
       "    </tr>\n",
       "    <tr>\n",
       "      <th>2</th>\n",
       "      <td>OH</td>\n",
       "      <td>2016-02-10</td>\n",
       "      <td>16</td>\n",
       "      <td>2.562500</td>\n",
       "      <td>40.016197</td>\n",
       "      <td>-83.116289</td>\n",
       "      <td>0.086875</td>\n",
       "      <td>16.387500</td>\n",
       "      <td>3.687500</td>\n",
       "      <td>80.000000</td>\n",
       "      <td>29.918125</td>\n",
       "      <td>3.393750</td>\n",
       "      <td>11.300000</td>\n",
       "      <td>0.001000</td>\n",
       "      <td>2016</td>\n",
       "      <td>02</td>\n",
       "      <td>10</td>\n",
       "    </tr>\n",
       "    <tr>\n",
       "      <th>3</th>\n",
       "      <td>OH</td>\n",
       "      <td>2016-02-11</td>\n",
       "      <td>35</td>\n",
       "      <td>2.314286</td>\n",
       "      <td>40.045109</td>\n",
       "      <td>-83.477221</td>\n",
       "      <td>0.021714</td>\n",
       "      <td>14.682857</td>\n",
       "      <td>4.575862</td>\n",
       "      <td>67.628571</td>\n",
       "      <td>30.260857</td>\n",
       "      <td>9.485714</td>\n",
       "      <td>8.510345</td>\n",
       "      <td>0.000000</td>\n",
       "      <td>2016</td>\n",
       "      <td>02</td>\n",
       "      <td>11</td>\n",
       "    </tr>\n",
       "    <tr>\n",
       "      <th>4</th>\n",
       "      <td>OH</td>\n",
       "      <td>2016-02-12</td>\n",
       "      <td>7</td>\n",
       "      <td>2.714286</td>\n",
       "      <td>39.952918</td>\n",
       "      <td>-83.316945</td>\n",
       "      <td>0.908571</td>\n",
       "      <td>21.285714</td>\n",
       "      <td>6.628571</td>\n",
       "      <td>68.142857</td>\n",
       "      <td>30.120000</td>\n",
       "      <td>7.142857</td>\n",
       "      <td>18.585714</td>\n",
       "      <td>0.000000</td>\n",
       "      <td>2016</td>\n",
       "      <td>02</td>\n",
       "      <td>12</td>\n",
       "    </tr>\n",
       "  </tbody>\n",
       "</table>\n",
       "</div>"
      ],
      "text/plain": [
       "  State  Start_Time  Accident_count  Severity  Start_Lat  Start_Lng  Distance  \\\n",
       "0    OH  2016-02-08              36  2.277778  39.841393 -83.700875  0.073611   \n",
       "1    OH  2016-02-09              35  2.428571  39.888841 -83.648646  0.009143   \n",
       "2    OH  2016-02-10              16  2.562500  40.016197 -83.116289  0.086875   \n",
       "3    OH  2016-02-11              35  2.314286  40.045109 -83.477221  0.021714   \n",
       "4    OH  2016-02-12               7  2.714286  39.952918 -83.316945  0.908571   \n",
       "\n",
       "   Temperature  Wind_Chill   Humidity   Pressure  Visibility  Wind_Speed  \\\n",
       "0    35.983333   31.493103  92.777778  29.637222    7.333333    5.530303   \n",
       "1    23.188571   12.288571  87.485714  29.677714    2.494286   11.125714   \n",
       "2    16.387500    3.687500  80.000000  29.918125    3.393750   11.300000   \n",
       "3    14.682857    4.575862  67.628571  30.260857    9.485714    8.510345   \n",
       "4    21.285714    6.628571  68.142857  30.120000    7.142857   18.585714   \n",
       "\n",
       "   Precipitation  year month day  \n",
       "0       0.014118  2016    02  08  \n",
       "1       0.003846  2016    02  09  \n",
       "2       0.001000  2016    02  10  \n",
       "3       0.000000  2016    02  11  \n",
       "4       0.000000  2016    02  12  "
      ]
     },
     "execution_count": 19,
     "metadata": {},
     "output_type": "execute_result"
    }
   ],
   "source": [
    "train_df3.reset_index(level=0, inplace=True)\n",
    "train_df3.head(5)"
   ]
  },
  {
   "cell_type": "code",
   "execution_count": 20,
   "id": "0185932a",
   "metadata": {},
   "outputs": [],
   "source": [
    "train_df3=train_df3.dropna()\n",
    "train=train_df3"
   ]
  },
  {
   "cell_type": "code",
   "execution_count": 21,
   "id": "51d0f607",
   "metadata": {},
   "outputs": [
    {
     "data": {
      "text/plain": [
       "Index(['ID', 'Source', 'TMC', 'Severity', 'Start_Time', 'End_Time',\n",
       "       'Start_Lat', 'Start_Lng', 'End_Lat', 'End_Lng', 'Distance(mi)',\n",
       "       'Description', 'Number', 'Street', 'Side', 'City', 'County', 'State',\n",
       "       'Zipcode', 'Country', 'Timezone', 'Airport_Code', 'Weather_Timestamp',\n",
       "       'Temperature(F)', 'Wind_Chill(F)', 'Humidity(%)', 'Pressure(in)',\n",
       "       'Visibility(mi)', 'Wind_Direction', 'Wind_Speed(mph)',\n",
       "       'Precipitation(in)', 'Weather_Condition', 'Amenity', 'Bump', 'Crossing',\n",
       "       'Give_Way', 'Junction', 'No_Exit', 'Railway', 'Roundabout', 'Station',\n",
       "       'Stop', 'Traffic_Calming', 'Traffic_Signal', 'Turning_Loop',\n",
       "       'Sunrise_Sunset', 'Civil_Twilight', 'Nautical_Twilight',\n",
       "       'Astronomical_Twilight'],\n",
       "      dtype='object')"
      ]
     },
     "execution_count": 21,
     "metadata": {},
     "output_type": "execute_result"
    }
   ],
   "source": [
    "data_file1 = '/home/aditya/Downloads/US_Accidents/test.csv'\n",
    "test_df = pd.read_csv(data_file1)\n",
    "testt_df = pd.read_csv(data_file1)\n",
    "test_df.columns"
   ]
  },
  {
   "cell_type": "markdown",
   "id": "9feb0a3d",
   "metadata": {},
   "source": [
    "# TEST DATA"
   ]
  },
  {
   "cell_type": "code",
   "execution_count": 22,
   "id": "ef920083",
   "metadata": {},
   "outputs": [
    {
     "data": {
      "text/html": [
       "<div>\n",
       "<style scoped>\n",
       "    .dataframe tbody tr th:only-of-type {\n",
       "        vertical-align: middle;\n",
       "    }\n",
       "\n",
       "    .dataframe tbody tr th {\n",
       "        vertical-align: top;\n",
       "    }\n",
       "\n",
       "    .dataframe thead th {\n",
       "        text-align: right;\n",
       "    }\n",
       "</style>\n",
       "<table border=\"1\" class=\"dataframe\">\n",
       "  <thead>\n",
       "    <tr style=\"text-align: right;\">\n",
       "      <th></th>\n",
       "      <th>State</th>\n",
       "      <th>Start_Time</th>\n",
       "      <th>Accident_count</th>\n",
       "    </tr>\n",
       "  </thead>\n",
       "  <tbody>\n",
       "    <tr>\n",
       "      <th>0</th>\n",
       "      <td>NC</td>\n",
       "      <td>2019-12-05</td>\n",
       "      <td>0</td>\n",
       "    </tr>\n",
       "    <tr>\n",
       "      <th>1</th>\n",
       "      <td>NC</td>\n",
       "      <td>2019-12-05</td>\n",
       "      <td>0</td>\n",
       "    </tr>\n",
       "    <tr>\n",
       "      <th>2</th>\n",
       "      <td>NC</td>\n",
       "      <td>2019-12-05</td>\n",
       "      <td>0</td>\n",
       "    </tr>\n",
       "    <tr>\n",
       "      <th>3</th>\n",
       "      <td>VA</td>\n",
       "      <td>2019-12-05</td>\n",
       "      <td>0</td>\n",
       "    </tr>\n",
       "    <tr>\n",
       "      <th>4</th>\n",
       "      <td>VA</td>\n",
       "      <td>2019-12-05</td>\n",
       "      <td>0</td>\n",
       "    </tr>\n",
       "  </tbody>\n",
       "</table>\n",
       "</div>"
      ],
      "text/plain": [
       "  State  Start_Time  Accident_count\n",
       "0    NC  2019-12-05               0\n",
       "1    NC  2019-12-05               0\n",
       "2    NC  2019-12-05               0\n",
       "3    VA  2019-12-05               0\n",
       "4    VA  2019-12-05               0"
      ]
     },
     "execution_count": 22,
     "metadata": {},
     "output_type": "execute_result"
    }
   ],
   "source": [
    "test_df[\"Accident_count\"]=0\n",
    "test_df['Start_Time'] = test_df['Start_Time'].astype(str).str[0:10]\n",
    "test_df1=test_df[['State','Start_Time', 'Accident_count']]\n",
    "test_df1.head(5)"
   ]
  },
  {
   "cell_type": "code",
   "execution_count": 23,
   "id": "5587dea3",
   "metadata": {},
   "outputs": [
    {
     "data": {
      "text/html": [
       "<div>\n",
       "<style scoped>\n",
       "    .dataframe tbody tr th:only-of-type {\n",
       "        vertical-align: middle;\n",
       "    }\n",
       "\n",
       "    .dataframe tbody tr th {\n",
       "        vertical-align: top;\n",
       "    }\n",
       "\n",
       "    .dataframe thead th {\n",
       "        text-align: right;\n",
       "    }\n",
       "</style>\n",
       "<table border=\"1\" class=\"dataframe\">\n",
       "  <thead>\n",
       "    <tr style=\"text-align: right;\">\n",
       "      <th></th>\n",
       "      <th></th>\n",
       "      <th>Accident_count</th>\n",
       "    </tr>\n",
       "    <tr>\n",
       "      <th>Start_Time</th>\n",
       "      <th>State</th>\n",
       "      <th></th>\n",
       "    </tr>\n",
       "  </thead>\n",
       "  <tbody>\n",
       "    <tr>\n",
       "      <th rowspan=\"2\" valign=\"top\">2019-12-04</th>\n",
       "      <th>CA</th>\n",
       "      <td>0</td>\n",
       "    </tr>\n",
       "    <tr>\n",
       "      <th>WA</th>\n",
       "      <td>0</td>\n",
       "    </tr>\n",
       "    <tr>\n",
       "      <th rowspan=\"3\" valign=\"top\">2019-12-05</th>\n",
       "      <th>AL</th>\n",
       "      <td>0</td>\n",
       "    </tr>\n",
       "    <tr>\n",
       "      <th>AZ</th>\n",
       "      <td>0</td>\n",
       "    </tr>\n",
       "    <tr>\n",
       "      <th>CA</th>\n",
       "      <td>0</td>\n",
       "    </tr>\n",
       "  </tbody>\n",
       "</table>\n",
       "</div>"
      ],
      "text/plain": [
       "                  Accident_count\n",
       "Start_Time State                \n",
       "2019-12-04 CA                  0\n",
       "           WA                  0\n",
       "2019-12-05 AL                  0\n",
       "           AZ                  0\n",
       "           CA                  0"
      ]
     },
     "execution_count": 23,
     "metadata": {},
     "output_type": "execute_result"
    }
   ],
   "source": [
    "test_df2=test_df1.groupby(by=['Start_Time','State']).sum()\n",
    "test_df2.head(5)"
   ]
  },
  {
   "cell_type": "code",
   "execution_count": 24,
   "id": "71708aa6",
   "metadata": {},
   "outputs": [
    {
     "data": {
      "text/html": [
       "<div>\n",
       "<style scoped>\n",
       "    .dataframe tbody tr th:only-of-type {\n",
       "        vertical-align: middle;\n",
       "    }\n",
       "\n",
       "    .dataframe tbody tr th {\n",
       "        vertical-align: top;\n",
       "    }\n",
       "\n",
       "    .dataframe thead th {\n",
       "        text-align: right;\n",
       "    }\n",
       "</style>\n",
       "<table border=\"1\" class=\"dataframe\">\n",
       "  <thead>\n",
       "    <tr style=\"text-align: right;\">\n",
       "      <th></th>\n",
       "      <th>Accident_count</th>\n",
       "      <th>Severity</th>\n",
       "      <th>Start_Lat</th>\n",
       "      <th>Start_Lng</th>\n",
       "      <th>Distance(mi)</th>\n",
       "      <th>Temperature(F)</th>\n",
       "      <th>Wind_Chill(F)</th>\n",
       "      <th>Humidity(%)</th>\n",
       "      <th>Pressure(in)</th>\n",
       "      <th>Visibility(mi)</th>\n",
       "      <th>Wind_Speed(mph)</th>\n",
       "      <th>Precipitation(in)</th>\n",
       "    </tr>\n",
       "    <tr>\n",
       "      <th>State</th>\n",
       "      <th></th>\n",
       "      <th></th>\n",
       "      <th></th>\n",
       "      <th></th>\n",
       "      <th></th>\n",
       "      <th></th>\n",
       "      <th></th>\n",
       "      <th></th>\n",
       "      <th></th>\n",
       "      <th></th>\n",
       "      <th></th>\n",
       "      <th></th>\n",
       "    </tr>\n",
       "  </thead>\n",
       "  <tbody>\n",
       "    <tr>\n",
       "      <th>CA</th>\n",
       "      <td>0</td>\n",
       "      <td>2.409038</td>\n",
       "      <td>35.512295</td>\n",
       "      <td>-119.489971</td>\n",
       "      <td>0.040106</td>\n",
       "      <td>65.681305</td>\n",
       "      <td>62.799356</td>\n",
       "      <td>59.940059</td>\n",
       "      <td>29.847758</td>\n",
       "      <td>9.190683</td>\n",
       "      <td>7.193729</td>\n",
       "      <td>0.006394</td>\n",
       "    </tr>\n",
       "    <tr>\n",
       "      <th>WA</th>\n",
       "      <td>0</td>\n",
       "      <td>2.386990</td>\n",
       "      <td>47.524463</td>\n",
       "      <td>-121.938787</td>\n",
       "      <td>0.139180</td>\n",
       "      <td>54.278694</td>\n",
       "      <td>46.565097</td>\n",
       "      <td>72.663637</td>\n",
       "      <td>29.890347</td>\n",
       "      <td>9.121186</td>\n",
       "      <td>7.225568</td>\n",
       "      <td>0.009887</td>\n",
       "    </tr>\n",
       "    <tr>\n",
       "      <th>AL</th>\n",
       "      <td>0</td>\n",
       "      <td>2.265405</td>\n",
       "      <td>33.110256</td>\n",
       "      <td>-86.716402</td>\n",
       "      <td>0.370956</td>\n",
       "      <td>65.865823</td>\n",
       "      <td>65.336902</td>\n",
       "      <td>70.519483</td>\n",
       "      <td>29.602524</td>\n",
       "      <td>9.031099</td>\n",
       "      <td>6.408085</td>\n",
       "      <td>0.012884</td>\n",
       "    </tr>\n",
       "    <tr>\n",
       "      <th>AZ</th>\n",
       "      <td>0</td>\n",
       "      <td>2.161568</td>\n",
       "      <td>33.186254</td>\n",
       "      <td>-111.755538</td>\n",
       "      <td>0.181148</td>\n",
       "      <td>71.678975</td>\n",
       "      <td>71.265416</td>\n",
       "      <td>31.779931</td>\n",
       "      <td>28.086619</td>\n",
       "      <td>9.875275</td>\n",
       "      <td>6.602433</td>\n",
       "      <td>0.000824</td>\n",
       "    </tr>\n",
       "    <tr>\n",
       "      <th>CA</th>\n",
       "      <td>0</td>\n",
       "      <td>2.409038</td>\n",
       "      <td>35.512295</td>\n",
       "      <td>-119.489971</td>\n",
       "      <td>0.040106</td>\n",
       "      <td>65.681305</td>\n",
       "      <td>62.799356</td>\n",
       "      <td>59.940059</td>\n",
       "      <td>29.847758</td>\n",
       "      <td>9.190683</td>\n",
       "      <td>7.193729</td>\n",
       "      <td>0.006394</td>\n",
       "    </tr>\n",
       "  </tbody>\n",
       "</table>\n",
       "</div>"
      ],
      "text/plain": [
       "       Accident_count  Severity  Start_Lat   Start_Lng  Distance(mi)  \\\n",
       "State                                                                  \n",
       "CA                  0  2.409038  35.512295 -119.489971      0.040106   \n",
       "WA                  0  2.386990  47.524463 -121.938787      0.139180   \n",
       "AL                  0  2.265405  33.110256  -86.716402      0.370956   \n",
       "AZ                  0  2.161568  33.186254 -111.755538      0.181148   \n",
       "CA                  0  2.409038  35.512295 -119.489971      0.040106   \n",
       "\n",
       "       Temperature(F)  Wind_Chill(F)  Humidity(%)  Pressure(in)  \\\n",
       "State                                                             \n",
       "CA          65.681305      62.799356    59.940059     29.847758   \n",
       "WA          54.278694      46.565097    72.663637     29.890347   \n",
       "AL          65.865823      65.336902    70.519483     29.602524   \n",
       "AZ          71.678975      71.265416    31.779931     28.086619   \n",
       "CA          65.681305      62.799356    59.940059     29.847758   \n",
       "\n",
       "       Visibility(mi)  Wind_Speed(mph)  Precipitation(in)  \n",
       "State                                                      \n",
       "CA           9.190683         7.193729           0.006394  \n",
       "WA           9.121186         7.225568           0.009887  \n",
       "AL           9.031099         6.408085           0.012884  \n",
       "AZ           9.875275         6.602433           0.000824  \n",
       "CA           9.190683         7.193729           0.006394  "
      ]
     },
     "execution_count": 24,
     "metadata": {},
     "output_type": "execute_result"
    }
   ],
   "source": [
    "test_df3 = pd.merge(test_df2,df11,how='left', left_on=['State'], right_on = ['State'])\n",
    "test_df3.head(5)"
   ]
  },
  {
   "cell_type": "code",
   "execution_count": 25,
   "id": "289fe207",
   "metadata": {},
   "outputs": [
    {
     "data": {
      "text/html": [
       "<div>\n",
       "<style scoped>\n",
       "    .dataframe tbody tr th:only-of-type {\n",
       "        vertical-align: middle;\n",
       "    }\n",
       "\n",
       "    .dataframe tbody tr th {\n",
       "        vertical-align: top;\n",
       "    }\n",
       "\n",
       "    .dataframe thead th {\n",
       "        text-align: right;\n",
       "    }\n",
       "</style>\n",
       "<table border=\"1\" class=\"dataframe\">\n",
       "  <thead>\n",
       "    <tr style=\"text-align: right;\">\n",
       "      <th></th>\n",
       "      <th>Accident_count</th>\n",
       "      <th>Severity</th>\n",
       "      <th>Start_Lat</th>\n",
       "      <th>Start_Lng</th>\n",
       "      <th>Distance</th>\n",
       "      <th>Temperature</th>\n",
       "      <th>Wind_Chill</th>\n",
       "      <th>Humidity</th>\n",
       "      <th>Pressure</th>\n",
       "      <th>Visibility</th>\n",
       "      <th>Wind_Speed</th>\n",
       "      <th>Precipitation</th>\n",
       "    </tr>\n",
       "    <tr>\n",
       "      <th>State</th>\n",
       "      <th></th>\n",
       "      <th></th>\n",
       "      <th></th>\n",
       "      <th></th>\n",
       "      <th></th>\n",
       "      <th></th>\n",
       "      <th></th>\n",
       "      <th></th>\n",
       "      <th></th>\n",
       "      <th></th>\n",
       "      <th></th>\n",
       "      <th></th>\n",
       "    </tr>\n",
       "  </thead>\n",
       "  <tbody>\n",
       "    <tr>\n",
       "      <th>CA</th>\n",
       "      <td>0</td>\n",
       "      <td>2.409038</td>\n",
       "      <td>35.512295</td>\n",
       "      <td>-119.489971</td>\n",
       "      <td>0.040106</td>\n",
       "      <td>65.681305</td>\n",
       "      <td>62.799356</td>\n",
       "      <td>59.940059</td>\n",
       "      <td>29.847758</td>\n",
       "      <td>9.190683</td>\n",
       "      <td>7.193729</td>\n",
       "      <td>0.006394</td>\n",
       "    </tr>\n",
       "    <tr>\n",
       "      <th>WA</th>\n",
       "      <td>0</td>\n",
       "      <td>2.386990</td>\n",
       "      <td>47.524463</td>\n",
       "      <td>-121.938787</td>\n",
       "      <td>0.139180</td>\n",
       "      <td>54.278694</td>\n",
       "      <td>46.565097</td>\n",
       "      <td>72.663637</td>\n",
       "      <td>29.890347</td>\n",
       "      <td>9.121186</td>\n",
       "      <td>7.225568</td>\n",
       "      <td>0.009887</td>\n",
       "    </tr>\n",
       "    <tr>\n",
       "      <th>AL</th>\n",
       "      <td>0</td>\n",
       "      <td>2.265405</td>\n",
       "      <td>33.110256</td>\n",
       "      <td>-86.716402</td>\n",
       "      <td>0.370956</td>\n",
       "      <td>65.865823</td>\n",
       "      <td>65.336902</td>\n",
       "      <td>70.519483</td>\n",
       "      <td>29.602524</td>\n",
       "      <td>9.031099</td>\n",
       "      <td>6.408085</td>\n",
       "      <td>0.012884</td>\n",
       "    </tr>\n",
       "    <tr>\n",
       "      <th>AZ</th>\n",
       "      <td>0</td>\n",
       "      <td>2.161568</td>\n",
       "      <td>33.186254</td>\n",
       "      <td>-111.755538</td>\n",
       "      <td>0.181148</td>\n",
       "      <td>71.678975</td>\n",
       "      <td>71.265416</td>\n",
       "      <td>31.779931</td>\n",
       "      <td>28.086619</td>\n",
       "      <td>9.875275</td>\n",
       "      <td>6.602433</td>\n",
       "      <td>0.000824</td>\n",
       "    </tr>\n",
       "    <tr>\n",
       "      <th>CA</th>\n",
       "      <td>0</td>\n",
       "      <td>2.409038</td>\n",
       "      <td>35.512295</td>\n",
       "      <td>-119.489971</td>\n",
       "      <td>0.040106</td>\n",
       "      <td>65.681305</td>\n",
       "      <td>62.799356</td>\n",
       "      <td>59.940059</td>\n",
       "      <td>29.847758</td>\n",
       "      <td>9.190683</td>\n",
       "      <td>7.193729</td>\n",
       "      <td>0.006394</td>\n",
       "    </tr>\n",
       "  </tbody>\n",
       "</table>\n",
       "</div>"
      ],
      "text/plain": [
       "       Accident_count  Severity  Start_Lat   Start_Lng  Distance  Temperature  \\\n",
       "State                                                                           \n",
       "CA                  0  2.409038  35.512295 -119.489971  0.040106    65.681305   \n",
       "WA                  0  2.386990  47.524463 -121.938787  0.139180    54.278694   \n",
       "AL                  0  2.265405  33.110256  -86.716402  0.370956    65.865823   \n",
       "AZ                  0  2.161568  33.186254 -111.755538  0.181148    71.678975   \n",
       "CA                  0  2.409038  35.512295 -119.489971  0.040106    65.681305   \n",
       "\n",
       "       Wind_Chill   Humidity   Pressure  Visibility  Wind_Speed  Precipitation  \n",
       "State                                                                           \n",
       "CA      62.799356  59.940059  29.847758    9.190683    7.193729       0.006394  \n",
       "WA      46.565097  72.663637  29.890347    9.121186    7.225568       0.009887  \n",
       "AL      65.336902  70.519483  29.602524    9.031099    6.408085       0.012884  \n",
       "AZ      71.265416  31.779931  28.086619    9.875275    6.602433       0.000824  \n",
       "CA      62.799356  59.940059  29.847758    9.190683    7.193729       0.006394  "
      ]
     },
     "execution_count": 25,
     "metadata": {},
     "output_type": "execute_result"
    }
   ],
   "source": [
    "test_df3=test_df3.rename(columns={\"Distance(mi)\": \"Distance\"})\n",
    "test_df3=test_df3.rename(columns={\"Temperature(F)\": \"Temperature\"})\n",
    "test_df3=test_df3.rename(columns={\"Wind_Chill(F)\": \"Wind_Chill\"})\n",
    "test_df3=test_df3.rename(columns={\"Humidity(%)\": \"Humidity\"})\n",
    "test_df3=test_df3.rename(columns={\"Pressure(in)\": \"Pressure\"})\n",
    "test_df3=test_df3.rename(columns={\"Visibility(mi)\": \"Visibility\"})\n",
    "test_df3=test_df3.rename(columns={\"Wind_Speed(mph)\": \"Wind_Speed\"})\n",
    "test_df3=test_df3.rename(columns={\"Precipitation(in)\": \"Precipitation\"})\n",
    "test_df3.head(5)"
   ]
  },
  {
   "cell_type": "code",
   "execution_count": 26,
   "id": "227e5807",
   "metadata": {},
   "outputs": [
    {
     "data": {
      "text/html": [
       "<div>\n",
       "<style scoped>\n",
       "    .dataframe tbody tr th:only-of-type {\n",
       "        vertical-align: middle;\n",
       "    }\n",
       "\n",
       "    .dataframe tbody tr th {\n",
       "        vertical-align: top;\n",
       "    }\n",
       "\n",
       "    .dataframe thead th {\n",
       "        text-align: right;\n",
       "    }\n",
       "</style>\n",
       "<table border=\"1\" class=\"dataframe\">\n",
       "  <thead>\n",
       "    <tr style=\"text-align: right;\">\n",
       "      <th></th>\n",
       "      <th>Start_Time</th>\n",
       "      <th>Accident_count</th>\n",
       "    </tr>\n",
       "    <tr>\n",
       "      <th>State</th>\n",
       "      <th></th>\n",
       "      <th></th>\n",
       "    </tr>\n",
       "  </thead>\n",
       "  <tbody>\n",
       "    <tr>\n",
       "      <th>CA</th>\n",
       "      <td>2019-12-04</td>\n",
       "      <td>0</td>\n",
       "    </tr>\n",
       "    <tr>\n",
       "      <th>WA</th>\n",
       "      <td>2019-12-04</td>\n",
       "      <td>0</td>\n",
       "    </tr>\n",
       "    <tr>\n",
       "      <th>AL</th>\n",
       "      <td>2019-12-05</td>\n",
       "      <td>0</td>\n",
       "    </tr>\n",
       "    <tr>\n",
       "      <th>AZ</th>\n",
       "      <td>2019-12-05</td>\n",
       "      <td>0</td>\n",
       "    </tr>\n",
       "    <tr>\n",
       "      <th>CA</th>\n",
       "      <td>2019-12-05</td>\n",
       "      <td>0</td>\n",
       "    </tr>\n",
       "  </tbody>\n",
       "</table>\n",
       "</div>"
      ],
      "text/plain": [
       "       Start_Time  Accident_count\n",
       "State                            \n",
       "CA     2019-12-04               0\n",
       "WA     2019-12-04               0\n",
       "AL     2019-12-05               0\n",
       "AZ     2019-12-05               0\n",
       "CA     2019-12-05               0"
      ]
     },
     "execution_count": 26,
     "metadata": {},
     "output_type": "execute_result"
    }
   ],
   "source": [
    "test_df2.reset_index(level=0, inplace=True)\n",
    "test_df2.head(5)"
   ]
  },
  {
   "cell_type": "code",
   "execution_count": 27,
   "id": "4ad390fc",
   "metadata": {},
   "outputs": [
    {
     "data": {
      "text/html": [
       "<div>\n",
       "<style scoped>\n",
       "    .dataframe tbody tr th:only-of-type {\n",
       "        vertical-align: middle;\n",
       "    }\n",
       "\n",
       "    .dataframe tbody tr th {\n",
       "        vertical-align: top;\n",
       "    }\n",
       "\n",
       "    .dataframe thead th {\n",
       "        text-align: right;\n",
       "    }\n",
       "</style>\n",
       "<table border=\"1\" class=\"dataframe\">\n",
       "  <thead>\n",
       "    <tr style=\"text-align: right;\">\n",
       "      <th></th>\n",
       "      <th>Accident_count_x</th>\n",
       "      <th>Severity</th>\n",
       "      <th>Start_Lat</th>\n",
       "      <th>Start_Lng</th>\n",
       "      <th>Distance</th>\n",
       "      <th>Temperature</th>\n",
       "      <th>Wind_Chill</th>\n",
       "      <th>Humidity</th>\n",
       "      <th>Pressure</th>\n",
       "      <th>Visibility</th>\n",
       "      <th>Wind_Speed</th>\n",
       "      <th>Precipitation</th>\n",
       "      <th>Start_Time</th>\n",
       "      <th>Accident_count_y</th>\n",
       "    </tr>\n",
       "    <tr>\n",
       "      <th>State</th>\n",
       "      <th></th>\n",
       "      <th></th>\n",
       "      <th></th>\n",
       "      <th></th>\n",
       "      <th></th>\n",
       "      <th></th>\n",
       "      <th></th>\n",
       "      <th></th>\n",
       "      <th></th>\n",
       "      <th></th>\n",
       "      <th></th>\n",
       "      <th></th>\n",
       "      <th></th>\n",
       "      <th></th>\n",
       "    </tr>\n",
       "  </thead>\n",
       "  <tbody>\n",
       "    <tr>\n",
       "      <th>CA</th>\n",
       "      <td>0</td>\n",
       "      <td>2.409038</td>\n",
       "      <td>35.512295</td>\n",
       "      <td>-119.489971</td>\n",
       "      <td>0.040106</td>\n",
       "      <td>65.681305</td>\n",
       "      <td>62.799356</td>\n",
       "      <td>59.940059</td>\n",
       "      <td>29.847758</td>\n",
       "      <td>9.190683</td>\n",
       "      <td>7.193729</td>\n",
       "      <td>0.006394</td>\n",
       "      <td>2019-12-04</td>\n",
       "      <td>0</td>\n",
       "    </tr>\n",
       "    <tr>\n",
       "      <th>CA</th>\n",
       "      <td>0</td>\n",
       "      <td>2.409038</td>\n",
       "      <td>35.512295</td>\n",
       "      <td>-119.489971</td>\n",
       "      <td>0.040106</td>\n",
       "      <td>65.681305</td>\n",
       "      <td>62.799356</td>\n",
       "      <td>59.940059</td>\n",
       "      <td>29.847758</td>\n",
       "      <td>9.190683</td>\n",
       "      <td>7.193729</td>\n",
       "      <td>0.006394</td>\n",
       "      <td>2019-12-05</td>\n",
       "      <td>0</td>\n",
       "    </tr>\n",
       "    <tr>\n",
       "      <th>CA</th>\n",
       "      <td>0</td>\n",
       "      <td>2.409038</td>\n",
       "      <td>35.512295</td>\n",
       "      <td>-119.489971</td>\n",
       "      <td>0.040106</td>\n",
       "      <td>65.681305</td>\n",
       "      <td>62.799356</td>\n",
       "      <td>59.940059</td>\n",
       "      <td>29.847758</td>\n",
       "      <td>9.190683</td>\n",
       "      <td>7.193729</td>\n",
       "      <td>0.006394</td>\n",
       "      <td>2019-12-06</td>\n",
       "      <td>0</td>\n",
       "    </tr>\n",
       "    <tr>\n",
       "      <th>CA</th>\n",
       "      <td>0</td>\n",
       "      <td>2.409038</td>\n",
       "      <td>35.512295</td>\n",
       "      <td>-119.489971</td>\n",
       "      <td>0.040106</td>\n",
       "      <td>65.681305</td>\n",
       "      <td>62.799356</td>\n",
       "      <td>59.940059</td>\n",
       "      <td>29.847758</td>\n",
       "      <td>9.190683</td>\n",
       "      <td>7.193729</td>\n",
       "      <td>0.006394</td>\n",
       "      <td>2019-12-07</td>\n",
       "      <td>0</td>\n",
       "    </tr>\n",
       "    <tr>\n",
       "      <th>WA</th>\n",
       "      <td>0</td>\n",
       "      <td>2.386990</td>\n",
       "      <td>47.524463</td>\n",
       "      <td>-121.938787</td>\n",
       "      <td>0.139180</td>\n",
       "      <td>54.278694</td>\n",
       "      <td>46.565097</td>\n",
       "      <td>72.663637</td>\n",
       "      <td>29.890347</td>\n",
       "      <td>9.121186</td>\n",
       "      <td>7.225568</td>\n",
       "      <td>0.009887</td>\n",
       "      <td>2019-12-04</td>\n",
       "      <td>0</td>\n",
       "    </tr>\n",
       "  </tbody>\n",
       "</table>\n",
       "</div>"
      ],
      "text/plain": [
       "       Accident_count_x  Severity  Start_Lat   Start_Lng  Distance  \\\n",
       "State                                                                \n",
       "CA                    0  2.409038  35.512295 -119.489971  0.040106   \n",
       "CA                    0  2.409038  35.512295 -119.489971  0.040106   \n",
       "CA                    0  2.409038  35.512295 -119.489971  0.040106   \n",
       "CA                    0  2.409038  35.512295 -119.489971  0.040106   \n",
       "WA                    0  2.386990  47.524463 -121.938787  0.139180   \n",
       "\n",
       "       Temperature  Wind_Chill   Humidity   Pressure  Visibility  Wind_Speed  \\\n",
       "State                                                                          \n",
       "CA       65.681305   62.799356  59.940059  29.847758    9.190683    7.193729   \n",
       "CA       65.681305   62.799356  59.940059  29.847758    9.190683    7.193729   \n",
       "CA       65.681305   62.799356  59.940059  29.847758    9.190683    7.193729   \n",
       "CA       65.681305   62.799356  59.940059  29.847758    9.190683    7.193729   \n",
       "WA       54.278694   46.565097  72.663637  29.890347    9.121186    7.225568   \n",
       "\n",
       "       Precipitation  Start_Time  Accident_count_y  \n",
       "State                                               \n",
       "CA          0.006394  2019-12-04                 0  \n",
       "CA          0.006394  2019-12-05                 0  \n",
       "CA          0.006394  2019-12-06                 0  \n",
       "CA          0.006394  2019-12-07                 0  \n",
       "WA          0.009887  2019-12-04                 0  "
      ]
     },
     "execution_count": 27,
     "metadata": {},
     "output_type": "execute_result"
    }
   ],
   "source": [
    "test_df4 = pd.merge(test_df3,test_df2,how='left', left_on=['State'], right_on = ['State'])\n",
    "test_df4.head(5)"
   ]
  },
  {
   "cell_type": "code",
   "execution_count": 28,
   "id": "c019158e",
   "metadata": {},
   "outputs": [
    {
     "data": {
      "text/html": [
       "<div>\n",
       "<style scoped>\n",
       "    .dataframe tbody tr th:only-of-type {\n",
       "        vertical-align: middle;\n",
       "    }\n",
       "\n",
       "    .dataframe tbody tr th {\n",
       "        vertical-align: top;\n",
       "    }\n",
       "\n",
       "    .dataframe thead th {\n",
       "        text-align: right;\n",
       "    }\n",
       "</style>\n",
       "<table border=\"1\" class=\"dataframe\">\n",
       "  <thead>\n",
       "    <tr style=\"text-align: right;\">\n",
       "      <th></th>\n",
       "      <th>Accident_count</th>\n",
       "      <th>Severity</th>\n",
       "      <th>Start_Lat</th>\n",
       "      <th>Start_Lng</th>\n",
       "      <th>Distance</th>\n",
       "      <th>Temperature</th>\n",
       "      <th>Wind_Chill</th>\n",
       "      <th>Humidity</th>\n",
       "      <th>Pressure</th>\n",
       "      <th>Visibility</th>\n",
       "      <th>Wind_Speed</th>\n",
       "      <th>Precipitation</th>\n",
       "      <th>Start_Time</th>\n",
       "    </tr>\n",
       "    <tr>\n",
       "      <th>State</th>\n",
       "      <th></th>\n",
       "      <th></th>\n",
       "      <th></th>\n",
       "      <th></th>\n",
       "      <th></th>\n",
       "      <th></th>\n",
       "      <th></th>\n",
       "      <th></th>\n",
       "      <th></th>\n",
       "      <th></th>\n",
       "      <th></th>\n",
       "      <th></th>\n",
       "      <th></th>\n",
       "    </tr>\n",
       "  </thead>\n",
       "  <tbody>\n",
       "    <tr>\n",
       "      <th>CA</th>\n",
       "      <td>0</td>\n",
       "      <td>2.409038</td>\n",
       "      <td>35.512295</td>\n",
       "      <td>-119.489971</td>\n",
       "      <td>0.040106</td>\n",
       "      <td>65.681305</td>\n",
       "      <td>62.799356</td>\n",
       "      <td>59.940059</td>\n",
       "      <td>29.847758</td>\n",
       "      <td>9.190683</td>\n",
       "      <td>7.193729</td>\n",
       "      <td>0.006394</td>\n",
       "      <td>2019-12-04</td>\n",
       "    </tr>\n",
       "    <tr>\n",
       "      <th>CA</th>\n",
       "      <td>0</td>\n",
       "      <td>2.409038</td>\n",
       "      <td>35.512295</td>\n",
       "      <td>-119.489971</td>\n",
       "      <td>0.040106</td>\n",
       "      <td>65.681305</td>\n",
       "      <td>62.799356</td>\n",
       "      <td>59.940059</td>\n",
       "      <td>29.847758</td>\n",
       "      <td>9.190683</td>\n",
       "      <td>7.193729</td>\n",
       "      <td>0.006394</td>\n",
       "      <td>2019-12-05</td>\n",
       "    </tr>\n",
       "    <tr>\n",
       "      <th>CA</th>\n",
       "      <td>0</td>\n",
       "      <td>2.409038</td>\n",
       "      <td>35.512295</td>\n",
       "      <td>-119.489971</td>\n",
       "      <td>0.040106</td>\n",
       "      <td>65.681305</td>\n",
       "      <td>62.799356</td>\n",
       "      <td>59.940059</td>\n",
       "      <td>29.847758</td>\n",
       "      <td>9.190683</td>\n",
       "      <td>7.193729</td>\n",
       "      <td>0.006394</td>\n",
       "      <td>2019-12-06</td>\n",
       "    </tr>\n",
       "    <tr>\n",
       "      <th>CA</th>\n",
       "      <td>0</td>\n",
       "      <td>2.409038</td>\n",
       "      <td>35.512295</td>\n",
       "      <td>-119.489971</td>\n",
       "      <td>0.040106</td>\n",
       "      <td>65.681305</td>\n",
       "      <td>62.799356</td>\n",
       "      <td>59.940059</td>\n",
       "      <td>29.847758</td>\n",
       "      <td>9.190683</td>\n",
       "      <td>7.193729</td>\n",
       "      <td>0.006394</td>\n",
       "      <td>2019-12-07</td>\n",
       "    </tr>\n",
       "    <tr>\n",
       "      <th>WA</th>\n",
       "      <td>0</td>\n",
       "      <td>2.386990</td>\n",
       "      <td>47.524463</td>\n",
       "      <td>-121.938787</td>\n",
       "      <td>0.139180</td>\n",
       "      <td>54.278694</td>\n",
       "      <td>46.565097</td>\n",
       "      <td>72.663637</td>\n",
       "      <td>29.890347</td>\n",
       "      <td>9.121186</td>\n",
       "      <td>7.225568</td>\n",
       "      <td>0.009887</td>\n",
       "      <td>2019-12-04</td>\n",
       "    </tr>\n",
       "  </tbody>\n",
       "</table>\n",
       "</div>"
      ],
      "text/plain": [
       "       Accident_count  Severity  Start_Lat   Start_Lng  Distance  Temperature  \\\n",
       "State                                                                           \n",
       "CA                  0  2.409038  35.512295 -119.489971  0.040106    65.681305   \n",
       "CA                  0  2.409038  35.512295 -119.489971  0.040106    65.681305   \n",
       "CA                  0  2.409038  35.512295 -119.489971  0.040106    65.681305   \n",
       "CA                  0  2.409038  35.512295 -119.489971  0.040106    65.681305   \n",
       "WA                  0  2.386990  47.524463 -121.938787  0.139180    54.278694   \n",
       "\n",
       "       Wind_Chill   Humidity   Pressure  Visibility  Wind_Speed  \\\n",
       "State                                                             \n",
       "CA      62.799356  59.940059  29.847758    9.190683    7.193729   \n",
       "CA      62.799356  59.940059  29.847758    9.190683    7.193729   \n",
       "CA      62.799356  59.940059  29.847758    9.190683    7.193729   \n",
       "CA      62.799356  59.940059  29.847758    9.190683    7.193729   \n",
       "WA      46.565097  72.663637  29.890347    9.121186    7.225568   \n",
       "\n",
       "       Precipitation  Start_Time  \n",
       "State                             \n",
       "CA          0.006394  2019-12-04  \n",
       "CA          0.006394  2019-12-05  \n",
       "CA          0.006394  2019-12-06  \n",
       "CA          0.006394  2019-12-07  \n",
       "WA          0.009887  2019-12-04  "
      ]
     },
     "execution_count": 28,
     "metadata": {},
     "output_type": "execute_result"
    }
   ],
   "source": [
    "test_df5=test_df4.drop(columns={\"Accident_count_y\"})\n",
    "test_df5=test_df5.rename(columns={\"Accident_count_x\": \"Accident_count\"})\n",
    "test_df5.head(5)"
   ]
  },
  {
   "cell_type": "code",
   "execution_count": 29,
   "id": "b099d46f",
   "metadata": {},
   "outputs": [
    {
     "data": {
      "text/html": [
       "<div>\n",
       "<style scoped>\n",
       "    .dataframe tbody tr th:only-of-type {\n",
       "        vertical-align: middle;\n",
       "    }\n",
       "\n",
       "    .dataframe tbody tr th {\n",
       "        vertical-align: top;\n",
       "    }\n",
       "\n",
       "    .dataframe thead th {\n",
       "        text-align: right;\n",
       "    }\n",
       "</style>\n",
       "<table border=\"1\" class=\"dataframe\">\n",
       "  <thead>\n",
       "    <tr style=\"text-align: right;\">\n",
       "      <th></th>\n",
       "      <th>Accident_count</th>\n",
       "      <th>Severity</th>\n",
       "      <th>Start_Lat</th>\n",
       "      <th>Start_Lng</th>\n",
       "      <th>Distance</th>\n",
       "      <th>Temperature</th>\n",
       "      <th>Wind_Chill</th>\n",
       "      <th>Humidity</th>\n",
       "      <th>Pressure</th>\n",
       "      <th>Visibility</th>\n",
       "      <th>Wind_Speed</th>\n",
       "      <th>Precipitation</th>\n",
       "      <th>Start_Time</th>\n",
       "      <th>year</th>\n",
       "      <th>month</th>\n",
       "      <th>day</th>\n",
       "    </tr>\n",
       "    <tr>\n",
       "      <th>State</th>\n",
       "      <th></th>\n",
       "      <th></th>\n",
       "      <th></th>\n",
       "      <th></th>\n",
       "      <th></th>\n",
       "      <th></th>\n",
       "      <th></th>\n",
       "      <th></th>\n",
       "      <th></th>\n",
       "      <th></th>\n",
       "      <th></th>\n",
       "      <th></th>\n",
       "      <th></th>\n",
       "      <th></th>\n",
       "      <th></th>\n",
       "      <th></th>\n",
       "    </tr>\n",
       "  </thead>\n",
       "  <tbody>\n",
       "    <tr>\n",
       "      <th>CA</th>\n",
       "      <td>0</td>\n",
       "      <td>2.409038</td>\n",
       "      <td>35.512295</td>\n",
       "      <td>-119.489971</td>\n",
       "      <td>0.040106</td>\n",
       "      <td>65.681305</td>\n",
       "      <td>62.799356</td>\n",
       "      <td>59.940059</td>\n",
       "      <td>29.847758</td>\n",
       "      <td>9.190683</td>\n",
       "      <td>7.193729</td>\n",
       "      <td>0.006394</td>\n",
       "      <td>2019-12-04</td>\n",
       "      <td>2019</td>\n",
       "      <td>12</td>\n",
       "      <td>04</td>\n",
       "    </tr>\n",
       "    <tr>\n",
       "      <th>CA</th>\n",
       "      <td>0</td>\n",
       "      <td>2.409038</td>\n",
       "      <td>35.512295</td>\n",
       "      <td>-119.489971</td>\n",
       "      <td>0.040106</td>\n",
       "      <td>65.681305</td>\n",
       "      <td>62.799356</td>\n",
       "      <td>59.940059</td>\n",
       "      <td>29.847758</td>\n",
       "      <td>9.190683</td>\n",
       "      <td>7.193729</td>\n",
       "      <td>0.006394</td>\n",
       "      <td>2019-12-05</td>\n",
       "      <td>2019</td>\n",
       "      <td>12</td>\n",
       "      <td>05</td>\n",
       "    </tr>\n",
       "    <tr>\n",
       "      <th>CA</th>\n",
       "      <td>0</td>\n",
       "      <td>2.409038</td>\n",
       "      <td>35.512295</td>\n",
       "      <td>-119.489971</td>\n",
       "      <td>0.040106</td>\n",
       "      <td>65.681305</td>\n",
       "      <td>62.799356</td>\n",
       "      <td>59.940059</td>\n",
       "      <td>29.847758</td>\n",
       "      <td>9.190683</td>\n",
       "      <td>7.193729</td>\n",
       "      <td>0.006394</td>\n",
       "      <td>2019-12-06</td>\n",
       "      <td>2019</td>\n",
       "      <td>12</td>\n",
       "      <td>06</td>\n",
       "    </tr>\n",
       "    <tr>\n",
       "      <th>CA</th>\n",
       "      <td>0</td>\n",
       "      <td>2.409038</td>\n",
       "      <td>35.512295</td>\n",
       "      <td>-119.489971</td>\n",
       "      <td>0.040106</td>\n",
       "      <td>65.681305</td>\n",
       "      <td>62.799356</td>\n",
       "      <td>59.940059</td>\n",
       "      <td>29.847758</td>\n",
       "      <td>9.190683</td>\n",
       "      <td>7.193729</td>\n",
       "      <td>0.006394</td>\n",
       "      <td>2019-12-07</td>\n",
       "      <td>2019</td>\n",
       "      <td>12</td>\n",
       "      <td>07</td>\n",
       "    </tr>\n",
       "    <tr>\n",
       "      <th>WA</th>\n",
       "      <td>0</td>\n",
       "      <td>2.386990</td>\n",
       "      <td>47.524463</td>\n",
       "      <td>-121.938787</td>\n",
       "      <td>0.139180</td>\n",
       "      <td>54.278694</td>\n",
       "      <td>46.565097</td>\n",
       "      <td>72.663637</td>\n",
       "      <td>29.890347</td>\n",
       "      <td>9.121186</td>\n",
       "      <td>7.225568</td>\n",
       "      <td>0.009887</td>\n",
       "      <td>2019-12-04</td>\n",
       "      <td>2019</td>\n",
       "      <td>12</td>\n",
       "      <td>04</td>\n",
       "    </tr>\n",
       "  </tbody>\n",
       "</table>\n",
       "</div>"
      ],
      "text/plain": [
       "       Accident_count  Severity  Start_Lat   Start_Lng  Distance  Temperature  \\\n",
       "State                                                                           \n",
       "CA                  0  2.409038  35.512295 -119.489971  0.040106    65.681305   \n",
       "CA                  0  2.409038  35.512295 -119.489971  0.040106    65.681305   \n",
       "CA                  0  2.409038  35.512295 -119.489971  0.040106    65.681305   \n",
       "CA                  0  2.409038  35.512295 -119.489971  0.040106    65.681305   \n",
       "WA                  0  2.386990  47.524463 -121.938787  0.139180    54.278694   \n",
       "\n",
       "       Wind_Chill   Humidity   Pressure  Visibility  Wind_Speed  \\\n",
       "State                                                             \n",
       "CA      62.799356  59.940059  29.847758    9.190683    7.193729   \n",
       "CA      62.799356  59.940059  29.847758    9.190683    7.193729   \n",
       "CA      62.799356  59.940059  29.847758    9.190683    7.193729   \n",
       "CA      62.799356  59.940059  29.847758    9.190683    7.193729   \n",
       "WA      46.565097  72.663637  29.890347    9.121186    7.225568   \n",
       "\n",
       "       Precipitation  Start_Time  year month day  \n",
       "State                                             \n",
       "CA          0.006394  2019-12-04  2019    12  04  \n",
       "CA          0.006394  2019-12-05  2019    12  05  \n",
       "CA          0.006394  2019-12-06  2019    12  06  \n",
       "CA          0.006394  2019-12-07  2019    12  07  \n",
       "WA          0.009887  2019-12-04  2019    12  04  "
      ]
     },
     "execution_count": 29,
     "metadata": {},
     "output_type": "execute_result"
    }
   ],
   "source": [
    "test_df5['year']=test_df5['Start_Time'].astype(str).str[0:4]\n",
    "test_df5['month']=test_df5['Start_Time'].astype(str).str[5:7]\n",
    "test_df5['day']=test_df5['Start_Time'].astype(str).str[8:10]\n",
    "test_df5.head(5)"
   ]
  },
  {
   "cell_type": "code",
   "execution_count": 30,
   "id": "fb6977cf",
   "metadata": {},
   "outputs": [
    {
     "data": {
      "text/html": [
       "<div>\n",
       "<style scoped>\n",
       "    .dataframe tbody tr th:only-of-type {\n",
       "        vertical-align: middle;\n",
       "    }\n",
       "\n",
       "    .dataframe tbody tr th {\n",
       "        vertical-align: top;\n",
       "    }\n",
       "\n",
       "    .dataframe thead th {\n",
       "        text-align: right;\n",
       "    }\n",
       "</style>\n",
       "<table border=\"1\" class=\"dataframe\">\n",
       "  <thead>\n",
       "    <tr style=\"text-align: right;\">\n",
       "      <th></th>\n",
       "      <th>State</th>\n",
       "      <th>Accident_count</th>\n",
       "      <th>Severity</th>\n",
       "      <th>Start_Lat</th>\n",
       "      <th>Start_Lng</th>\n",
       "      <th>Distance</th>\n",
       "      <th>Temperature</th>\n",
       "      <th>Wind_Chill</th>\n",
       "      <th>Humidity</th>\n",
       "      <th>Pressure</th>\n",
       "      <th>Visibility</th>\n",
       "      <th>Wind_Speed</th>\n",
       "      <th>Precipitation</th>\n",
       "      <th>Start_Time</th>\n",
       "      <th>year</th>\n",
       "      <th>month</th>\n",
       "      <th>day</th>\n",
       "    </tr>\n",
       "  </thead>\n",
       "  <tbody>\n",
       "    <tr>\n",
       "      <th>0</th>\n",
       "      <td>CA</td>\n",
       "      <td>0</td>\n",
       "      <td>2.409038</td>\n",
       "      <td>35.512295</td>\n",
       "      <td>-119.489971</td>\n",
       "      <td>0.040106</td>\n",
       "      <td>65.681305</td>\n",
       "      <td>62.799356</td>\n",
       "      <td>59.940059</td>\n",
       "      <td>29.847758</td>\n",
       "      <td>9.190683</td>\n",
       "      <td>7.193729</td>\n",
       "      <td>0.006394</td>\n",
       "      <td>2019-12-04</td>\n",
       "      <td>2019</td>\n",
       "      <td>12</td>\n",
       "      <td>04</td>\n",
       "    </tr>\n",
       "    <tr>\n",
       "      <th>1</th>\n",
       "      <td>CA</td>\n",
       "      <td>0</td>\n",
       "      <td>2.409038</td>\n",
       "      <td>35.512295</td>\n",
       "      <td>-119.489971</td>\n",
       "      <td>0.040106</td>\n",
       "      <td>65.681305</td>\n",
       "      <td>62.799356</td>\n",
       "      <td>59.940059</td>\n",
       "      <td>29.847758</td>\n",
       "      <td>9.190683</td>\n",
       "      <td>7.193729</td>\n",
       "      <td>0.006394</td>\n",
       "      <td>2019-12-05</td>\n",
       "      <td>2019</td>\n",
       "      <td>12</td>\n",
       "      <td>05</td>\n",
       "    </tr>\n",
       "    <tr>\n",
       "      <th>2</th>\n",
       "      <td>CA</td>\n",
       "      <td>0</td>\n",
       "      <td>2.409038</td>\n",
       "      <td>35.512295</td>\n",
       "      <td>-119.489971</td>\n",
       "      <td>0.040106</td>\n",
       "      <td>65.681305</td>\n",
       "      <td>62.799356</td>\n",
       "      <td>59.940059</td>\n",
       "      <td>29.847758</td>\n",
       "      <td>9.190683</td>\n",
       "      <td>7.193729</td>\n",
       "      <td>0.006394</td>\n",
       "      <td>2019-12-06</td>\n",
       "      <td>2019</td>\n",
       "      <td>12</td>\n",
       "      <td>06</td>\n",
       "    </tr>\n",
       "    <tr>\n",
       "      <th>3</th>\n",
       "      <td>CA</td>\n",
       "      <td>0</td>\n",
       "      <td>2.409038</td>\n",
       "      <td>35.512295</td>\n",
       "      <td>-119.489971</td>\n",
       "      <td>0.040106</td>\n",
       "      <td>65.681305</td>\n",
       "      <td>62.799356</td>\n",
       "      <td>59.940059</td>\n",
       "      <td>29.847758</td>\n",
       "      <td>9.190683</td>\n",
       "      <td>7.193729</td>\n",
       "      <td>0.006394</td>\n",
       "      <td>2019-12-07</td>\n",
       "      <td>2019</td>\n",
       "      <td>12</td>\n",
       "      <td>07</td>\n",
       "    </tr>\n",
       "    <tr>\n",
       "      <th>4</th>\n",
       "      <td>WA</td>\n",
       "      <td>0</td>\n",
       "      <td>2.386990</td>\n",
       "      <td>47.524463</td>\n",
       "      <td>-121.938787</td>\n",
       "      <td>0.139180</td>\n",
       "      <td>54.278694</td>\n",
       "      <td>46.565097</td>\n",
       "      <td>72.663637</td>\n",
       "      <td>29.890347</td>\n",
       "      <td>9.121186</td>\n",
       "      <td>7.225568</td>\n",
       "      <td>0.009887</td>\n",
       "      <td>2019-12-04</td>\n",
       "      <td>2019</td>\n",
       "      <td>12</td>\n",
       "      <td>04</td>\n",
       "    </tr>\n",
       "  </tbody>\n",
       "</table>\n",
       "</div>"
      ],
      "text/plain": [
       "  State  Accident_count  Severity  Start_Lat   Start_Lng  Distance  \\\n",
       "0    CA               0  2.409038  35.512295 -119.489971  0.040106   \n",
       "1    CA               0  2.409038  35.512295 -119.489971  0.040106   \n",
       "2    CA               0  2.409038  35.512295 -119.489971  0.040106   \n",
       "3    CA               0  2.409038  35.512295 -119.489971  0.040106   \n",
       "4    WA               0  2.386990  47.524463 -121.938787  0.139180   \n",
       "\n",
       "   Temperature  Wind_Chill   Humidity   Pressure  Visibility  Wind_Speed  \\\n",
       "0    65.681305   62.799356  59.940059  29.847758    9.190683    7.193729   \n",
       "1    65.681305   62.799356  59.940059  29.847758    9.190683    7.193729   \n",
       "2    65.681305   62.799356  59.940059  29.847758    9.190683    7.193729   \n",
       "3    65.681305   62.799356  59.940059  29.847758    9.190683    7.193729   \n",
       "4    54.278694   46.565097  72.663637  29.890347    9.121186    7.225568   \n",
       "\n",
       "   Precipitation  Start_Time  year month day  \n",
       "0       0.006394  2019-12-04  2019    12  04  \n",
       "1       0.006394  2019-12-05  2019    12  05  \n",
       "2       0.006394  2019-12-06  2019    12  06  \n",
       "3       0.006394  2019-12-07  2019    12  07  \n",
       "4       0.009887  2019-12-04  2019    12  04  "
      ]
     },
     "execution_count": 30,
     "metadata": {},
     "output_type": "execute_result"
    }
   ],
   "source": [
    "test_df5.reset_index(level=0, inplace=True)\n",
    "test_df5.head(5)"
   ]
  },
  {
   "cell_type": "code",
   "execution_count": 31,
   "id": "ef9529b5",
   "metadata": {},
   "outputs": [],
   "source": [
    "test_df5=test_df5.dropna()\n",
    "test=test_df5"
   ]
  },
  {
   "cell_type": "code",
   "execution_count": 32,
   "id": "1b15934e",
   "metadata": {},
   "outputs": [
    {
     "name": "stdout",
     "output_type": "stream",
     "text": [
      "Binding to float32\n",
      "(16473, 14) (16473,)\n"
     ]
    }
   ],
   "source": [
    "print('Binding to float32')\n",
    "\n",
    "for c, dtype in zip(train.columns, train.dtypes):\n",
    "    if dtype == np.float64:\n",
    "        train[c] = train[c].astype(np.float32)\n",
    "\n",
    "for c, dtype in zip(test.columns, test.dtypes):\n",
    "    if dtype == np.float64:\n",
    "        test[c] = test[c].astype(np.float32)\n",
    "\n",
    "train_x = train.drop(['State', 'Start_Time', 'Accident_count'], axis=1)\n",
    "train_y = np.log1p(train['Accident_count'].values)\n",
    "print(train_x.shape, train_y.shape)\n",
    "test_x = test.drop(['State', 'Start_Time', 'Accident_count'], axis=1)\n"
   ]
  },
  {
   "cell_type": "code",
   "execution_count": 33,
   "id": "f4d7022b",
   "metadata": {},
   "outputs": [
    {
     "data": {
      "text/html": [
       "<div>\n",
       "<style scoped>\n",
       "    .dataframe tbody tr th:only-of-type {\n",
       "        vertical-align: middle;\n",
       "    }\n",
       "\n",
       "    .dataframe tbody tr th {\n",
       "        vertical-align: top;\n",
       "    }\n",
       "\n",
       "    .dataframe thead th {\n",
       "        text-align: right;\n",
       "    }\n",
       "</style>\n",
       "<table border=\"1\" class=\"dataframe\">\n",
       "  <thead>\n",
       "    <tr style=\"text-align: right;\">\n",
       "      <th></th>\n",
       "      <th>Severity</th>\n",
       "      <th>Start_Lat</th>\n",
       "      <th>Start_Lng</th>\n",
       "      <th>Distance</th>\n",
       "      <th>Temperature</th>\n",
       "      <th>Wind_Chill</th>\n",
       "      <th>Humidity</th>\n",
       "      <th>Pressure</th>\n",
       "      <th>Visibility</th>\n",
       "      <th>Wind_Speed</th>\n",
       "      <th>Precipitation</th>\n",
       "      <th>year</th>\n",
       "      <th>month</th>\n",
       "      <th>day</th>\n",
       "    </tr>\n",
       "  </thead>\n",
       "  <tbody>\n",
       "    <tr>\n",
       "      <th>0</th>\n",
       "      <td>2.277778</td>\n",
       "      <td>39.841393</td>\n",
       "      <td>-83.700874</td>\n",
       "      <td>0.073611</td>\n",
       "      <td>35.983334</td>\n",
       "      <td>31.493103</td>\n",
       "      <td>92.777779</td>\n",
       "      <td>29.637222</td>\n",
       "      <td>7.333333</td>\n",
       "      <td>5.530303</td>\n",
       "      <td>0.014118</td>\n",
       "      <td>2016</td>\n",
       "      <td>02</td>\n",
       "      <td>08</td>\n",
       "    </tr>\n",
       "    <tr>\n",
       "      <th>1</th>\n",
       "      <td>2.428571</td>\n",
       "      <td>39.888840</td>\n",
       "      <td>-83.648643</td>\n",
       "      <td>0.009143</td>\n",
       "      <td>23.188572</td>\n",
       "      <td>12.288571</td>\n",
       "      <td>87.485718</td>\n",
       "      <td>29.677713</td>\n",
       "      <td>2.494286</td>\n",
       "      <td>11.125714</td>\n",
       "      <td>0.003846</td>\n",
       "      <td>2016</td>\n",
       "      <td>02</td>\n",
       "      <td>09</td>\n",
       "    </tr>\n",
       "    <tr>\n",
       "      <th>2</th>\n",
       "      <td>2.562500</td>\n",
       "      <td>40.016197</td>\n",
       "      <td>-83.116287</td>\n",
       "      <td>0.086875</td>\n",
       "      <td>16.387501</td>\n",
       "      <td>3.687500</td>\n",
       "      <td>80.000000</td>\n",
       "      <td>29.918125</td>\n",
       "      <td>3.393750</td>\n",
       "      <td>11.300000</td>\n",
       "      <td>0.001000</td>\n",
       "      <td>2016</td>\n",
       "      <td>02</td>\n",
       "      <td>10</td>\n",
       "    </tr>\n",
       "    <tr>\n",
       "      <th>3</th>\n",
       "      <td>2.314286</td>\n",
       "      <td>40.045109</td>\n",
       "      <td>-83.477219</td>\n",
       "      <td>0.021714</td>\n",
       "      <td>14.682858</td>\n",
       "      <td>4.575862</td>\n",
       "      <td>67.628571</td>\n",
       "      <td>30.260857</td>\n",
       "      <td>9.485714</td>\n",
       "      <td>8.510345</td>\n",
       "      <td>0.000000</td>\n",
       "      <td>2016</td>\n",
       "      <td>02</td>\n",
       "      <td>11</td>\n",
       "    </tr>\n",
       "    <tr>\n",
       "      <th>4</th>\n",
       "      <td>2.714286</td>\n",
       "      <td>39.952919</td>\n",
       "      <td>-83.316948</td>\n",
       "      <td>0.908571</td>\n",
       "      <td>21.285715</td>\n",
       "      <td>6.628572</td>\n",
       "      <td>68.142860</td>\n",
       "      <td>30.120001</td>\n",
       "      <td>7.142857</td>\n",
       "      <td>18.585714</td>\n",
       "      <td>0.000000</td>\n",
       "      <td>2016</td>\n",
       "      <td>02</td>\n",
       "      <td>12</td>\n",
       "    </tr>\n",
       "  </tbody>\n",
       "</table>\n",
       "</div>"
      ],
      "text/plain": [
       "   Severity  Start_Lat  Start_Lng  Distance  Temperature  Wind_Chill  \\\n",
       "0  2.277778  39.841393 -83.700874  0.073611    35.983334   31.493103   \n",
       "1  2.428571  39.888840 -83.648643  0.009143    23.188572   12.288571   \n",
       "2  2.562500  40.016197 -83.116287  0.086875    16.387501    3.687500   \n",
       "3  2.314286  40.045109 -83.477219  0.021714    14.682858    4.575862   \n",
       "4  2.714286  39.952919 -83.316948  0.908571    21.285715    6.628572   \n",
       "\n",
       "    Humidity   Pressure  Visibility  Wind_Speed  Precipitation  year month day  \n",
       "0  92.777779  29.637222    7.333333    5.530303       0.014118  2016    02  08  \n",
       "1  87.485718  29.677713    2.494286   11.125714       0.003846  2016    02  09  \n",
       "2  80.000000  29.918125    3.393750   11.300000       0.001000  2016    02  10  \n",
       "3  67.628571  30.260857    9.485714    8.510345       0.000000  2016    02  11  \n",
       "4  68.142860  30.120001    7.142857   18.585714       0.000000  2016    02  12  "
      ]
     },
     "execution_count": 33,
     "metadata": {},
     "output_type": "execute_result"
    }
   ],
   "source": [
    "train_x.head()"
   ]
  },
  {
   "cell_type": "code",
   "execution_count": 34,
   "id": "3d3e1616",
   "metadata": {},
   "outputs": [
    {
     "name": "stdout",
     "output_type": "stream",
     "text": [
      "<class 'pandas.core.frame.DataFrame'>\n",
      "Int64Index: 16473 entries, 0 to 22910\n",
      "Data columns (total 14 columns):\n",
      " #   Column         Non-Null Count  Dtype  \n",
      "---  ------         --------------  -----  \n",
      " 0   Severity       16473 non-null  float32\n",
      " 1   Start_Lat      16473 non-null  float32\n",
      " 2   Start_Lng      16473 non-null  float32\n",
      " 3   Distance       16473 non-null  float32\n",
      " 4   Temperature    16473 non-null  float32\n",
      " 5   Wind_Chill     16473 non-null  float32\n",
      " 6   Humidity       16473 non-null  float32\n",
      " 7   Pressure       16473 non-null  float32\n",
      " 8   Visibility     16473 non-null  float32\n",
      " 9   Wind_Speed     16473 non-null  float32\n",
      " 10  Precipitation  16473 non-null  float32\n",
      " 11  year           16473 non-null  object \n",
      " 12  month          16473 non-null  object \n",
      " 13  day            16473 non-null  object \n",
      "dtypes: float32(11), object(3)\n",
      "memory usage: 1.2+ MB\n"
     ]
    }
   ],
   "source": [
    "train_x.info()"
   ]
  },
  {
   "cell_type": "code",
   "execution_count": 35,
   "id": "67ff759e",
   "metadata": {},
   "outputs": [
    {
     "name": "stdout",
     "output_type": "stream",
     "text": [
      "<class 'pandas.core.frame.DataFrame'>\n",
      "Int64Index: 300 entries, 0 to 299\n",
      "Data columns (total 14 columns):\n",
      " #   Column         Non-Null Count  Dtype  \n",
      "---  ------         --------------  -----  \n",
      " 0   Severity       300 non-null    float32\n",
      " 1   Start_Lat      300 non-null    float32\n",
      " 2   Start_Lng      300 non-null    float32\n",
      " 3   Distance       300 non-null    float32\n",
      " 4   Temperature    300 non-null    float32\n",
      " 5   Wind_Chill     300 non-null    float32\n",
      " 6   Humidity       300 non-null    float32\n",
      " 7   Pressure       300 non-null    float32\n",
      " 8   Visibility     300 non-null    float32\n",
      " 9   Wind_Speed     300 non-null    float32\n",
      " 10  Precipitation  300 non-null    float32\n",
      " 11  year           300 non-null    object \n",
      " 12  month          300 non-null    object \n",
      " 13  day            300 non-null    object \n",
      "dtypes: float32(11), object(3)\n",
      "memory usage: 22.3+ KB\n"
     ]
    }
   ],
   "source": [
    "test_x.info()"
   ]
  },
  {
   "cell_type": "code",
   "execution_count": 36,
   "id": "1c447089",
   "metadata": {},
   "outputs": [
    {
     "data": {
      "text/plain": [
       "array([3.61091791, 3.58351894, 2.83321334, ..., 1.38629436, 2.77258872,\n",
       "       1.60943791])"
      ]
     },
     "execution_count": 36,
     "metadata": {},
     "output_type": "execute_result"
    }
   ],
   "source": [
    "train_y"
   ]
  },
  {
   "cell_type": "markdown",
   "id": "8eeb4709",
   "metadata": {},
   "source": [
    "# Random Forest Regression Model"
   ]
  },
  {
   "cell_type": "code",
   "execution_count": 37,
   "id": "0f1796c3",
   "metadata": {},
   "outputs": [],
   "source": [
    "from sklearn.ensemble import RandomForestRegressor"
   ]
  },
  {
   "cell_type": "code",
   "execution_count": 38,
   "id": "c10a9fad",
   "metadata": {},
   "outputs": [
    {
     "name": "stdout",
     "output_type": "stream",
     "text": [
      "Binding to float32\n",
      "(16473, 14) (16473,)\n"
     ]
    }
   ],
   "source": [
    "print('Binding to float32')\n",
    "\n",
    "for c, dtype in zip(train.columns, train.dtypes):\n",
    "    if dtype == np.float64:\n",
    "        train[c] = train[c].astype(np.float32)\n",
    "\n",
    "for c, dtype in zip(test.columns, test.dtypes):\n",
    "    if dtype == np.float64:\n",
    "        test[c] = test[c].astype(np.float32)\n",
    "\n",
    "train_x = train.drop(['State', 'Start_Time', 'Accident_count'], axis=1)\n",
    "train_y = np.log1p(train['Accident_count'].values)\n",
    "print(train_x.shape, train_y.shape)\n",
    "test_x = test.drop(['State', 'Start_Time', 'Accident_count'], axis=1)"
   ]
  },
  {
   "cell_type": "code",
   "execution_count": 39,
   "id": "5394427c",
   "metadata": {},
   "outputs": [
    {
     "data": {
      "text/plain": [
       "RandomForestRegressor(max_depth=45, n_estimators=60, n_jobs=-1)"
      ]
     },
     "execution_count": 39,
     "metadata": {},
     "output_type": "execute_result"
    }
   ],
   "source": [
    "rf = RandomForestRegressor(max_depth = 45, n_estimators = 60, n_jobs=-1)\n",
    "rf.fit(train_x,train_y)"
   ]
  },
  {
   "cell_type": "code",
   "execution_count": 40,
   "id": "64bbb7e3",
   "metadata": {},
   "outputs": [
    {
     "data": {
      "text/plain": [
       "0.9841572859628099"
      ]
     },
     "execution_count": 40,
     "metadata": {},
     "output_type": "execute_result"
    }
   ],
   "source": [
    "rf.score(train_x, train_y)"
   ]
  },
  {
   "cell_type": "code",
   "execution_count": 41,
   "id": "9d3dd9fa",
   "metadata": {},
   "outputs": [],
   "source": [
    "predict_y = rf.predict(test_x)"
   ]
  },
  {
   "cell_type": "code",
   "execution_count": 42,
   "id": "2eaf7925",
   "metadata": {},
   "outputs": [],
   "source": [
    "test['Accident_count'] = np.expm1(predict_y)"
   ]
  },
  {
   "cell_type": "code",
   "execution_count": 43,
   "id": "0b7d5515",
   "metadata": {},
   "outputs": [],
   "source": [
    "test[['State','Start_Time', 'Accident_count']].to_csv('rf.csv', index=False, float_format=None)"
   ]
  },
  {
   "cell_type": "code",
   "execution_count": 44,
   "id": "2825dae8",
   "metadata": {},
   "outputs": [
    {
     "data": {
      "text/html": [
       "<div>\n",
       "<style scoped>\n",
       "    .dataframe tbody tr th:only-of-type {\n",
       "        vertical-align: middle;\n",
       "    }\n",
       "\n",
       "    .dataframe tbody tr th {\n",
       "        vertical-align: top;\n",
       "    }\n",
       "\n",
       "    .dataframe thead th {\n",
       "        text-align: right;\n",
       "    }\n",
       "</style>\n",
       "<table border=\"1\" class=\"dataframe\">\n",
       "  <thead>\n",
       "    <tr style=\"text-align: right;\">\n",
       "      <th></th>\n",
       "      <th>State</th>\n",
       "      <th>Start_Time</th>\n",
       "      <th>Accident_count</th>\n",
       "    </tr>\n",
       "  </thead>\n",
       "  <tbody>\n",
       "    <tr>\n",
       "      <th>0</th>\n",
       "      <td>CA</td>\n",
       "      <td>2019-12-04</td>\n",
       "      <td>188.985474</td>\n",
       "    </tr>\n",
       "    <tr>\n",
       "      <th>1</th>\n",
       "      <td>CA</td>\n",
       "      <td>2019-12-05</td>\n",
       "      <td>187.477824</td>\n",
       "    </tr>\n",
       "    <tr>\n",
       "      <th>2</th>\n",
       "      <td>CA</td>\n",
       "      <td>2019-12-06</td>\n",
       "      <td>187.830347</td>\n",
       "    </tr>\n",
       "    <tr>\n",
       "      <th>3</th>\n",
       "      <td>CA</td>\n",
       "      <td>2019-12-07</td>\n",
       "      <td>188.211023</td>\n",
       "    </tr>\n",
       "    <tr>\n",
       "      <th>4</th>\n",
       "      <td>WA</td>\n",
       "      <td>2019-12-04</td>\n",
       "      <td>26.725075</td>\n",
       "    </tr>\n",
       "    <tr>\n",
       "      <th>5</th>\n",
       "      <td>WA</td>\n",
       "      <td>2019-12-05</td>\n",
       "      <td>26.616058</td>\n",
       "    </tr>\n",
       "    <tr>\n",
       "      <th>6</th>\n",
       "      <td>WA</td>\n",
       "      <td>2019-12-06</td>\n",
       "      <td>26.616058</td>\n",
       "    </tr>\n",
       "    <tr>\n",
       "      <th>7</th>\n",
       "      <td>WA</td>\n",
       "      <td>2019-12-07</td>\n",
       "      <td>26.616058</td>\n",
       "    </tr>\n",
       "    <tr>\n",
       "      <th>8</th>\n",
       "      <td>AL</td>\n",
       "      <td>2019-12-05</td>\n",
       "      <td>46.817725</td>\n",
       "    </tr>\n",
       "    <tr>\n",
       "      <th>9</th>\n",
       "      <td>AL</td>\n",
       "      <td>2019-12-06</td>\n",
       "      <td>46.909873</td>\n",
       "    </tr>\n",
       "  </tbody>\n",
       "</table>\n",
       "</div>"
      ],
      "text/plain": [
       "  State  Start_Time  Accident_count\n",
       "0    CA  2019-12-04      188.985474\n",
       "1    CA  2019-12-05      187.477824\n",
       "2    CA  2019-12-06      187.830347\n",
       "3    CA  2019-12-07      188.211023\n",
       "4    WA  2019-12-04       26.725075\n",
       "5    WA  2019-12-05       26.616058\n",
       "6    WA  2019-12-06       26.616058\n",
       "7    WA  2019-12-07       26.616058\n",
       "8    AL  2019-12-05       46.817725\n",
       "9    AL  2019-12-06       46.909873"
      ]
     },
     "execution_count": 44,
     "metadata": {},
     "output_type": "execute_result"
    }
   ],
   "source": [
    "rf_submission2 = pd.read_csv(\"rf.csv\")\n",
    "rf_submission2.head(10)"
   ]
  },
  {
   "cell_type": "markdown",
   "id": "47d29014",
   "metadata": {},
   "source": [
    "# Decision Tree Regression Model"
   ]
  },
  {
   "cell_type": "code",
   "execution_count": 45,
   "id": "9f29a447",
   "metadata": {},
   "outputs": [],
   "source": [
    "from sklearn import tree\n",
    "from sklearn.tree import DecisionTreeRegressor"
   ]
  },
  {
   "cell_type": "code",
   "execution_count": 46,
   "id": "03e209b6",
   "metadata": {},
   "outputs": [
    {
     "data": {
      "text/plain": [
       "DecisionTreeRegressor(max_depth=5, min_samples_split=10)"
      ]
     },
     "execution_count": 46,
     "metadata": {},
     "output_type": "execute_result"
    }
   ],
   "source": [
    "dt = DecisionTreeRegressor(max_depth = 5, min_samples_split = 10)\n",
    "dt.fit(train_x,train_y)"
   ]
  },
  {
   "cell_type": "code",
   "execution_count": 47,
   "id": "92fecb45",
   "metadata": {},
   "outputs": [
    {
     "data": {
      "text/plain": [
       "0.6944878305191196"
      ]
     },
     "execution_count": 47,
     "metadata": {},
     "output_type": "execute_result"
    }
   ],
   "source": [
    "dt.score(train_x, train_y)"
   ]
  },
  {
   "cell_type": "code",
   "execution_count": 48,
   "id": "b869c156",
   "metadata": {},
   "outputs": [],
   "source": [
    "predict_y1 = dt.predict(test_x)"
   ]
  },
  {
   "cell_type": "code",
   "execution_count": 49,
   "id": "72df11c6",
   "metadata": {},
   "outputs": [],
   "source": [
    "test['Accident_count'] = np.expm1(predict_y1)"
   ]
  },
  {
   "cell_type": "code",
   "execution_count": 50,
   "id": "b94c1b14",
   "metadata": {},
   "outputs": [],
   "source": [
    "test[['State','Start_Time', 'Accident_count']].to_csv('dt.csv', index=False, float_format=None)"
   ]
  },
  {
   "cell_type": "code",
   "execution_count": 51,
   "id": "c4ad7a82",
   "metadata": {},
   "outputs": [
    {
     "data": {
      "text/html": [
       "<div>\n",
       "<style scoped>\n",
       "    .dataframe tbody tr th:only-of-type {\n",
       "        vertical-align: middle;\n",
       "    }\n",
       "\n",
       "    .dataframe tbody tr th {\n",
       "        vertical-align: top;\n",
       "    }\n",
       "\n",
       "    .dataframe thead th {\n",
       "        text-align: right;\n",
       "    }\n",
       "</style>\n",
       "<table border=\"1\" class=\"dataframe\">\n",
       "  <thead>\n",
       "    <tr style=\"text-align: right;\">\n",
       "      <th></th>\n",
       "      <th>State</th>\n",
       "      <th>Start_Time</th>\n",
       "      <th>Accident_count</th>\n",
       "    </tr>\n",
       "  </thead>\n",
       "  <tbody>\n",
       "    <tr>\n",
       "      <th>0</th>\n",
       "      <td>CA</td>\n",
       "      <td>2019-12-04</td>\n",
       "      <td>203.923466</td>\n",
       "    </tr>\n",
       "    <tr>\n",
       "      <th>1</th>\n",
       "      <td>CA</td>\n",
       "      <td>2019-12-05</td>\n",
       "      <td>203.923466</td>\n",
       "    </tr>\n",
       "    <tr>\n",
       "      <th>2</th>\n",
       "      <td>CA</td>\n",
       "      <td>2019-12-06</td>\n",
       "      <td>203.923466</td>\n",
       "    </tr>\n",
       "    <tr>\n",
       "      <th>3</th>\n",
       "      <td>CA</td>\n",
       "      <td>2019-12-07</td>\n",
       "      <td>203.923466</td>\n",
       "    </tr>\n",
       "    <tr>\n",
       "      <th>4</th>\n",
       "      <td>WA</td>\n",
       "      <td>2019-12-04</td>\n",
       "      <td>28.416331</td>\n",
       "    </tr>\n",
       "    <tr>\n",
       "      <th>5</th>\n",
       "      <td>WA</td>\n",
       "      <td>2019-12-05</td>\n",
       "      <td>28.416331</td>\n",
       "    </tr>\n",
       "    <tr>\n",
       "      <th>6</th>\n",
       "      <td>WA</td>\n",
       "      <td>2019-12-06</td>\n",
       "      <td>28.416331</td>\n",
       "    </tr>\n",
       "    <tr>\n",
       "      <th>7</th>\n",
       "      <td>WA</td>\n",
       "      <td>2019-12-07</td>\n",
       "      <td>28.416331</td>\n",
       "    </tr>\n",
       "    <tr>\n",
       "      <th>8</th>\n",
       "      <td>AL</td>\n",
       "      <td>2019-12-05</td>\n",
       "      <td>72.327019</td>\n",
       "    </tr>\n",
       "    <tr>\n",
       "      <th>9</th>\n",
       "      <td>AL</td>\n",
       "      <td>2019-12-06</td>\n",
       "      <td>72.327019</td>\n",
       "    </tr>\n",
       "  </tbody>\n",
       "</table>\n",
       "</div>"
      ],
      "text/plain": [
       "  State  Start_Time  Accident_count\n",
       "0    CA  2019-12-04      203.923466\n",
       "1    CA  2019-12-05      203.923466\n",
       "2    CA  2019-12-06      203.923466\n",
       "3    CA  2019-12-07      203.923466\n",
       "4    WA  2019-12-04       28.416331\n",
       "5    WA  2019-12-05       28.416331\n",
       "6    WA  2019-12-06       28.416331\n",
       "7    WA  2019-12-07       28.416331\n",
       "8    AL  2019-12-05       72.327019\n",
       "9    AL  2019-12-06       72.327019"
      ]
     },
     "execution_count": 51,
     "metadata": {},
     "output_type": "execute_result"
    }
   ],
   "source": [
    "dt_submission = pd.read_csv(\"dt.csv\")\n",
    "dt_submission.head(10)"
   ]
  },
  {
   "cell_type": "markdown",
   "id": "e86e5a9b",
   "metadata": {},
   "source": [
    "# RESULTS"
   ]
  },
  {
   "cell_type": "code",
   "execution_count": 61,
   "id": "296c0f95",
   "metadata": {},
   "outputs": [
    {
     "data": {
      "text/html": [
       "<div>\n",
       "<style scoped>\n",
       "    .dataframe tbody tr th:only-of-type {\n",
       "        vertical-align: middle;\n",
       "    }\n",
       "\n",
       "    .dataframe tbody tr th {\n",
       "        vertical-align: top;\n",
       "    }\n",
       "\n",
       "    .dataframe thead th {\n",
       "        text-align: right;\n",
       "    }\n",
       "</style>\n",
       "<table border=\"1\" class=\"dataframe\">\n",
       "  <thead>\n",
       "    <tr style=\"text-align: right;\">\n",
       "      <th></th>\n",
       "      <th>State</th>\n",
       "      <th>Start_Time</th>\n",
       "      <th>Accident_count_x</th>\n",
       "      <th>Accident_count_y</th>\n",
       "    </tr>\n",
       "  </thead>\n",
       "  <tbody>\n",
       "    <tr>\n",
       "      <th>0</th>\n",
       "      <td>CA</td>\n",
       "      <td>2019-12-04</td>\n",
       "      <td>188.985474</td>\n",
       "      <td>203.923466</td>\n",
       "    </tr>\n",
       "    <tr>\n",
       "      <th>1</th>\n",
       "      <td>CA</td>\n",
       "      <td>2019-12-04</td>\n",
       "      <td>188.985474</td>\n",
       "      <td>203.923466</td>\n",
       "    </tr>\n",
       "    <tr>\n",
       "      <th>2</th>\n",
       "      <td>CA</td>\n",
       "      <td>2019-12-04</td>\n",
       "      <td>188.985474</td>\n",
       "      <td>203.923466</td>\n",
       "    </tr>\n",
       "    <tr>\n",
       "      <th>3</th>\n",
       "      <td>CA</td>\n",
       "      <td>2019-12-04</td>\n",
       "      <td>188.985474</td>\n",
       "      <td>203.923466</td>\n",
       "    </tr>\n",
       "    <tr>\n",
       "      <th>4</th>\n",
       "      <td>CA</td>\n",
       "      <td>2019-12-05</td>\n",
       "      <td>187.477824</td>\n",
       "      <td>203.923466</td>\n",
       "    </tr>\n",
       "  </tbody>\n",
       "</table>\n",
       "</div>"
      ],
      "text/plain": [
       "  State  Start_Time  Accident_count_x  Accident_count_y\n",
       "0    CA  2019-12-04        188.985474        203.923466\n",
       "1    CA  2019-12-04        188.985474        203.923466\n",
       "2    CA  2019-12-04        188.985474        203.923466\n",
       "3    CA  2019-12-04        188.985474        203.923466\n",
       "4    CA  2019-12-05        187.477824        203.923466"
      ]
     },
     "execution_count": 61,
     "metadata": {},
     "output_type": "execute_result"
    }
   ],
   "source": [
    "result = pd.merge(rf_submission2, dt_submission,how='left', left_on=['State','Start_Time'], right_on = ['State','Start_Time'])\n",
    "result.head(5)"
   ]
  },
  {
   "cell_type": "markdown",
   "id": "bfc0df7f",
   "metadata": {},
   "source": [
    "# ACTUAL TEST DATA COUNT"
   ]
  },
  {
   "cell_type": "code",
   "execution_count": 53,
   "id": "13339584",
   "metadata": {},
   "outputs": [
    {
     "data": {
      "text/html": [
       "<div>\n",
       "<style scoped>\n",
       "    .dataframe tbody tr th:only-of-type {\n",
       "        vertical-align: middle;\n",
       "    }\n",
       "\n",
       "    .dataframe tbody tr th {\n",
       "        vertical-align: top;\n",
       "    }\n",
       "\n",
       "    .dataframe thead th {\n",
       "        text-align: right;\n",
       "    }\n",
       "</style>\n",
       "<table border=\"1\" class=\"dataframe\">\n",
       "  <thead>\n",
       "    <tr style=\"text-align: right;\">\n",
       "      <th></th>\n",
       "      <th>State</th>\n",
       "      <th>Start_Time</th>\n",
       "      <th>Accident_count</th>\n",
       "    </tr>\n",
       "  </thead>\n",
       "  <tbody>\n",
       "    <tr>\n",
       "      <th>0</th>\n",
       "      <td>NC</td>\n",
       "      <td>2019-12-05</td>\n",
       "      <td>1</td>\n",
       "    </tr>\n",
       "    <tr>\n",
       "      <th>1</th>\n",
       "      <td>NC</td>\n",
       "      <td>2019-12-05</td>\n",
       "      <td>1</td>\n",
       "    </tr>\n",
       "    <tr>\n",
       "      <th>2</th>\n",
       "      <td>NC</td>\n",
       "      <td>2019-12-05</td>\n",
       "      <td>1</td>\n",
       "    </tr>\n",
       "    <tr>\n",
       "      <th>3</th>\n",
       "      <td>VA</td>\n",
       "      <td>2019-12-05</td>\n",
       "      <td>1</td>\n",
       "    </tr>\n",
       "    <tr>\n",
       "      <th>4</th>\n",
       "      <td>VA</td>\n",
       "      <td>2019-12-05</td>\n",
       "      <td>1</td>\n",
       "    </tr>\n",
       "  </tbody>\n",
       "</table>\n",
       "</div>"
      ],
      "text/plain": [
       "  State  Start_Time  Accident_count\n",
       "0    NC  2019-12-05               1\n",
       "1    NC  2019-12-05               1\n",
       "2    NC  2019-12-05               1\n",
       "3    VA  2019-12-05               1\n",
       "4    VA  2019-12-05               1"
      ]
     },
     "execution_count": 53,
     "metadata": {},
     "output_type": "execute_result"
    }
   ],
   "source": [
    "testt_df[\"Accident_count\"]=1\n",
    "testt_df['Start_Time'] = testt_df['Start_Time'].astype(str).str[0:10]\n",
    "testt_df=testt_df[['State','Start_Time', 'Accident_count']]\n",
    "testt_df.head(5)"
   ]
  },
  {
   "cell_type": "code",
   "execution_count": 54,
   "id": "c7453785",
   "metadata": {},
   "outputs": [
    {
     "data": {
      "text/html": [
       "<div>\n",
       "<style scoped>\n",
       "    .dataframe tbody tr th:only-of-type {\n",
       "        vertical-align: middle;\n",
       "    }\n",
       "\n",
       "    .dataframe tbody tr th {\n",
       "        vertical-align: top;\n",
       "    }\n",
       "\n",
       "    .dataframe thead th {\n",
       "        text-align: right;\n",
       "    }\n",
       "</style>\n",
       "<table border=\"1\" class=\"dataframe\">\n",
       "  <thead>\n",
       "    <tr style=\"text-align: right;\">\n",
       "      <th></th>\n",
       "      <th></th>\n",
       "      <th>Accident_count</th>\n",
       "    </tr>\n",
       "    <tr>\n",
       "      <th>Start_Time</th>\n",
       "      <th>State</th>\n",
       "      <th></th>\n",
       "    </tr>\n",
       "  </thead>\n",
       "  <tbody>\n",
       "    <tr>\n",
       "      <th rowspan=\"2\" valign=\"top\">2019-12-04</th>\n",
       "      <th>CA</th>\n",
       "      <td>21</td>\n",
       "    </tr>\n",
       "    <tr>\n",
       "      <th>WA</th>\n",
       "      <td>10</td>\n",
       "    </tr>\n",
       "    <tr>\n",
       "      <th rowspan=\"3\" valign=\"top\">2019-12-05</th>\n",
       "      <th>AL</th>\n",
       "      <td>67</td>\n",
       "    </tr>\n",
       "    <tr>\n",
       "      <th>AZ</th>\n",
       "      <td>69</td>\n",
       "    </tr>\n",
       "    <tr>\n",
       "      <th>CA</th>\n",
       "      <td>276</td>\n",
       "    </tr>\n",
       "  </tbody>\n",
       "</table>\n",
       "</div>"
      ],
      "text/plain": [
       "                  Accident_count\n",
       "Start_Time State                \n",
       "2019-12-04 CA                 21\n",
       "           WA                 10\n",
       "2019-12-05 AL                 67\n",
       "           AZ                 69\n",
       "           CA                276"
      ]
     },
     "execution_count": 54,
     "metadata": {},
     "output_type": "execute_result"
    }
   ],
   "source": [
    "testt_df=testt_df.groupby(by=['Start_Time','State']).sum()\n",
    "testt_df.head(5)"
   ]
  },
  {
   "cell_type": "code",
   "execution_count": 55,
   "id": "cbb354a4",
   "metadata": {},
   "outputs": [
    {
     "data": {
      "text/html": [
       "<div>\n",
       "<style scoped>\n",
       "    .dataframe tbody tr th:only-of-type {\n",
       "        vertical-align: middle;\n",
       "    }\n",
       "\n",
       "    .dataframe tbody tr th {\n",
       "        vertical-align: top;\n",
       "    }\n",
       "\n",
       "    .dataframe thead th {\n",
       "        text-align: right;\n",
       "    }\n",
       "</style>\n",
       "<table border=\"1\" class=\"dataframe\">\n",
       "  <thead>\n",
       "    <tr style=\"text-align: right;\">\n",
       "      <th></th>\n",
       "      <th>Start_Time</th>\n",
       "      <th>Accident_count</th>\n",
       "    </tr>\n",
       "    <tr>\n",
       "      <th>State</th>\n",
       "      <th></th>\n",
       "      <th></th>\n",
       "    </tr>\n",
       "  </thead>\n",
       "  <tbody>\n",
       "    <tr>\n",
       "      <th>CA</th>\n",
       "      <td>2019-12-04</td>\n",
       "      <td>21</td>\n",
       "    </tr>\n",
       "    <tr>\n",
       "      <th>WA</th>\n",
       "      <td>2019-12-04</td>\n",
       "      <td>10</td>\n",
       "    </tr>\n",
       "    <tr>\n",
       "      <th>AL</th>\n",
       "      <td>2019-12-05</td>\n",
       "      <td>67</td>\n",
       "    </tr>\n",
       "    <tr>\n",
       "      <th>AZ</th>\n",
       "      <td>2019-12-05</td>\n",
       "      <td>69</td>\n",
       "    </tr>\n",
       "    <tr>\n",
       "      <th>CA</th>\n",
       "      <td>2019-12-05</td>\n",
       "      <td>276</td>\n",
       "    </tr>\n",
       "  </tbody>\n",
       "</table>\n",
       "</div>"
      ],
      "text/plain": [
       "       Start_Time  Accident_count\n",
       "State                            \n",
       "CA     2019-12-04              21\n",
       "WA     2019-12-04              10\n",
       "AL     2019-12-05              67\n",
       "AZ     2019-12-05              69\n",
       "CA     2019-12-05             276"
      ]
     },
     "execution_count": 55,
     "metadata": {},
     "output_type": "execute_result"
    }
   ],
   "source": [
    "testt_df.reset_index(level=0, inplace=True)\n",
    "testt_df.head(5)"
   ]
  },
  {
   "cell_type": "code",
   "execution_count": 56,
   "id": "e1129f5f",
   "metadata": {},
   "outputs": [
    {
     "data": {
      "text/html": [
       "<div>\n",
       "<style scoped>\n",
       "    .dataframe tbody tr th:only-of-type {\n",
       "        vertical-align: middle;\n",
       "    }\n",
       "\n",
       "    .dataframe tbody tr th {\n",
       "        vertical-align: top;\n",
       "    }\n",
       "\n",
       "    .dataframe thead th {\n",
       "        text-align: right;\n",
       "    }\n",
       "</style>\n",
       "<table border=\"1\" class=\"dataframe\">\n",
       "  <thead>\n",
       "    <tr style=\"text-align: right;\">\n",
       "      <th></th>\n",
       "      <th>State</th>\n",
       "      <th>Start_Time</th>\n",
       "      <th>Accident_count</th>\n",
       "    </tr>\n",
       "  </thead>\n",
       "  <tbody>\n",
       "    <tr>\n",
       "      <th>0</th>\n",
       "      <td>CA</td>\n",
       "      <td>2019-12-04</td>\n",
       "      <td>21</td>\n",
       "    </tr>\n",
       "    <tr>\n",
       "      <th>1</th>\n",
       "      <td>WA</td>\n",
       "      <td>2019-12-04</td>\n",
       "      <td>10</td>\n",
       "    </tr>\n",
       "    <tr>\n",
       "      <th>2</th>\n",
       "      <td>AL</td>\n",
       "      <td>2019-12-05</td>\n",
       "      <td>67</td>\n",
       "    </tr>\n",
       "    <tr>\n",
       "      <th>3</th>\n",
       "      <td>AZ</td>\n",
       "      <td>2019-12-05</td>\n",
       "      <td>69</td>\n",
       "    </tr>\n",
       "    <tr>\n",
       "      <th>4</th>\n",
       "      <td>CA</td>\n",
       "      <td>2019-12-05</td>\n",
       "      <td>276</td>\n",
       "    </tr>\n",
       "  </tbody>\n",
       "</table>\n",
       "</div>"
      ],
      "text/plain": [
       "  State  Start_Time  Accident_count\n",
       "0    CA  2019-12-04              21\n",
       "1    WA  2019-12-04              10\n",
       "2    AL  2019-12-05              67\n",
       "3    AZ  2019-12-05              69\n",
       "4    CA  2019-12-05             276"
      ]
     },
     "execution_count": 56,
     "metadata": {},
     "output_type": "execute_result"
    }
   ],
   "source": [
    "testt_df.reset_index(level=0, inplace=True)\n",
    "testt_df.head(5)"
   ]
  },
  {
   "cell_type": "markdown",
   "id": "f2f41def",
   "metadata": {},
   "source": [
    "# RESULT"
   ]
  },
  {
   "cell_type": "code",
   "execution_count": 57,
   "id": "c4cc8b33",
   "metadata": {},
   "outputs": [
    {
     "data": {
      "text/html": [
       "<div>\n",
       "<style scoped>\n",
       "    .dataframe tbody tr th:only-of-type {\n",
       "        vertical-align: middle;\n",
       "    }\n",
       "\n",
       "    .dataframe tbody tr th {\n",
       "        vertical-align: top;\n",
       "    }\n",
       "\n",
       "    .dataframe thead th {\n",
       "        text-align: right;\n",
       "    }\n",
       "</style>\n",
       "<table border=\"1\" class=\"dataframe\">\n",
       "  <thead>\n",
       "    <tr style=\"text-align: right;\">\n",
       "      <th></th>\n",
       "      <th>State</th>\n",
       "      <th>Start_Time</th>\n",
       "      <th>Accident_count_x</th>\n",
       "      <th>Accident_count_y</th>\n",
       "      <th>Accident_count</th>\n",
       "    </tr>\n",
       "  </thead>\n",
       "  <tbody>\n",
       "    <tr>\n",
       "      <th>0</th>\n",
       "      <td>CA</td>\n",
       "      <td>2019-12-04</td>\n",
       "      <td>203.923466</td>\n",
       "      <td>188.985474</td>\n",
       "      <td>21</td>\n",
       "    </tr>\n",
       "    <tr>\n",
       "      <th>1</th>\n",
       "      <td>CA</td>\n",
       "      <td>2019-12-04</td>\n",
       "      <td>203.923466</td>\n",
       "      <td>188.985474</td>\n",
       "      <td>21</td>\n",
       "    </tr>\n",
       "    <tr>\n",
       "      <th>2</th>\n",
       "      <td>CA</td>\n",
       "      <td>2019-12-04</td>\n",
       "      <td>203.923466</td>\n",
       "      <td>188.985474</td>\n",
       "      <td>21</td>\n",
       "    </tr>\n",
       "    <tr>\n",
       "      <th>3</th>\n",
       "      <td>CA</td>\n",
       "      <td>2019-12-04</td>\n",
       "      <td>203.923466</td>\n",
       "      <td>188.985474</td>\n",
       "      <td>21</td>\n",
       "    </tr>\n",
       "    <tr>\n",
       "      <th>4</th>\n",
       "      <td>CA</td>\n",
       "      <td>2019-12-05</td>\n",
       "      <td>203.923466</td>\n",
       "      <td>187.477824</td>\n",
       "      <td>276</td>\n",
       "    </tr>\n",
       "  </tbody>\n",
       "</table>\n",
       "</div>"
      ],
      "text/plain": [
       "  State  Start_Time  Accident_count_x  Accident_count_y  Accident_count\n",
       "0    CA  2019-12-04        203.923466        188.985474              21\n",
       "1    CA  2019-12-04        203.923466        188.985474              21\n",
       "2    CA  2019-12-04        203.923466        188.985474              21\n",
       "3    CA  2019-12-04        203.923466        188.985474              21\n",
       "4    CA  2019-12-05        203.923466        187.477824             276"
      ]
     },
     "execution_count": 57,
     "metadata": {},
     "output_type": "execute_result"
    }
   ],
   "source": [
    "result1 = pd.merge(result,testt_df,how='left', left_on=['State','Start_Time'], right_on = ['State','Start_Time'])\n",
    "result1.head(5)"
   ]
  },
  {
   "cell_type": "code",
   "execution_count": null,
   "id": "f7a31fec",
   "metadata": {},
   "outputs": [],
   "source": []
  },
  {
   "cell_type": "code",
   "execution_count": null,
   "id": "ac60f367",
   "metadata": {},
   "outputs": [],
   "source": []
  },
  {
   "cell_type": "code",
   "execution_count": null,
   "id": "3acb88c4",
   "metadata": {},
   "outputs": [],
   "source": []
  },
  {
   "cell_type": "code",
   "execution_count": null,
   "id": "e00a8d66",
   "metadata": {},
   "outputs": [],
   "source": []
  },
  {
   "cell_type": "code",
   "execution_count": 75,
   "id": "f2e8a914",
   "metadata": {},
   "outputs": [
    {
     "data": {
      "text/html": [
       "<div>\n",
       "<style scoped>\n",
       "    .dataframe tbody tr th:only-of-type {\n",
       "        vertical-align: middle;\n",
       "    }\n",
       "\n",
       "    .dataframe tbody tr th {\n",
       "        vertical-align: top;\n",
       "    }\n",
       "\n",
       "    .dataframe thead th {\n",
       "        text-align: right;\n",
       "    }\n",
       "</style>\n",
       "<table border=\"1\" class=\"dataframe\">\n",
       "  <thead>\n",
       "    <tr style=\"text-align: right;\">\n",
       "      <th></th>\n",
       "      <th>State</th>\n",
       "      <th>Start_Time</th>\n",
       "      <th>Accident_count</th>\n",
       "    </tr>\n",
       "  </thead>\n",
       "  <tbody>\n",
       "    <tr>\n",
       "      <th>0</th>\n",
       "      <td>CA</td>\n",
       "      <td>2019-12-04</td>\n",
       "      <td>21</td>\n",
       "    </tr>\n",
       "    <tr>\n",
       "      <th>4</th>\n",
       "      <td>CA</td>\n",
       "      <td>2019-12-05</td>\n",
       "      <td>276</td>\n",
       "    </tr>\n",
       "    <tr>\n",
       "      <th>31</th>\n",
       "      <td>CA</td>\n",
       "      <td>2019-12-06</td>\n",
       "      <td>273</td>\n",
       "    </tr>\n",
       "    <tr>\n",
       "      <th>72</th>\n",
       "      <td>CA</td>\n",
       "      <td>2019-12-07</td>\n",
       "      <td>34</td>\n",
       "    </tr>\n",
       "  </tbody>\n",
       "</table>\n",
       "</div>"
      ],
      "text/plain": [
       "   State  Start_Time  Accident_count\n",
       "0     CA  2019-12-04              21\n",
       "4     CA  2019-12-05             276\n",
       "31    CA  2019-12-06             273\n",
       "72    CA  2019-12-07              34"
      ]
     },
     "execution_count": 75,
     "metadata": {},
     "output_type": "execute_result"
    }
   ],
   "source": [
    "\n",
    "testt_df[(testt_df.State == \"CA\") & ((testt_df.Start_Time == \"2019-12-04\")| (testt_df.Start_Time == \"2019-12-05\")|\n",
    "                                     (testt_df.Start_Time == \"2019-12-06\")| (testt_df.Start_Time == \"2019-12-07\"))]"
   ]
  },
  {
   "cell_type": "code",
   "execution_count": 72,
   "id": "3897a104",
   "metadata": {},
   "outputs": [
    {
     "data": {
      "text/html": [
       "<div>\n",
       "<style scoped>\n",
       "    .dataframe tbody tr th:only-of-type {\n",
       "        vertical-align: middle;\n",
       "    }\n",
       "\n",
       "    .dataframe tbody tr th {\n",
       "        vertical-align: top;\n",
       "    }\n",
       "\n",
       "    .dataframe thead th {\n",
       "        text-align: right;\n",
       "    }\n",
       "</style>\n",
       "<table border=\"1\" class=\"dataframe\">\n",
       "  <thead>\n",
       "    <tr style=\"text-align: right;\">\n",
       "      <th></th>\n",
       "      <th>State</th>\n",
       "      <th>Start_Time</th>\n",
       "      <th>Accident_count</th>\n",
       "    </tr>\n",
       "  </thead>\n",
       "  <tbody>\n",
       "    <tr>\n",
       "      <th>1</th>\n",
       "      <td>WA</td>\n",
       "      <td>2019-12-04</td>\n",
       "      <td>10</td>\n",
       "    </tr>\n",
       "    <tr>\n",
       "      <th>26</th>\n",
       "      <td>WA</td>\n",
       "      <td>2019-12-05</td>\n",
       "      <td>24</td>\n",
       "    </tr>\n",
       "    <tr>\n",
       "      <th>68</th>\n",
       "      <td>WA</td>\n",
       "      <td>2019-12-06</td>\n",
       "      <td>30</td>\n",
       "    </tr>\n",
       "    <tr>\n",
       "      <th>104</th>\n",
       "      <td>WA</td>\n",
       "      <td>2019-12-07</td>\n",
       "      <td>25</td>\n",
       "    </tr>\n",
       "  </tbody>\n",
       "</table>\n",
       "</div>"
      ],
      "text/plain": [
       "    State  Start_Time  Accident_count\n",
       "1      WA  2019-12-04              10\n",
       "26     WA  2019-12-05              24\n",
       "68     WA  2019-12-06              30\n",
       "104    WA  2019-12-07              25"
      ]
     },
     "execution_count": 72,
     "metadata": {},
     "output_type": "execute_result"
    }
   ],
   "source": [
    "\n",
    "testt_df[(testt_df.State == \"WA\") & ((testt_df.Start_Time == \"2019-12-04\")| (testt_df.Start_Time == \"2019-12-05\")|\n",
    "                                     (testt_df.Start_Time == \"2019-12-06\")| (testt_df.Start_Time == \"2019-12-07\"))]"
   ]
  },
  {
   "cell_type": "code",
   "execution_count": 74,
   "id": "753adfcf",
   "metadata": {},
   "outputs": [
    {
     "data": {
      "text/html": [
       "<div>\n",
       "<style scoped>\n",
       "    .dataframe tbody tr th:only-of-type {\n",
       "        vertical-align: middle;\n",
       "    }\n",
       "\n",
       "    .dataframe tbody tr th {\n",
       "        vertical-align: top;\n",
       "    }\n",
       "\n",
       "    .dataframe thead th {\n",
       "        text-align: right;\n",
       "    }\n",
       "</style>\n",
       "<table border=\"1\" class=\"dataframe\">\n",
       "  <thead>\n",
       "    <tr style=\"text-align: right;\">\n",
       "      <th></th>\n",
       "      <th>State</th>\n",
       "      <th>Start_Time</th>\n",
       "      <th>Accident_count</th>\n",
       "    </tr>\n",
       "  </thead>\n",
       "  <tbody>\n",
       "    <tr>\n",
       "      <th>2</th>\n",
       "      <td>AL</td>\n",
       "      <td>2019-12-05</td>\n",
       "      <td>67</td>\n",
       "    </tr>\n",
       "    <tr>\n",
       "      <th>28</th>\n",
       "      <td>AL</td>\n",
       "      <td>2019-12-06</td>\n",
       "      <td>84</td>\n",
       "    </tr>\n",
       "    <tr>\n",
       "      <th>70</th>\n",
       "      <td>AL</td>\n",
       "      <td>2019-12-07</td>\n",
       "      <td>19</td>\n",
       "    </tr>\n",
       "  </tbody>\n",
       "</table>\n",
       "</div>"
      ],
      "text/plain": [
       "   State  Start_Time  Accident_count\n",
       "2     AL  2019-12-05              67\n",
       "28    AL  2019-12-06              84\n",
       "70    AL  2019-12-07              19"
      ]
     },
     "execution_count": 74,
     "metadata": {},
     "output_type": "execute_result"
    }
   ],
   "source": [
    "\n",
    "testt_df[(testt_df.State == \"AL\") & ((testt_df.Start_Time == \"2019-12-05\")|\n",
    "                                     (testt_df.Start_Time == \"2019-12-06\")| (testt_df.Start_Time == \"2019-12-07\"))]"
   ]
  },
  {
   "cell_type": "code",
   "execution_count": null,
   "id": "43578c95",
   "metadata": {},
   "outputs": [],
   "source": []
  },
  {
   "cell_type": "code",
   "execution_count": null,
   "id": "15ccd4ff",
   "metadata": {},
   "outputs": [],
   "source": []
  },
  {
   "cell_type": "code",
   "execution_count": null,
   "id": "f09c0119",
   "metadata": {},
   "outputs": [],
   "source": []
  },
  {
   "cell_type": "code",
   "execution_count": null,
   "id": "7cebc350",
   "metadata": {},
   "outputs": [],
   "source": []
  },
  {
   "cell_type": "code",
   "execution_count": 10,
   "id": "4aaf42a8",
   "metadata": {},
   "outputs": [],
   "source": [
    "top_10_state = df[['City','State' , 'Severity']].groupby('State').agg({'City' : 'count' , \n",
    "                                                       'Severity' : 'mean' }).sort_values(\n",
    "    by='City',ascending=False).head(10)"
   ]
  },
  {
   "cell_type": "code",
   "execution_count": 11,
   "id": "c67104d9",
   "metadata": {},
   "outputs": [],
   "source": [
    "df_state_city = df[['State' , 'City','Severity']].groupby(['State' , 'City']).count().rename(columns = {'Severity' : 'Count'})\n",
    "\n",
    "top_10_city = df_state_city.sort_values(by='Count' , ascending = False).head(10)"
   ]
  },
  {
   "cell_type": "code",
   "execution_count": 12,
   "id": "6e04bb68",
   "metadata": {},
   "outputs": [
    {
     "data": {
      "image/png": "[encoded data removed]",
      "text/plain": [
       "<Figure size 1008x288 with 2 Axes>"
      ]
     },
     "metadata": {
      "needs_background": "light"
     },
     "output_type": "display_data"
    }
   ],
   "source": [
    "fig , (ax1, ax2) = plt.subplots(1,2,figsize=(14,4))\n",
    "\n",
    "bar = sns.barplot(x=top_10_state.index , y=top_10_state['City'],\n",
    "                  #palette='nipy_spectral_r' , \n",
    "#                   palette='pastel' , \n",
    "                  #edgecolor = 'black',\n",
    "                  ax=ax1 )\n",
    "sns.despine(left = True )\n",
    "ax1.set_xlabel(\"State\")\n",
    "ax1.set_ylabel(\"No. of Accidents\" , fontdict = {'fontsize':16 })\n",
    "ax1.set_title('Top 10 Accident States in US', fontdict = {'fontsize':16 })\n",
    "# ax3=ax1.twinx()\n",
    "# ax3.plot(top_10_state['Severity'] ,'o-', color='lightgray')\n",
    "# ax3.set_ylabel('Severity')\n",
    "\n",
    "\n",
    "bar = sns.barplot(x=top_10_city.index.get_level_values(1) , y=top_10_city['Count'],\n",
    "                  #palette='nipy_spectral' , \n",
    "#                   palette='pastel' , \n",
    "                  #edgecolor = 'black',\n",
    "                  ax=ax2\n",
    "                 )\n",
    "sns.despine(left = True )\n",
    "ax2.set_xlabel(\"City\" )\n",
    "ax2.set_ylabel(\"No. of Accidents\")\n",
    "ax2.set_title('Top 10 Accident Cities in US', fontdict = {'fontsize':16 })\n",
    "plt.xticks(rotation = 45)\n",
    "\n",
    "\n",
    "# Working to get labels for percentages\n",
    "total_accidents = len(df)\n",
    "\n",
    "# for state\n",
    "for p in ax1.patches :\n",
    "    height = p.get_height()\n",
    "    ax1.text(p.get_x() + p.get_width()/2,\n",
    "            height + 20000,\n",
    "            '{:.2f}%'.format(height/total_accidents*100),\n",
    "            ha = \"center\",\n",
    "            fontsize = 8)\n",
    "\n",
    "    \n",
    "# for City\n",
    "for p in ax2.patches :\n",
    "    height = p.get_height()\n",
    "    ax2.text(p.get_x() + p.get_width()/2,\n",
    "            height + 3000,\n",
    "            '{:.2f}%'.format(height/total_accidents*100),\n",
    "            ha = \"center\",\n",
    "            fontsize = 8)\n",
    "    \n",
    "    \n",
    "fig.show()"
   ]
  },
  {
   "cell_type": "code",
   "execution_count": 13,
   "id": "bf19bb3c",
   "metadata": {},
   "outputs": [],
   "source": [
    "# Creating Date Time series attributes\n",
    "\n",
    "\n",
    "df['Year'] = df['Start_Time'].dt.year\n",
    "df['Month'] = df['Start_Time'].dt.month  # .dt.month_name()\n",
    "df['Hour'] = df['Start_Time'].dt.hour\n",
    "diff = df['End_Time'] - df['Start_Time']\n",
    "df['DelayTime'] = round(diff.dt.seconds/3600,1)\n",
    "year = df['Year'].value_counts()\n",
    "month = df['Month'].value_counts().sort_index()\n",
    "month_map = {1:'Jan' , 2:'Feb' , 3:'Mar' , 4:'Apr' , 5:'May' , 6:'Jun', 7:'Jul' , 8:'Aug' \n",
    "             , 9:'Sep',10:'Oct' , 11:'Nov' , 12:'Dec'}\n",
    "\n",
    "hour_severity = df[['Hour' , 'Severity']].groupby('Hour').agg({'Hour' : 'count' , 'Severity' : 'mean'})\n",
    "\n",
    "df['Day'] = df['Start_Time'].dt.dayofweek\n",
    "day_severity = df[['Day' , 'Severity']].groupby('Day').agg({'Day' : 'count' , 'Severity' : 'mean'})\n",
    "day_map = {0:'Monday' , 1:'Tueday' , 2:'Wedday' , 3:\"Thuday\" , 4:'Friday' , 5:\"Saturday\" , 6:'Sunday'}\n",
    "\n",
    "\n",
    "# df['Month'].head()\n"
   ]
  },
  {
   "cell_type": "code",
   "execution_count": 14,
   "id": "4c8743b1",
   "metadata": {},
   "outputs": [],
   "source": [
    "hour_severity = df[['Hour' , 'Severity']].groupby('Hour').agg({'Hour' : 'count' , 'Severity' : 'mean'})\n",
    "\n",
    "df['Day'] = df['Start_Time'].dt.dayofweek\n",
    "day_severity = df[['Day' , 'Severity']].groupby('Day').agg({'Day' : 'count' , 'Severity' : 'mean'})\n",
    "day_map = {0:'Monday' , 1:'Tueday' , 2:'Wedday' , 3:\"Thuday\" , 4:'Friday' , 5:\"Saturday\" , 6:'Sunday'}"
   ]
  },
  {
   "cell_type": "code",
   "execution_count": 15,
   "id": "4c0dc1bb",
   "metadata": {},
   "outputs": [
    {
     "data": {
      "image/png": "[encoded data removed]",
      "text/plain": [
       "<Figure size 1008x360 with 2 Axes>"
      ]
     },
     "metadata": {
      "needs_background": "light"
     },
     "output_type": "display_data"
    }
   ],
   "source": [
    "fig,(ax1,ax2) = plt.subplots(1,2,figsize=(14,5))\n",
    "\n",
    "\n",
    "# plot for year\n",
    "\n",
    "light_palette = sns.color_palette(palette='pastel')\n",
    "\n",
    "year_color_map = ['Lavender' for _ in range(5)]\n",
    "year_color_map[0] = 'LightCoral' #light_palette[0]\n",
    "year_color_map[4] = 'PaleGreen' #light_palette[2]\n",
    "\n",
    "years = ax1.bar(year.index.values , year, color=year_color_map , edgecolor = 'black')\n",
    "ax1.spines[('top')].set_visible(False)\n",
    "ax1.spines[('right')].set_visible(False)\n",
    "ax1.set_xlabel(\"Years\", fontdict = {'fontsize':12 , 'color':'MidnightBlue'} )\n",
    "ax1.set_ylabel(\"No. of Accidents\")\n",
    "ax1.set_title('Accidents per Years', fontdict = {'fontsize':16 , 'color':'MidnightBlue'})\n",
    "\n",
    "for p in ax1.patches :\n",
    "    height = p.get_height()\n",
    "    ax1.text(p.get_x() + p.get_width()/2,\n",
    "            height + 20000,\n",
    "            '{:.2f}%'.format(height/total_accidents*100),\n",
    "            ha = \"center\",\n",
    "            fontsize = 8, color='Blue')\n",
    "\n",
    "    \n",
    "# plot for month\n",
    "\n",
    "\n",
    "month_color_map = ['Lavender' for _ in range(12)]\n",
    "month_color_map[11] = 'LightCoral' #light_palette[0]\n",
    "month_color_map[6] = 'PaleGreen' #light_palette[2]\n",
    "\n",
    "m = sns.barplot( x= month.index.map(month_map), y=month,  ax = ax2, palette=month_color_map , edgecolor='black' )\n",
    "plt.xticks(rotation=60)\n",
    "ax2.set_xlabel(\"Months\", fontdict = {'fontsize':12 , 'color':'MidnightBlue'} )\n",
    "ax2.set_ylabel(\"No. of Accidents\")\n",
    "ax2.set_title('Accidents per Months', fontdict = {'fontsize':16 , 'color':'MidnightBlue'})\n",
    "sns.despine(left=True)\n",
    "\n",
    "for p in ax2.patches :\n",
    "    height = p.get_height()\n",
    "    ax2.text(p.get_x() + p.get_width()/2,\n",
    "            height + 8000,\n",
    "            '{:.2f}%'.format(height/total_accidents*100),\n",
    "            ha = \"center\",\n",
    "            fontsize = 8, color='blue')\n",
    "\n",
    "ax1.grid(axis='y', linestyle='-', alpha=0.4)    \n",
    "ax2.grid(axis='y', linestyle='-', alpha=0.4) \n",
    "    \n",
    "plt.show()"
   ]
  },
  {
   "cell_type": "code",
   "execution_count": 16,
   "id": "dba8cb86",
   "metadata": {},
   "outputs": [
    {
     "data": {
      "image/png": "[encoded data removed]",
      "text/plain": [
       "<Figure size 1152x432 with 3 Axes>"
      ]
     },
     "metadata": {
      "needs_background": "light"
     },
     "output_type": "display_data"
    }
   ],
   "source": [
    "fig, (ax , ax2, ax3) = plt.subplots(1,3,figsize = (16,6))\n",
    "\n",
    "sns.set_context('paper')\n",
    "\n",
    "# f = sns.lineplot(x=day_severity['Day'].index.map(day_map) , y=day_severity['Severity'], \n",
    "#                  ax = ax,  label='Severity', legend = 'full' , dashes=True, palette=light_palette, color='red')\n",
    "\n",
    "\n",
    "ax.plot(day_severity['Severity'] ,  color='Turquoise', label=day_map,linewidth=3,\n",
    "           linestyle='solid',marker='.',markersize=18, markerfacecolor='w',markeredgecolor='b',markeredgewidth='2')\n",
    "\n",
    "\n",
    "ax.set_xlabel(\"Days of the week\", fontdict = {'fontsize':12 , 'color':'MidnightBlue'} )\n",
    "ax.set_ylabel(\"Severity Level\")\n",
    "ax.set_title('Severity by day of week', fontdict = {'fontsize':16 , 'color':'MidnightBlue'})\n",
    "\n",
    "\n",
    "ax2.plot(day_severity['Day'] ,  color='Turquoise', label=day_map,linewidth=3,\n",
    "           linestyle='solid',marker='.',markersize=18, markerfacecolor='w',markeredgecolor='b',markeredgewidth='2')\n",
    "\n",
    "ax2.set_xlabel(\"Days of the week\", fontdict = {'fontsize':12 , 'color':'MidnightBlue'} )\n",
    "ax2.set_ylabel(\"No. of Accidents\")\n",
    "ax2.set_title('Accidents Count by day', fontdict = {'fontsize':16 , 'color':'MidnightBlue'})\n",
    "\n",
    "f2 = sns.barplot(x=day_severity['Day'].index.map(day_map) , y=day_severity['Day'], ax = ax3, palette = 'nipy_spectral_r')\n",
    "plt.xticks(rotation=60)\n",
    "ax3.set_xlabel(\"Days of the week\", fontdict = {'fontsize':12 , 'color':'MidnightBlue'} )\n",
    "ax3.set_title('Accidents count on days of week', fontdict = {'fontsize':16 , 'color':'MidnightBlue'})\n",
    "\n",
    "sns.despine(left=True)\n",
    "\n",
    "fig.show()"
   ]
  },
  {
   "cell_type": "code",
   "execution_count": 17,
   "id": "11a1b48b",
   "metadata": {},
   "outputs": [
    {
     "data": {
      "image/png": "[encoded data removed]",
      "text/plain": [
       "<Figure size 1008x432 with 2 Axes>"
      ]
     },
     "metadata": {
      "needs_background": "light"
     },
     "output_type": "display_data"
    }
   ],
   "source": [
    "fig, ax = plt.subplots(1,1,figsize = (14,6))\n",
    "\n",
    "sns.set_context('paper')\n",
    "\n",
    "# ax.plot(hour_severity['Hour'], color='Salmon' , linewidth=3, linestyle='solid',\n",
    "#         marker='*',markersize=18, markerfacecolor='w',markeredgecolor='m',markeredgewidth='2',\n",
    "#         label = 'No. of Accidents'\n",
    "#        )\n",
    "\n",
    "\n",
    "f = sns.barplot(x=hour_severity['Hour'].index , y=hour_severity['Hour'], ax = ax, palette='Pastel2')\n",
    "\n",
    "ax2 = ax.twinx()\n",
    "\n",
    "ax2.plot(hour_severity['Severity'] , color='CornFlowerBlue', label='Severity',linewidth=3,\n",
    "           linestyle='solid',marker='.',markersize=18, markerfacecolor='w',markeredgecolor='b',markeredgewidth='2')\n",
    "\n",
    "sns.despine(left=True)\n",
    "# ax.spines[('top')].set_visible(False)\n",
    "# ax.spines[('right')].set_visible(False)\n",
    "# ax.spines[('left')].set_visible(False)\n",
    "ax2.spines[('top')].set_visible(False)\n",
    "ax2.spines[('right')].set_visible(False)\n",
    "ax2.spines[('left')].set_visible(False)\n",
    "ax.set_xlabel(\"Hours of the Day\", fontdict = {'fontsize':12 , 'color':'MidnightBlue'} )\n",
    "ax.set_ylabel(\"No. of Accidents\")\n",
    "ax2.set_ylabel(\"Severity of Accidents\", rotation=270 ,labelpad=20)\n",
    "ax.set_title('Accidents and Severity per Hour of the day', fontdict = {'fontsize':16 , 'color':'MidnightBlue'})\n",
    "# ax.legend(loc=(0,1))\n",
    "ax2.legend(loc=(0,0.8))\n",
    "\n",
    "ax.annotate('Morning office rush' , xytext=(3,150000) , xy=(7,5000),arrowprops={'arrowstyle':'fancy' , 'color':'Red'})\n",
    "ax.annotate('Office Returning rush' , xytext=(19,150000),xy=(16,5000),arrowprops={'arrowstyle':'fancy', 'color':'Red'})\n",
    "\n",
    "fig.show()"
   ]
  },
  {
   "cell_type": "code",
   "execution_count": 18,
   "id": "ddb338d2",
   "metadata": {},
   "outputs": [
    {
     "data": {
      "text/plain": [
       "1237.5"
      ]
     },
     "execution_count": 18,
     "metadata": {},
     "output_type": "execute_result"
    }
   ],
   "source": [
    "sev_4_mean = df[df['Severity'] == 4][['Severity','Year']].groupby('Year').count().mean()\n",
    "sev_4_mean[0]"
   ]
  },
  {
   "cell_type": "code",
   "execution_count": 61,
   "id": "427a9b39",
   "metadata": {},
   "outputs": [
    {
     "data": {
      "image/png": "[encoded data removed]",
      "text/plain": [
       "<Figure size 1152x432 with 2 Axes>"
      ]
     },
     "metadata": {
      "needs_background": "light"
     },
     "output_type": "display_data"
    }
   ],
   "source": [
    "f , (ax1,ax2) = plt.subplots(1,2,figsize=(16,6))\n",
    "\n",
    "df['Severity'].value_counts().plot.pie(autopct = '%1.1f%%' , ax=ax1, colors =sns.color_palette(palette='Pastel1') ,\n",
    "                                      pctdistance = 0.8, explode = [.03,.03,.03,  .03], \n",
    "                                       textprops = {'fontsize' : 13 , 'color' : 'DarkSlateBlue'},\n",
    "                                       labels=['Severity 2','Severity 3' , 'Severity 4' , '                Severity 1']\n",
    "                              )\n",
    "\n",
    "ax1.set_title(\"Accidents Severity\", fontdict = {'fontsize':20 , 'color':'MidnightBlue'} )\n",
    "\n",
    "sns.despine(left=True)"
   ]
  },
  {
   "cell_type": "code",
   "execution_count": 57,
   "id": "b34938c1",
   "metadata": {},
   "outputs": [
    {
     "data": {
      "image/png": "[encoded data removed]",
      "text/plain": [
       "<Figure size 586.915x540 with 12 Axes>"
      ]
     },
     "metadata": {
      "needs_background": "light"
     },
     "output_type": "display_data"
    }
   ],
   "source": [
    "pair = sns.pairplot(df[['Severity','Temperature(F)','Humidity(%)','Pressure(in)']].dropna(), hue='Severity', palette='nipy_spectral')\n",
    "# pair = sns.pairplot(df[['Severity','Temperature(F)']].dropna(), hue='Severity', palette='nipy_spectral')\n",
    "\n",
    "pair.fig.suptitle('Distribution of Temp , Humidity and Pressure with Severity', y =1.08 \n",
    "                  , fontsize = 16 , color = 'MidnightBlue' , ha = 'center' , va='top')\n",
    "\n",
    "plt.show()"
   ]
  },
  {
   "cell_type": "code",
   "execution_count": 21,
   "id": "ed5e3a78",
   "metadata": {},
   "outputs": [
    {
     "data": {
      "text/plain": [
       "Cloudy             359011\n",
       "Fair               210865\n",
       "Clear              208889\n",
       "Overcast            80264\n",
       "Rainy Situation     77011\n",
       "Snow Situation      12491\n",
       "Fog                 12490\n",
       "Haze                 9790\n",
       "Storm Situation      2830\n",
       "Smoke                2694\n",
       "Name: Weather, dtype: int64"
      ]
     },
     "execution_count": 21,
     "metadata": {},
     "output_type": "execute_result"
    }
   ],
   "source": [
    "# Generalization of Weather condition\n",
    "\n",
    "conditions = df['Weather_Condition'].dropna().unique().tolist()\n",
    "\n",
    "condition_map = dict()\n",
    "\n",
    "\n",
    "for x in conditions :\n",
    "    if x.lower().find('snow')>0 or x.lower().startswith('snow') or x.lower().find('ice')>0 or x.lower().startswith('ice'):\n",
    "        condition_map[x] = 'Snow Situation'\n",
    "    elif (x.lower().find('rain')>0 or x.lower().find('drizzle')>0 or \n",
    "          x.lower().startswith('rain') or x.lower().startswith('drizzle') or\n",
    "          x.lower().find('thunder')>0 or x.lower().startswith('thunder')):\n",
    "        condition_map[x] = 'Rainy Situation'\n",
    "    elif (x.lower().find('storm')>0 or x.lower().find('thunder')>0):\n",
    "        condition_map[x] = 'Storm Situation'\n",
    "    elif (x.lower().find('cloud')>0 or x.lower().startswith('cloud')>0):\n",
    "        condition_map[x] = 'Cloudy'\n",
    "    elif (x.lower().find('fog')>0 or x.lower().startswith('fog')>0):\n",
    "        condition_map[x] = 'Fog'\n",
    "    elif (x.lower().find('dust')>0 or x.lower().startswith('dust')>0):\n",
    "        condition_map[x] = 'Dust'\n",
    "    elif (x.lower().find('wind')>0 or x.lower().startswith('wind')>0):\n",
    "        condition_map[x] = 'Windy'\n",
    "    else:\n",
    "        condition_map[x] =x\n",
    "\n",
    "\n",
    "df['Weather'] = df['Weather_Condition'].map(condition_map)\n",
    "# df['Weather'].value_counts().sort_values(ascending=False).head(20)\n",
    "total = len(df['Weather'])\n",
    "# total\n",
    "top_10_weather = df['Weather'].value_counts()[:10]\n",
    "top_15_weather = df['Weather'].value_counts()[:13]\n",
    "\n",
    "top_10_weather\n",
    "# condition_map"
   ]
  },
  {
   "cell_type": "code",
   "execution_count": 22,
   "id": "f0fc5cd6",
   "metadata": {},
   "outputs": [],
   "source": [
    "def check_exist(x):\n",
    "    if x in top_15_weather :\n",
    "        return x\n",
    "    else :\n",
    "        return 'Other'\n",
    "\n",
    "df['Weather2'] = df['Weather'].apply(check_exist)\n",
    "\n",
    "cmap = {x:y for (x,y) in zip(top_10_weather.index , sns.color_palette('pastel'))}"
   ]
  },
  {
   "cell_type": "code",
   "execution_count": 30,
   "id": "9d4cd0d1",
   "metadata": {},
   "outputs": [
    {
     "data": {
      "image/png": "[encoded data removed]",
      "text/plain": [
       "<Figure size 1152x432 with 2 Axes>"
      ]
     },
     "metadata": {
      "needs_background": "light"
     },
     "output_type": "display_data"
    }
   ],
   "source": [
    "# Analysing the 'Weather_Condition' attribute\n",
    "\n",
    "fig,(ax,ax2) = plt.subplots(1,2,figsize = (16, 6))\n",
    "\n",
    "sns.countplot(x='Weather', data=df[['Weather','Severity']], order=df['Weather'].value_counts()[:5].index, \n",
    "              palette=cmap , edgecolor = 'black' , \n",
    "              ax= ax)\n",
    "\n",
    "\n",
    "ax.set_ylabel(\"Accident Counts\", fontdict = {'fontsize':12 , 'color':'MidnightBlue'} )\n",
    "ax.set_xlabel(\"Top 5 Weather Conditions\")\n",
    "ax.set_title('Weather Conditions effect on Accidents', fontdict = {'fontsize':16 , 'color':'MidnightBlue'}, pad=15)\n",
    "\n",
    "# ax.grid(axis='y', linestyle='-', alpha=0.4) \n",
    "#sns.despine(left=True)\n",
    "\n",
    "plt.show()"
   ]
  },
  {
   "cell_type": "code",
   "execution_count": 63,
   "id": "bd5f43b3",
   "metadata": {},
   "outputs": [],
   "source": [
    "df_nyc = df[df['City'] == 'New York']\n",
    "\n",
    "year = df_nyc['Year'].value_counts()\n",
    "month = df_nyc['Month'].value_counts().sort_index()\n",
    "month_map = {1:'Jan' , 2:'Feb' , 3:'Mar' , 4:'Apr' , 5:'May' , 6:'Jun', 7:'Jul' , 8:'Aug' \n",
    "             , 9:'Sep',10:'Oct' , 11:'Nov' , 12:'Dec'}\n",
    "hour = df_nyc['Hour'].value_counts().sort_index()\n",
    "\n",
    "hour_severity = df_nyc[['Hour' , 'Severity']].groupby('Hour').agg({'Hour' : 'count' , 'Severity' : 'mean'})\n",
    "\n",
    "# df_nyc['Day'] = df_nyc['Start_Time'].dt.dayofweek\n",
    "day_severity = df_nyc['Day'].value_counts().sort_index()\n",
    "# day_severity = df_nyc[['Day' , 'Severity']].groupby('Day').agg({'Day' : 'count' , 'Severity' : 'mean'})\n",
    "day_map = {0:'Monday' , 1:'Tueday' , 2:'Wedday' , 3:\"Thuday\" , 4:'Friday' , 5:\"Saturday\" , 6:'Sunday'}\n",
    "year_map = {x:x for x in year.index}\n",
    "hour_map = {x:x for x in hour.index}\n",
    "\n",
    "light_palette = sns.color_palette(palette='pastel')"
   ]
  },
  {
   "cell_type": "code",
   "execution_count": 64,
   "id": "3356d2b7",
   "metadata": {},
   "outputs": [],
   "source": [
    "day_severity = df_nyc['Day'].value_counts().sort_index()"
   ]
  },
  {
   "cell_type": "code",
   "execution_count": 65,
   "id": "cdad83b5",
   "metadata": {},
   "outputs": [
    {
     "data": {
      "image/png": "[encoded data removed]",
      "text/plain": [
       "<Figure size 1152x648 with 4 Axes>"
      ]
     },
     "metadata": {
      "needs_background": "light"
     },
     "output_type": "display_data"
    }
   ],
   "source": [
    "fig,([ax1,ax2],[ax3,ax4]) = plt.subplots(2,2,figsize=(16,9))\n",
    "\n",
    "def plot_dist(kind  , text ,axis,  red, green  ) :\n",
    "    '''\n",
    "    Reusable function to plot distribution based on input time criteria\n",
    "    Usage : plot_dist(kind, text, axis, red , green) - all params mandatory\n",
    "    \n",
    "        kind : 'd' for day, 'm' for month , 'y' for year, 'h' for hour\n",
    "        red  : list of item to be rendered red (max)\n",
    "        green : list of item to be rendered green (min)\n",
    "        text : Text to be showns as part of Title\n",
    "        axis : Axis to plot on  \n",
    "    '''\n",
    "    if kind == 'd' :\n",
    "        tot, ser, map = 7, day_severity ,  day_map\n",
    "    elif kind == 'm':\n",
    "        tot, ser, map = 12, month ,  month_map\n",
    "    elif kind == 'y':\n",
    "        tot, ser, map = 5, year ,  year_map\n",
    "    elif kind == 'h':\n",
    "        tot, ser, map = 24, hour ,  hour_map\n",
    "    \n",
    "    day_color_map = ['AliceBlue' for _ in range(tot)]\n",
    "    for r in red:\n",
    "        day_color_map[r] = 'Crimson' \n",
    "    for g in green:\n",
    "        day_color_map[g] = 'SpringGreen' \n",
    "    \n",
    "    d = sns.barplot(x=ser.index.map(map) , y=ser, ax = axis, palette = day_color_map, edgecolor='black' )\n",
    "    plt.xticks(rotation=60)\n",
    "    axis.set_xlabel(text, fontdict = {'fontsize':12 , 'color':'MediumVioletRed'} )\n",
    "    axis.set_title(f'Accidents count on {text}', fontdict = {'fontsize':16 , 'color':'MidnightBlue'})\n",
    "    axis.grid(axis='y', linestyle='-', alpha=0.4) \n",
    "    \n",
    "plt.subplots_adjust(wspace=0.2 , hspace = 0.4)\n",
    "plt.suptitle(\"New York City Accidents on Timeseries\" , fontsize = 18 , color=\"RosyBrown\")\n",
    "\n",
    "plot_dist('d' ,\"Days of the week\", ax3,[0],[5])\n",
    "plot_dist('y' ,\"Years\", ax1,[4],[0])\n",
    "plot_dist('m' ,\"Months\", ax2, [10],[0])\n",
    "plot_dist('h' ,\"Hours\", ax4,red=[7,16],green=[2])\n",
    "plt.show()"
   ]
  },
  {
   "cell_type": "code",
   "execution_count": 66,
   "id": "44582761",
   "metadata": {},
   "outputs": [],
   "source": [
    "top_st = df_nyc['Street'].value_counts().sort_values(ascending=False).head(10).index.tolist()"
   ]
  },
  {
   "cell_type": "code",
   "execution_count": 67,
   "id": "c2305cba",
   "metadata": {},
   "outputs": [],
   "source": [
    "top_st_severity = df_nyc[df_nyc['Street'].isin(top_st)][['Street' , 'Severity']] .groupby('Street').mean()\n",
    "\n",
    "top_st_delay = df_nyc[df_nyc['Street'].isin(top_st)][['Street' , 'DelayTime']] .groupby('Street').mean()"
   ]
  },
  {
   "cell_type": "code",
   "execution_count": 72,
   "id": "ad82e03d",
   "metadata": {},
   "outputs": [
    {
     "data": {
      "image/png": "[encoded data removed]",
      "text/plain": [
       "<Figure size 1152x720 with 2 Axes>"
      ]
     },
     "metadata": {
      "needs_background": "light"
     },
     "output_type": "display_data"
    }
   ],
   "source": [
    "fig, (ax2,ax3) = plt.subplots(2,1,figsize=(16,10), sharex=True)\n",
    "\n",
    "fig.subplots_adjust(hspace=0)\n",
    "\n",
    "sns.countplot(data = df_nyc[df_nyc['Street'].isin(top_st)][['Street' , 'Severity']] ,\n",
    "              x='Street' , ax=ax3, palette='Pastel2',edgecolor = 'Black')\n",
    "plt.xticks(rotation=30)\n",
    "\n",
    "ax2.plot( top_st_severity, color='CornFlowerBlue', label='Severity',linewidth=3,\n",
    "           linestyle='solid',marker='.',markersize=18, markerfacecolor='w',markeredgecolor='b',markeredgewidth='2')\n",
    "\n",
    "\n",
    "ax2.spines[('right')].set_visible(False)\n",
    "ax3.spines[('right')].set_visible(False)\n",
    "ax3.set_xlabel(\"Street name\", fontdict = {'fontsize':14 , 'color':'Teal'} )\n",
    "ax3.set_ylabel(\"No. of Accidents\", fontdict = {'fontsize':12 , 'color':'MidnightBlue'})\n",
    "ax2.set_ylabel(\"Accidents Severity\", fontdict = {'fontsize':12 , 'color':'MidnightBlue'})\n",
    "ax2.legend(loc=(0.01,0.8))\n",
    "ax2.grid(axis='x', linestyle='-', alpha=0.4) \n",
    "ax3.grid(axis='x', linestyle='-', alpha=0.4) \n",
    "\n",
    "plt.show()"
   ]
  },
  {
   "cell_type": "code",
   "execution_count": 73,
   "id": "7fcd58a6",
   "metadata": {},
   "outputs": [
    {
     "data": {
      "text/html": [
       "        <script type=\"text/javascript\">\n",
       "        window.PlotlyConfig = {MathJaxConfig: 'local'};\n",
       "        if (window.MathJax) {MathJax.Hub.Config({SVG: {font: \"STIX-Web\"}});}\n",
       "        if (typeof require !== 'undefined') {\n",
       "        require.undef(\"plotly\");\n",
       "        requirejs.config({\n",
       "            paths: {\n",
       "                'plotly': ['https://cdn.plot.ly/plotly-latest.min']\n",
       "            }\n",
       "        });\n",
       "        require(['plotly'], function(Plotly) {\n",
       "            window._Plotly = Plotly;\n",
       "        });\n",
       "        }\n",
       "        </script>\n",
       "        "
      ]
     },
     "metadata": {},
     "output_type": "display_data"
    }
   ],
   "source": [
    "import plotly.graph_objects as go\n",
    "from plotly.offline import init_notebook_mode,iplot,plot\n",
    "init_notebook_mode(connected=True)"
   ]
  },
  {
   "cell_type": "code",
   "execution_count": 75,
   "id": "b611d5b8",
   "metadata": {},
   "outputs": [
    {
     "data": {
      "application/vnd.plotly.v1+json": {
       "config": {
        "plotlyServerURL": "https://plot.ly"
       },
       "data": [
        {
         "colorbar": {
          "title": {
           "text": " Accident Counts"
          }
         },
         "colorscale": [
          [
           0,
           "rgb(255,245,240)"
          ],
          [
           0.125,
           "rgb(254,224,210)"
          ],
          [
           0.25,
           "rgb(252,187,161)"
          ],
          [
           0.375,
           "rgb(252,146,114)"
          ],
          [
           0.5,
           "rgb(251,106,74)"
          ],
          [
           0.625,
           "rgb(239,59,44)"
          ],
          [
           0.75,
           "rgb(203,24,29)"
          ],
          [
           0.875,
           "rgb(165,15,21)"
          ],
          [
           1,
           "rgb(103,0,13)"
          ]
         ],
         "locationmode": "USA-states",
         "locations": [
          "CA",
          "TX",
          "FL",
          "SC",
          "NY",
          "PA",
          "MI",
          "IL",
          "GA",
          "NC",
          "VA",
          "OH",
          "WA",
          "MA",
          "TN",
          "MD",
          "NJ",
          "AL",
          "AZ",
          "LA",
          "MN",
          "OK",
          "NE",
          "MO",
          "CO",
          "CT",
          "UT",
          "IA",
          "IN",
          "KY",
          "OR",
          "RI",
          "WI",
          "NV",
          "DE",
          "NH",
          "KS",
          "DC",
          "MS",
          "NM",
          "AR",
          "WV",
          "VT",
          "ME",
          "ID",
          "WY",
          "MT",
          "ND",
          "SD"
         ],
         "type": "choropleth",
         "z": [
          252473,
          125668,
          93531,
          49502,
          46340,
          46321,
          34795,
          33791,
          31842,
          23921,
          22713,
          22250,
          19923,
          16974,
          16866,
          16380,
          14760,
          14476,
          13697,
          12686,
          10629,
          10416,
          10313,
          7838,
          7540,
          7016,
          6538,
          3887,
          3785,
          3704,
          3418,
          3374,
          3107,
          1962,
          1492,
          1273,
          1172,
          1001,
          968,
          894,
          327,
          129,
          117,
          88,
          41,
          21,
          3,
          1,
          1
         ]
        }
       ],
       "layout": {
        "font": {
         "color": "MidnightBlue",
         "family": "Calibri",
         "size": 14
        },
        "geo": {
         "scope": "usa"
        },
        "template": {
         "data": {
          "bar": [
           {
            "error_x": {
             "color": "#2a3f5f"
            },
            "error_y": {
             "color": "#2a3f5f"
            },
            "marker": {
             "line": {
              "color": "#E5ECF6",
              "width": 0.5
             }
            },
            "type": "bar"
           }
          ],
          "barpolar": [
           {
            "marker": {
             "line": {
              "color": "#E5ECF6",
              "width": 0.5
             }
            },
            "type": "barpolar"
           }
          ],
          "carpet": [
           {
            "aaxis": {
             "endlinecolor": "#2a3f5f",
             "gridcolor": "white",
             "linecolor": "white",
             "minorgridcolor": "white",
             "startlinecolor": "#2a3f5f"
            },
            "baxis": {
             "endlinecolor": "#2a3f5f",
             "gridcolor": "white",
             "linecolor": "white",
             "minorgridcolor": "white",
             "startlinecolor": "#2a3f5f"
            },
            "type": "carpet"
           }
          ],
          "choropleth": [
           {
            "colorbar": {
             "outlinewidth": 0,
             "ticks": ""
            },
            "type": "choropleth"
           }
          ],
          "contour": [
           {
            "colorbar": {
             "outlinewidth": 0,
             "ticks": ""
            },
            "colorscale": [
             [
              0,
              "#0d0887"
             ],
             [
              0.1111111111111111,
              "#46039f"
             ],
             [
              0.2222222222222222,
              "#7201a8"
             ],
             [
              0.3333333333333333,
              "#9c179e"
             ],
             [
              0.4444444444444444,
              "#bd3786"
             ],
             [
              0.5555555555555556,
              "#d8576b"
             ],
             [
              0.6666666666666666,
              "#ed7953"
             ],
             [
              0.7777777777777778,
              "#fb9f3a"
             ],
             [
              0.8888888888888888,
              "#fdca26"
             ],
             [
              1,
              "#f0f921"
             ]
            ],
            "type": "contour"
           }
          ],
          "contourcarpet": [
           {
            "colorbar": {
             "outlinewidth": 0,
             "ticks": ""
            },
            "type": "contourcarpet"
           }
          ],
          "heatmap": [
           {
            "colorbar": {
             "outlinewidth": 0,
             "ticks": ""
            },
            "colorscale": [
             [
              0,
              "#0d0887"
             ],
             [
              0.1111111111111111,
              "#46039f"
             ],
             [
              0.2222222222222222,
              "#7201a8"
             ],
             [
              0.3333333333333333,
              "#9c179e"
             ],
             [
              0.4444444444444444,
              "#bd3786"
             ],
             [
              0.5555555555555556,
              "#d8576b"
             ],
             [
              0.6666666666666666,
              "#ed7953"
             ],
             [
              0.7777777777777778,
              "#fb9f3a"
             ],
             [
              0.8888888888888888,
              "#fdca26"
             ],
             [
              1,
              "#f0f921"
             ]
            ],
            "type": "heatmap"
           }
          ],
          "heatmapgl": [
           {
            "colorbar": {
             "outlinewidth": 0,
             "ticks": ""
            },
            "colorscale": [
             [
              0,
              "#0d0887"
             ],
             [
              0.1111111111111111,
              "#46039f"
             ],
             [
              0.2222222222222222,
              "#7201a8"
             ],
             [
              0.3333333333333333,
              "#9c179e"
             ],
             [
              0.4444444444444444,
              "#bd3786"
             ],
             [
              0.5555555555555556,
              "#d8576b"
             ],
             [
              0.6666666666666666,
              "#ed7953"
             ],
             [
              0.7777777777777778,
              "#fb9f3a"
             ],
             [
              0.8888888888888888,
              "#fdca26"
             ],
             [
              1,
              "#f0f921"
             ]
            ],
            "type": "heatmapgl"
           }
          ],
          "histogram": [
           {
            "marker": {
             "colorbar": {
              "outlinewidth": 0,
              "ticks": ""
             }
            },
            "type": "histogram"
           }
          ],
          "histogram2d": [
           {
            "colorbar": {
             "outlinewidth": 0,
             "ticks": ""
            },
            "colorscale": [
             [
              0,
              "#0d0887"
             ],
             [
              0.1111111111111111,
              "#46039f"
             ],
             [
              0.2222222222222222,
              "#7201a8"
             ],
             [
              0.3333333333333333,
              "#9c179e"
             ],
             [
              0.4444444444444444,
              "#bd3786"
             ],
             [
              0.5555555555555556,
              "#d8576b"
             ],
             [
              0.6666666666666666,
              "#ed7953"
             ],
             [
              0.7777777777777778,
              "#fb9f3a"
             ],
             [
              0.8888888888888888,
              "#fdca26"
             ],
             [
              1,
              "#f0f921"
             ]
            ],
            "type": "histogram2d"
           }
          ],
          "histogram2dcontour": [
           {
            "colorbar": {
             "outlinewidth": 0,
             "ticks": ""
            },
            "colorscale": [
             [
              0,
              "#0d0887"
             ],
             [
              0.1111111111111111,
              "#46039f"
             ],
             [
              0.2222222222222222,
              "#7201a8"
             ],
             [
              0.3333333333333333,
              "#9c179e"
             ],
             [
              0.4444444444444444,
              "#bd3786"
             ],
             [
              0.5555555555555556,
              "#d8576b"
             ],
             [
              0.6666666666666666,
              "#ed7953"
             ],
             [
              0.7777777777777778,
              "#fb9f3a"
             ],
             [
              0.8888888888888888,
              "#fdca26"
             ],
             [
              1,
              "#f0f921"
             ]
            ],
            "type": "histogram2dcontour"
           }
          ],
          "mesh3d": [
           {
            "colorbar": {
             "outlinewidth": 0,
             "ticks": ""
            },
            "type": "mesh3d"
           }
          ],
          "parcoords": [
           {
            "line": {
             "colorbar": {
              "outlinewidth": 0,
              "ticks": ""
             }
            },
            "type": "parcoords"
           }
          ],
          "pie": [
           {
            "automargin": true,
            "type": "pie"
           }
          ],
          "scatter": [
           {
            "marker": {
             "colorbar": {
              "outlinewidth": 0,
              "ticks": ""
             }
            },
            "type": "scatter"
           }
          ],
          "scatter3d": [
           {
            "line": {
             "colorbar": {
              "outlinewidth": 0,
              "ticks": ""
             }
            },
            "marker": {
             "colorbar": {
              "outlinewidth": 0,
              "ticks": ""
             }
            },
            "type": "scatter3d"
           }
          ],
          "scattercarpet": [
           {
            "marker": {
             "colorbar": {
              "outlinewidth": 0,
              "ticks": ""
             }
            },
            "type": "scattercarpet"
           }
          ],
          "scattergeo": [
           {
            "marker": {
             "colorbar": {
              "outlinewidth": 0,
              "ticks": ""
             }
            },
            "type": "scattergeo"
           }
          ],
          "scattergl": [
           {
            "marker": {
             "colorbar": {
              "outlinewidth": 0,
              "ticks": ""
             }
            },
            "type": "scattergl"
           }
          ],
          "scattermapbox": [
           {
            "marker": {
             "colorbar": {
              "outlinewidth": 0,
              "ticks": ""
             }
            },
            "type": "scattermapbox"
           }
          ],
          "scatterpolar": [
           {
            "marker": {
             "colorbar": {
              "outlinewidth": 0,
              "ticks": ""
             }
            },
            "type": "scatterpolar"
           }
          ],
          "scatterpolargl": [
           {
            "marker": {
             "colorbar": {
              "outlinewidth": 0,
              "ticks": ""
             }
            },
            "type": "scatterpolargl"
           }
          ],
          "scatterternary": [
           {
            "marker": {
             "colorbar": {
              "outlinewidth": 0,
              "ticks": ""
             }
            },
            "type": "scatterternary"
           }
          ],
          "surface": [
           {
            "colorbar": {
             "outlinewidth": 0,
             "ticks": ""
            },
            "colorscale": [
             [
              0,
              "#0d0887"
             ],
             [
              0.1111111111111111,
              "#46039f"
             ],
             [
              0.2222222222222222,
              "#7201a8"
             ],
             [
              0.3333333333333333,
              "#9c179e"
             ],
             [
              0.4444444444444444,
              "#bd3786"
             ],
             [
              0.5555555555555556,
              "#d8576b"
             ],
             [
              0.6666666666666666,
              "#ed7953"
             ],
             [
              0.7777777777777778,
              "#fb9f3a"
             ],
             [
              0.8888888888888888,
              "#fdca26"
             ],
             [
              1,
              "#f0f921"
             ]
            ],
            "type": "surface"
           }
          ],
          "table": [
           {
            "cells": {
             "fill": {
              "color": "#EBF0F8"
             },
             "line": {
              "color": "white"
             }
            },
            "header": {
             "fill": {
              "color": "#C8D4E3"
             },
             "line": {
              "color": "white"
             }
            },
            "type": "table"
           }
          ]
         },
         "layout": {
          "annotationdefaults": {
           "arrowcolor": "#2a3f5f",
           "arrowhead": 0,
           "arrowwidth": 1
          },
          "autotypenumbers": "strict",
          "coloraxis": {
           "colorbar": {
            "outlinewidth": 0,
            "ticks": ""
           }
          },
          "colorscale": {
           "diverging": [
            [
             0,
             "#8e0152"
            ],
            [
             0.1,
             "#c51b7d"
            ],
            [
             0.2,
             "#de77ae"
            ],
            [
             0.3,
             "#f1b6da"
            ],
            [
             0.4,
             "#fde0ef"
            ],
            [
             0.5,
             "#f7f7f7"
            ],
            [
             0.6,
             "#e6f5d0"
            ],
            [
             0.7,
             "#b8e186"
            ],
            [
             0.8,
             "#7fbc41"
            ],
            [
             0.9,
             "#4d9221"
            ],
            [
             1,
             "#276419"
            ]
           ],
           "sequential": [
            [
             0,
             "#0d0887"
            ],
            [
             0.1111111111111111,
             "#46039f"
            ],
            [
             0.2222222222222222,
             "#7201a8"
            ],
            [
             0.3333333333333333,
             "#9c179e"
            ],
            [
             0.4444444444444444,
             "#bd3786"
            ],
            [
             0.5555555555555556,
             "#d8576b"
            ],
            [
             0.6666666666666666,
             "#ed7953"
            ],
            [
             0.7777777777777778,
             "#fb9f3a"
            ],
            [
             0.8888888888888888,
             "#fdca26"
            ],
            [
             1,
             "#f0f921"
            ]
           ],
           "sequentialminus": [
            [
             0,
             "#0d0887"
            ],
            [
             0.1111111111111111,
             "#46039f"
            ],
            [
             0.2222222222222222,
             "#7201a8"
            ],
            [
             0.3333333333333333,
             "#9c179e"
            ],
            [
             0.4444444444444444,
             "#bd3786"
            ],
            [
             0.5555555555555556,
             "#d8576b"
            ],
            [
             0.6666666666666666,
             "#ed7953"
            ],
            [
             0.7777777777777778,
             "#fb9f3a"
            ],
            [
             0.8888888888888888,
             "#fdca26"
            ],
            [
             1,
             "#f0f921"
            ]
           ]
          },
          "colorway": [
           "#636efa",
           "#EF553B",
           "#00cc96",
           "#ab63fa",
           "#FFA15A",
           "#19d3f3",
           "#FF6692",
           "#B6E880",
           "#FF97FF",
           "#FECB52"
          ],
          "font": {
           "color": "#2a3f5f"
          },
          "geo": {
           "bgcolor": "white",
           "lakecolor": "white",
           "landcolor": "#E5ECF6",
           "showlakes": true,
           "showland": true,
           "subunitcolor": "white"
          },
          "hoverlabel": {
           "align": "left"
          },
          "hovermode": "closest",
          "mapbox": {
           "style": "light"
          },
          "paper_bgcolor": "white",
          "plot_bgcolor": "#E5ECF6",
          "polar": {
           "angularaxis": {
            "gridcolor": "white",
            "linecolor": "white",
            "ticks": ""
           },
           "bgcolor": "#E5ECF6",
           "radialaxis": {
            "gridcolor": "white",
            "linecolor": "white",
            "ticks": ""
           }
          },
          "scene": {
           "xaxis": {
            "backgroundcolor": "#E5ECF6",
            "gridcolor": "white",
            "gridwidth": 2,
            "linecolor": "white",
            "showbackground": true,
            "ticks": "",
            "zerolinecolor": "white"
           },
           "yaxis": {
            "backgroundcolor": "#E5ECF6",
            "gridcolor": "white",
            "gridwidth": 2,
            "linecolor": "white",
            "showbackground": true,
            "ticks": "",
            "zerolinecolor": "white"
           },
           "zaxis": {
            "backgroundcolor": "#E5ECF6",
            "gridcolor": "white",
            "gridwidth": 2,
            "linecolor": "white",
            "showbackground": true,
            "ticks": "",
            "zerolinecolor": "white"
           }
          },
          "shapedefaults": {
           "line": {
            "color": "#2a3f5f"
           }
          },
          "ternary": {
           "aaxis": {
            "gridcolor": "white",
            "linecolor": "white",
            "ticks": ""
           },
           "baxis": {
            "gridcolor": "white",
            "linecolor": "white",
            "ticks": ""
           },
           "bgcolor": "#E5ECF6",
           "caxis": {
            "gridcolor": "white",
            "linecolor": "white",
            "ticks": ""
           }
          },
          "title": {
           "x": 0.05
          },
          "xaxis": {
           "automargin": true,
           "gridcolor": "white",
           "linecolor": "white",
           "ticks": "",
           "title": {
            "standoff": 15
           },
           "zerolinecolor": "white",
           "zerolinewidth": 2
          },
          "yaxis": {
           "automargin": true,
           "gridcolor": "white",
           "linecolor": "white",
           "ticks": "",
           "title": {
            "standoff": 15
           },
           "zerolinecolor": "white",
           "zerolinewidth": 2
          }
         }
        },
        "title": {
         "text": "Accidents Counts by States",
         "x": 0.5
        }
       }
      },
      "text/html": [
       "<div>                            <div id=\"72383871-3699-4f66-a83f-8fe8c37eb694\" class=\"plotly-graph-div\" style=\"height:525px; width:100%;\"></div>            <script type=\"text/javascript\">                require([\"plotly\"], function(Plotly) {                    window.PLOTLYENV=window.PLOTLYENV || {};                                    if (document.getElementById(\"72383871-3699-4f66-a83f-8fe8c37eb694\")) {                    Plotly.newPlot(                        \"72383871-3699-4f66-a83f-8fe8c37eb694\",                        [{\"colorbar\": {\"title\": {\"text\": \" Accident Counts\"}}, \"colorscale\": [[0.0, \"rgb(255,245,240)\"], [0.125, \"rgb(254,224,210)\"], [0.25, \"rgb(252,187,161)\"], [0.375, \"rgb(252,146,114)\"], [0.5, \"rgb(251,106,74)\"], [0.625, \"rgb(239,59,44)\"], [0.75, \"rgb(203,24,29)\"], [0.875, \"rgb(165,15,21)\"], [1.0, \"rgb(103,0,13)\"]], \"locationmode\": \"USA-states\", \"locations\": [\"CA\", \"TX\", \"FL\", \"SC\", \"NY\", \"PA\", \"MI\", \"IL\", \"GA\", \"NC\", \"VA\", \"OH\", \"WA\", \"MA\", \"TN\", \"MD\", \"NJ\", \"AL\", \"AZ\", \"LA\", \"MN\", \"OK\", \"NE\", \"MO\", \"CO\", \"CT\", \"UT\", \"IA\", \"IN\", \"KY\", \"OR\", \"RI\", \"WI\", \"NV\", \"DE\", \"NH\", \"KS\", \"DC\", \"MS\", \"NM\", \"AR\", \"WV\", \"VT\", \"ME\", \"ID\", \"WY\", \"MT\", \"ND\", \"SD\"], \"type\": \"choropleth\", \"z\": [252473.0, 125668.0, 93531.0, 49502.0, 46340.0, 46321.0, 34795.0, 33791.0, 31842.0, 23921.0, 22713.0, 22250.0, 19923.0, 16974.0, 16866.0, 16380.0, 14760.0, 14476.0, 13697.0, 12686.0, 10629.0, 10416.0, 10313.0, 7838.0, 7540.0, 7016.0, 6538.0, 3887.0, 3785.0, 3704.0, 3418.0, 3374.0, 3107.0, 1962.0, 1492.0, 1273.0, 1172.0, 1001.0, 968.0, 894.0, 327.0, 129.0, 117.0, 88.0, 41.0, 21.0, 3.0, 1.0, 1.0]}],                        {\"font\": {\"color\": \"MidnightBlue\", \"family\": \"Calibri\", \"size\": 14}, \"geo\": {\"scope\": \"usa\"}, \"template\": {\"data\": {\"bar\": [{\"error_x\": {\"color\": \"#2a3f5f\"}, \"error_y\": {\"color\": \"#2a3f5f\"}, \"marker\": {\"line\": {\"color\": \"#E5ECF6\", \"width\": 0.5}}, \"type\": \"bar\"}], \"barpolar\": [{\"marker\": {\"line\": {\"color\": \"#E5ECF6\", \"width\": 0.5}}, \"type\": \"barpolar\"}], \"carpet\": [{\"aaxis\": {\"endlinecolor\": \"#2a3f5f\", \"gridcolor\": \"white\", \"linecolor\": \"white\", \"minorgridcolor\": \"white\", \"startlinecolor\": \"#2a3f5f\"}, \"baxis\": {\"endlinecolor\": \"#2a3f5f\", \"gridcolor\": \"white\", \"linecolor\": \"white\", \"minorgridcolor\": \"white\", \"startlinecolor\": \"#2a3f5f\"}, \"type\": \"carpet\"}], \"choropleth\": [{\"colorbar\": {\"outlinewidth\": 0, \"ticks\": \"\"}, \"type\": \"choropleth\"}], \"contour\": [{\"colorbar\": {\"outlinewidth\": 0, \"ticks\": \"\"}, \"colorscale\": [[0.0, \"#0d0887\"], [0.1111111111111111, \"#46039f\"], [0.2222222222222222, \"#7201a8\"], [0.3333333333333333, \"#9c179e\"], [0.4444444444444444, \"#bd3786\"], [0.5555555555555556, \"#d8576b\"], [0.6666666666666666, \"#ed7953\"], [0.7777777777777778, \"#fb9f3a\"], [0.8888888888888888, \"#fdca26\"], [1.0, \"#f0f921\"]], \"type\": \"contour\"}], \"contourcarpet\": [{\"colorbar\": {\"outlinewidth\": 0, \"ticks\": \"\"}, \"type\": \"contourcarpet\"}], \"heatmap\": [{\"colorbar\": {\"outlinewidth\": 0, \"ticks\": \"\"}, \"colorscale\": [[0.0, \"#0d0887\"], [0.1111111111111111, \"#46039f\"], [0.2222222222222222, \"#7201a8\"], [0.3333333333333333, \"#9c179e\"], [0.4444444444444444, \"#bd3786\"], [0.5555555555555556, \"#d8576b\"], [0.6666666666666666, \"#ed7953\"], [0.7777777777777778, \"#fb9f3a\"], [0.8888888888888888, \"#fdca26\"], [1.0, \"#f0f921\"]], \"type\": \"heatmap\"}], \"heatmapgl\": [{\"colorbar\": {\"outlinewidth\": 0, \"ticks\": \"\"}, \"colorscale\": [[0.0, \"#0d0887\"], [0.1111111111111111, \"#46039f\"], [0.2222222222222222, \"#7201a8\"], [0.3333333333333333, \"#9c179e\"], [0.4444444444444444, \"#bd3786\"], [0.5555555555555556, \"#d8576b\"], [0.6666666666666666, \"#ed7953\"], [0.7777777777777778, \"#fb9f3a\"], [0.8888888888888888, \"#fdca26\"], [1.0, \"#f0f921\"]], \"type\": \"heatmapgl\"}], \"histogram\": [{\"marker\": {\"colorbar\": {\"outlinewidth\": 0, \"ticks\": \"\"}}, \"type\": \"histogram\"}], \"histogram2d\": [{\"colorbar\": {\"outlinewidth\": 0, \"ticks\": \"\"}, \"colorscale\": [[0.0, \"#0d0887\"], [0.1111111111111111, \"#46039f\"], [0.2222222222222222, \"#7201a8\"], [0.3333333333333333, \"#9c179e\"], [0.4444444444444444, \"#bd3786\"], [0.5555555555555556, \"#d8576b\"], [0.6666666666666666, \"#ed7953\"], [0.7777777777777778, \"#fb9f3a\"], [0.8888888888888888, \"#fdca26\"], [1.0, \"#f0f921\"]], \"type\": \"histogram2d\"}], \"histogram2dcontour\": [{\"colorbar\": {\"outlinewidth\": 0, \"ticks\": \"\"}, \"colorscale\": [[0.0, \"#0d0887\"], [0.1111111111111111, \"#46039f\"], [0.2222222222222222, \"#7201a8\"], [0.3333333333333333, \"#9c179e\"], [0.4444444444444444, \"#bd3786\"], [0.5555555555555556, \"#d8576b\"], [0.6666666666666666, \"#ed7953\"], [0.7777777777777778, \"#fb9f3a\"], [0.8888888888888888, \"#fdca26\"], [1.0, \"#f0f921\"]], \"type\": \"histogram2dcontour\"}], \"mesh3d\": [{\"colorbar\": {\"outlinewidth\": 0, \"ticks\": \"\"}, \"type\": \"mesh3d\"}], \"parcoords\": [{\"line\": {\"colorbar\": {\"outlinewidth\": 0, \"ticks\": \"\"}}, \"type\": \"parcoords\"}], \"pie\": [{\"automargin\": true, \"type\": \"pie\"}], \"scatter\": [{\"marker\": {\"colorbar\": {\"outlinewidth\": 0, \"ticks\": \"\"}}, \"type\": \"scatter\"}], \"scatter3d\": [{\"line\": {\"colorbar\": {\"outlinewidth\": 0, \"ticks\": \"\"}}, \"marker\": {\"colorbar\": {\"outlinewidth\": 0, \"ticks\": \"\"}}, \"type\": \"scatter3d\"}], \"scattercarpet\": [{\"marker\": {\"colorbar\": {\"outlinewidth\": 0, \"ticks\": \"\"}}, \"type\": \"scattercarpet\"}], \"scattergeo\": [{\"marker\": {\"colorbar\": {\"outlinewidth\": 0, \"ticks\": \"\"}}, \"type\": \"scattergeo\"}], \"scattergl\": [{\"marker\": {\"colorbar\": {\"outlinewidth\": 0, \"ticks\": \"\"}}, \"type\": \"scattergl\"}], \"scattermapbox\": [{\"marker\": {\"colorbar\": {\"outlinewidth\": 0, \"ticks\": \"\"}}, \"type\": \"scattermapbox\"}], \"scatterpolar\": [{\"marker\": {\"colorbar\": {\"outlinewidth\": 0, \"ticks\": \"\"}}, \"type\": \"scatterpolar\"}], \"scatterpolargl\": [{\"marker\": {\"colorbar\": {\"outlinewidth\": 0, \"ticks\": \"\"}}, \"type\": \"scatterpolargl\"}], \"scatterternary\": [{\"marker\": {\"colorbar\": {\"outlinewidth\": 0, \"ticks\": \"\"}}, \"type\": \"scatterternary\"}], \"surface\": [{\"colorbar\": {\"outlinewidth\": 0, \"ticks\": \"\"}, \"colorscale\": [[0.0, \"#0d0887\"], [0.1111111111111111, \"#46039f\"], [0.2222222222222222, \"#7201a8\"], [0.3333333333333333, \"#9c179e\"], [0.4444444444444444, \"#bd3786\"], [0.5555555555555556, \"#d8576b\"], [0.6666666666666666, \"#ed7953\"], [0.7777777777777778, \"#fb9f3a\"], [0.8888888888888888, \"#fdca26\"], [1.0, \"#f0f921\"]], \"type\": \"surface\"}], \"table\": [{\"cells\": {\"fill\": {\"color\": \"#EBF0F8\"}, \"line\": {\"color\": \"white\"}}, \"header\": {\"fill\": {\"color\": \"#C8D4E3\"}, \"line\": {\"color\": \"white\"}}, \"type\": \"table\"}]}, \"layout\": {\"annotationdefaults\": {\"arrowcolor\": \"#2a3f5f\", \"arrowhead\": 0, \"arrowwidth\": 1}, \"autotypenumbers\": \"strict\", \"coloraxis\": {\"colorbar\": {\"outlinewidth\": 0, \"ticks\": \"\"}}, \"colorscale\": {\"diverging\": [[0, \"#8e0152\"], [0.1, \"#c51b7d\"], [0.2, \"#de77ae\"], [0.3, \"#f1b6da\"], [0.4, \"#fde0ef\"], [0.5, \"#f7f7f7\"], [0.6, \"#e6f5d0\"], [0.7, \"#b8e186\"], [0.8, \"#7fbc41\"], [0.9, \"#4d9221\"], [1, \"#276419\"]], \"sequential\": [[0.0, \"#0d0887\"], [0.1111111111111111, \"#46039f\"], [0.2222222222222222, \"#7201a8\"], [0.3333333333333333, \"#9c179e\"], [0.4444444444444444, \"#bd3786\"], [0.5555555555555556, \"#d8576b\"], [0.6666666666666666, \"#ed7953\"], [0.7777777777777778, \"#fb9f3a\"], [0.8888888888888888, \"#fdca26\"], [1.0, \"#f0f921\"]], \"sequentialminus\": [[0.0, \"#0d0887\"], [0.1111111111111111, \"#46039f\"], [0.2222222222222222, \"#7201a8\"], [0.3333333333333333, \"#9c179e\"], [0.4444444444444444, \"#bd3786\"], [0.5555555555555556, \"#d8576b\"], [0.6666666666666666, \"#ed7953\"], [0.7777777777777778, \"#fb9f3a\"], [0.8888888888888888, \"#fdca26\"], [1.0, \"#f0f921\"]]}, \"colorway\": [\"#636efa\", \"#EF553B\", \"#00cc96\", \"#ab63fa\", \"#FFA15A\", \"#19d3f3\", \"#FF6692\", \"#B6E880\", \"#FF97FF\", \"#FECB52\"], \"font\": {\"color\": \"#2a3f5f\"}, \"geo\": {\"bgcolor\": \"white\", \"lakecolor\": \"white\", \"landcolor\": \"#E5ECF6\", \"showlakes\": true, \"showland\": true, \"subunitcolor\": \"white\"}, \"hoverlabel\": {\"align\": \"left\"}, \"hovermode\": \"closest\", \"mapbox\": {\"style\": \"light\"}, \"paper_bgcolor\": \"white\", \"plot_bgcolor\": \"#E5ECF6\", \"polar\": {\"angularaxis\": {\"gridcolor\": \"white\", \"linecolor\": \"white\", \"ticks\": \"\"}, \"bgcolor\": \"#E5ECF6\", \"radialaxis\": {\"gridcolor\": \"white\", \"linecolor\": \"white\", \"ticks\": \"\"}}, \"scene\": {\"xaxis\": {\"backgroundcolor\": \"#E5ECF6\", \"gridcolor\": \"white\", \"gridwidth\": 2, \"linecolor\": \"white\", \"showbackground\": true, \"ticks\": \"\", \"zerolinecolor\": \"white\"}, \"yaxis\": {\"backgroundcolor\": \"#E5ECF6\", \"gridcolor\": \"white\", \"gridwidth\": 2, \"linecolor\": \"white\", \"showbackground\": true, \"ticks\": \"\", \"zerolinecolor\": \"white\"}, \"zaxis\": {\"backgroundcolor\": \"#E5ECF6\", \"gridcolor\": \"white\", \"gridwidth\": 2, \"linecolor\": \"white\", \"showbackground\": true, \"ticks\": \"\", \"zerolinecolor\": \"white\"}}, \"shapedefaults\": {\"line\": {\"color\": \"#2a3f5f\"}}, \"ternary\": {\"aaxis\": {\"gridcolor\": \"white\", \"linecolor\": \"white\", \"ticks\": \"\"}, \"baxis\": {\"gridcolor\": \"white\", \"linecolor\": \"white\", \"ticks\": \"\"}, \"bgcolor\": \"#E5ECF6\", \"caxis\": {\"gridcolor\": \"white\", \"linecolor\": \"white\", \"ticks\": \"\"}}, \"title\": {\"x\": 0.05}, \"xaxis\": {\"automargin\": true, \"gridcolor\": \"white\", \"linecolor\": \"white\", \"ticks\": \"\", \"title\": {\"standoff\": 15}, \"zerolinecolor\": \"white\", \"zerolinewidth\": 2}, \"yaxis\": {\"automargin\": true, \"gridcolor\": \"white\", \"linecolor\": \"white\", \"ticks\": \"\", \"title\": {\"standoff\": 15}, \"zerolinecolor\": \"white\", \"zerolinewidth\": 2}}}, \"title\": {\"text\": \"Accidents Counts by States\", \"x\": 0.5}},                        {\"responsive\": true}                    ).then(function(){\n",
       "                            \n",
       "var gd = document.getElementById('72383871-3699-4f66-a83f-8fe8c37eb694');\n",
       "var x = new MutationObserver(function (mutations, observer) {{\n",
       "        var display = window.getComputedStyle(gd).display;\n",
       "        if (!display || display === 'none') {{\n",
       "            console.log([gd, 'removed!']);\n",
       "            Plotly.purge(gd);\n",
       "            observer.disconnect();\n",
       "        }}\n",
       "}});\n",
       "\n",
       "// Listen for the removal of the full notebook cells\n",
       "var notebookContainer = gd.closest('#notebook-container');\n",
       "if (notebookContainer) {{\n",
       "    x.observe(notebookContainer, {childList: true});\n",
       "}}\n",
       "\n",
       "// Listen for the clearing of the current output cell\n",
       "var outputEl = gd.closest('.output');\n",
       "if (outputEl) {{\n",
       "    x.observe(outputEl, {childList: true});\n",
       "}}\n",
       "\n",
       "                        })                };                });            </script>        </div>"
      ]
     },
     "metadata": {},
     "output_type": "display_data"
    }
   ],
   "source": [
    "fig = go.Figure(\n",
    "    data=go.Choropleth(\n",
    "        locations = pd.value_counts(df['State']).index, \n",
    "        z = pd.value_counts(df['State']).values.astype(float), \n",
    "        locationmode = 'USA-states', \n",
    "        colorscale = 'reds', \n",
    "        colorbar_title = \" Accident Counts\"), \n",
    "    \n",
    "    layout=go.Layout(\n",
    "        title_text='Accidents Counts by States', \n",
    "        title_x=0.5, \n",
    "        font=dict(family='Calibri', size=14, color='MidnightBlue'), \n",
    "        geo_scope='usa'))\n",
    "\n",
    "fig.show()"
   ]
  },
  {
   "cell_type": "code",
   "execution_count": null,
   "id": "33209c32",
   "metadata": {},
   "outputs": [],
   "source": []
  }
 ],
 "metadata": {
  "kernelspec": {
   "display_name": "Python 3",
   "language": "python",
   "name": "python3"
  },
  "language_info": {
   "codemirror_mode": {
    "name": "ipython",
    "version": 3
   },
   "file_extension": ".py",
   "mimetype": "text/x-python",
   "name": "python",
   "nbconvert_exporter": "python",
   "pygments_lexer": "ipython3",
   "version": "3.8.5"
  }
 },
 "nbformat": 4,
 "nbformat_minor": 5
}
